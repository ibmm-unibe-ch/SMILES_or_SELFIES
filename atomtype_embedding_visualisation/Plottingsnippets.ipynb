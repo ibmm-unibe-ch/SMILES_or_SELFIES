{
 "cells": [
  {
   "cell_type": "markdown",
   "metadata": {},
   "source": [
    "# Plot icons for atomtypes"
   ]
  },
  {
   "cell_type": "code",
   "execution_count": 1,
   "metadata": {},
   "outputs": [],
   "source": [
    "from rdkit import Chem\n",
    "from rdkit.Chem import Draw\n",
    "from IPython.display import SVG\n",
    "from rdkit.Chem.Draw import rdMolDraw2D"
   ]
  },
  {
   "cell_type": "code",
   "execution_count": 32,
   "metadata": {},
   "outputs": [],
   "source": [
    "def plot(smiles, withH=False):\n",
    "    # Generate a molecule object from the SMILES string\n",
    "    molecule = Chem.MolFromSmiles(smiles)\n",
    "    if withH:\n",
    "        molecule = Chem.AddHs(molecule)\n",
    "\n",
    "    # Create an SVG drawer\n",
    "    drawer = rdMolDraw2D.MolDraw2DSVG(400, 200)  # Specify the image size\n",
    "    opts = drawer.drawOptions()\n",
    "    \n",
    "    for i, atom in enumerate(molecule.GetAtoms()):\n",
    "        opts.atomLabels[i] = atom.GetSymbol()\n",
    "        charge = atom.GetFormalCharge()\n",
    "        if charge == -1:\n",
    "            charge_str = \"-\"  # Just a minus sign for -1 charge\n",
    "        elif charge > 0:\n",
    "            charge_str = f\"+{charge}\"\n",
    "            if charge == +1:\n",
    "                charge_str = f\"+\"\n",
    "        elif charge < -1:\n",
    "            charge_str = str(charge)  # Include the full charge for values less than -1\n",
    "        else:\n",
    "            charge_str = ''\n",
    "        opts.atomLabels[i] = f\"{atom.GetSymbol()}{charge_str}\"\n",
    "            \n",
    "    drawer.DrawMolecule(molecule)\n",
    "    drawer.FinishDrawing()\n",
    "\n",
    "    # Get the SVG string\n",
    "    svg = drawer.GetDrawingText().replace('svg:', '')\n",
    "\n",
    "    # Display the SVG\n",
    "    display(SVG(svg))"
   ]
  },
  {
   "cell_type": "markdown",
   "metadata": {},
   "source": [
    "## Plotting snippets for visualisation of atom types as described here: https://ambermd.org/antechamber/gaff.html#atomtype "
   ]
  },
  {
   "cell_type": "code",
   "execution_count": 69,
   "metadata": {},
   "outputs": [
    {
     "data": {
      "image/svg+xml": [
       "<svg xmlns=\"http://www.w3.org/2000/svg\" xmlns:rdkit=\"http://www.rdkit.org/xml\" xmlns:xlink=\"http://www.w3.org/1999/xlink\" version=\"1.1\" baseProfile=\"full\" xml:space=\"preserve\" width=\"400px\" height=\"200px\" viewBox=\"0 0 400 200\">\n",
       "<!-- END OF HEADER -->\n",
       "<rect style=\"opacity:1.0;fill:#FFFFFF;stroke:none\" width=\"400.0\" height=\"200.0\" x=\"0.0\" y=\"0.0\"> </rect>\n",
       "<path class=\"bond-0 atom-0 atom-1\" d=\"M 127.2,167.0 L 185.8,133.2\" style=\"fill:none;fill-rule:evenodd;stroke:#000000;stroke-width:2.0px;stroke-linecap:butt;stroke-linejoin:miter;stroke-opacity:1\"/>\n",
       "<path class=\"bond-1 atom-1 atom-2\" d=\"M 207.5,107.3 L 207.5,74.9\" style=\"fill:none;fill-rule:evenodd;stroke:#000000;stroke-width:2.0px;stroke-linecap:butt;stroke-linejoin:miter;stroke-opacity:1\"/>\n",
       "<path class=\"bond-1 atom-1 atom-2\" d=\"M 207.5,74.9 L 207.5,42.5\" style=\"fill:none;fill-rule:evenodd;stroke:#FF0000;stroke-width:2.0px;stroke-linecap:butt;stroke-linejoin:miter;stroke-opacity:1\"/>\n",
       "<path class=\"bond-1 atom-1 atom-2\" d=\"M 192.5,107.3 L 192.5,74.9\" style=\"fill:none;fill-rule:evenodd;stroke:#000000;stroke-width:2.0px;stroke-linecap:butt;stroke-linejoin:miter;stroke-opacity:1\"/>\n",
       "<path class=\"bond-1 atom-1 atom-2\" d=\"M 192.5,74.9 L 192.5,42.5\" style=\"fill:none;fill-rule:evenodd;stroke:#FF0000;stroke-width:2.0px;stroke-linecap:butt;stroke-linejoin:miter;stroke-opacity:1\"/>\n",
       "<path class=\"bond-2 atom-1 atom-3\" d=\"M 214.2,133.2 L 272.8,167.0\" style=\"fill:none;fill-rule:evenodd;stroke:#000000;stroke-width:2.0px;stroke-linecap:butt;stroke-linejoin:miter;stroke-opacity:1\"/>\n",
       "<path class=\"atom-0\" d=\"M 102.0 175.4 Q 102.0 168.3, 105.3 164.6 Q 108.6 160.9, 114.9 160.9 Q 120.7 160.9, 123.8 165.0 L 121.2 167.2 Q 118.9 164.2, 114.9 164.2 Q 110.6 164.2, 108.3 167.1 Q 106.1 169.9, 106.1 175.4 Q 106.1 181.0, 108.4 183.8 Q 110.8 186.7, 115.3 186.7 Q 118.4 186.7, 122.1 184.8 L 123.2 187.8 Q 121.7 188.8, 119.5 189.4 Q 117.2 189.9, 114.8 189.9 Q 108.6 189.9, 105.3 186.2 Q 102.0 182.4, 102.0 175.4 \" fill=\"#000000\"/>\n",
       "<path class=\"atom-1\" d=\"M 189.1 125.1 Q 189.1 118.0, 192.4 114.4 Q 195.7 110.6, 202.0 110.6 Q 207.8 110.6, 210.9 114.8 L 208.3 116.9 Q 206.0 113.9, 202.0 113.9 Q 197.7 113.9, 195.4 116.8 Q 193.2 119.6, 193.2 125.1 Q 193.2 130.7, 195.5 133.6 Q 197.8 136.4, 202.4 136.4 Q 205.5 136.4, 209.2 134.6 L 210.3 137.6 Q 208.8 138.5, 206.6 139.1 Q 204.3 139.6, 201.8 139.6 Q 195.7 139.6, 192.4 135.9 Q 189.1 132.1, 189.1 125.1 \" fill=\"#000000\"/>\n",
       "<path class=\"atom-2\" d=\"M 187.0 24.5 Q 187.0 17.7, 190.4 13.9 Q 193.7 10.1, 200.0 10.1 Q 206.3 10.1, 209.6 13.9 Q 213.0 17.7, 213.0 24.5 Q 213.0 31.4, 209.6 35.3 Q 206.2 39.2, 200.0 39.2 Q 193.8 39.2, 190.4 35.3 Q 187.0 31.4, 187.0 24.5 M 200.0 36.0 Q 204.3 36.0, 206.6 33.1 Q 209.0 30.2, 209.0 24.5 Q 209.0 18.9, 206.6 16.1 Q 204.3 13.3, 200.0 13.3 Q 195.7 13.3, 193.3 16.1 Q 191.0 18.9, 191.0 24.5 Q 191.0 30.2, 193.3 33.1 Q 195.7 36.0, 200.0 36.0 \" fill=\"#FF0000\"/>\n",
       "<path class=\"atom-3\" d=\"M 276.2 175.4 Q 276.2 168.3, 279.4 164.6 Q 282.8 160.9, 289.0 160.9 Q 294.9 160.9, 298.0 165.0 L 295.4 167.2 Q 293.1 164.2, 289.0 164.2 Q 284.8 164.2, 282.5 167.1 Q 280.2 169.9, 280.2 175.4 Q 280.2 181.0, 282.6 183.8 Q 284.9 186.7, 289.5 186.7 Q 292.6 186.7, 296.2 184.8 L 297.4 187.8 Q 295.9 188.8, 293.6 189.4 Q 291.4 189.9, 288.9 189.9 Q 282.8 189.9, 279.4 186.2 Q 276.2 182.4, 276.2 175.4 \" fill=\"#000000\"/>\n",
       "</svg>"
      ],
      "text/plain": [
       "<IPython.core.display.SVG object>"
      ]
     },
     "metadata": {},
     "output_type": "display_data"
    },
    {
     "data": {
      "image/svg+xml": [
       "<svg xmlns=\"http://www.w3.org/2000/svg\" xmlns:rdkit=\"http://www.rdkit.org/xml\" xmlns:xlink=\"http://www.w3.org/1999/xlink\" version=\"1.1\" baseProfile=\"full\" xml:space=\"preserve\" width=\"400px\" height=\"200px\" viewBox=\"0 0 400 200\">\n",
       "<!-- END OF HEADER -->\n",
       "<rect style=\"opacity:1.0;fill:#FFFFFF;stroke:none\" width=\"400.0\" height=\"200.0\" x=\"0.0\" y=\"0.0\"> </rect>\n",
       "<path class=\"bond-0 atom-0 atom-1\" d=\"M 127.1,167.0 L 185.8,133.1\" style=\"fill:none;fill-rule:evenodd;stroke:#000000;stroke-width:2.0px;stroke-linecap:butt;stroke-linejoin:miter;stroke-opacity:1\"/>\n",
       "<path class=\"bond-1 atom-1 atom-2\" d=\"M 207.6,107.2 L 207.6,74.8\" style=\"fill:none;fill-rule:evenodd;stroke:#000000;stroke-width:2.0px;stroke-linecap:butt;stroke-linejoin:miter;stroke-opacity:1\"/>\n",
       "<path class=\"bond-1 atom-1 atom-2\" d=\"M 207.6,74.8 L 207.6,42.4\" style=\"fill:none;fill-rule:evenodd;stroke:#CCCC00;stroke-width:2.0px;stroke-linecap:butt;stroke-linejoin:miter;stroke-opacity:1\"/>\n",
       "<path class=\"bond-1 atom-1 atom-2\" d=\"M 192.4,107.2 L 192.4,74.8\" style=\"fill:none;fill-rule:evenodd;stroke:#000000;stroke-width:2.0px;stroke-linecap:butt;stroke-linejoin:miter;stroke-opacity:1\"/>\n",
       "<path class=\"bond-1 atom-1 atom-2\" d=\"M 192.4,74.8 L 192.4,42.4\" style=\"fill:none;fill-rule:evenodd;stroke:#CCCC00;stroke-width:2.0px;stroke-linecap:butt;stroke-linejoin:miter;stroke-opacity:1\"/>\n",
       "<path class=\"bond-2 atom-1 atom-3\" d=\"M 214.2,133.1 L 272.9,167.0\" style=\"fill:none;fill-rule:evenodd;stroke:#000000;stroke-width:2.0px;stroke-linecap:butt;stroke-linejoin:miter;stroke-opacity:1\"/>\n",
       "<path class=\"atom-0\" d=\"M 101.9 175.3 Q 101.9 168.3, 105.2 164.6 Q 108.5 160.9, 114.8 160.9 Q 120.6 160.9, 123.7 165.0 L 121.1 167.2 Q 118.8 164.2, 114.8 164.2 Q 110.5 164.2, 108.2 167.1 Q 106.0 169.9, 106.0 175.3 Q 106.0 180.9, 108.3 183.8 Q 110.7 186.7, 115.2 186.7 Q 118.3 186.7, 122.0 184.8 L 123.1 187.8 Q 121.6 188.8, 119.4 189.3 Q 117.1 189.9, 114.7 189.9 Q 108.5 189.9, 105.2 186.1 Q 101.9 182.4, 101.9 175.3 \" fill=\"#000000\"/>\n",
       "<path class=\"atom-1\" d=\"M 189.1 125.0 Q 189.1 118.0, 192.4 114.3 Q 195.7 110.6, 202.0 110.6 Q 207.8 110.6, 210.9 114.7 L 208.3 116.8 Q 206.0 113.8, 202.0 113.8 Q 197.7 113.8, 195.4 116.7 Q 193.2 119.6, 193.2 125.0 Q 193.2 130.6, 195.5 133.5 Q 197.8 136.4, 202.4 136.4 Q 205.5 136.4, 209.2 134.5 L 210.3 137.5 Q 208.8 138.4, 206.6 139.0 Q 204.3 139.6, 201.8 139.6 Q 195.7 139.6, 192.4 135.8 Q 189.1 132.0, 189.1 125.0 \" fill=\"#000000\"/>\n",
       "<path class=\"atom-2\" d=\"M 192.0 33.9 Q 192.3 34.1, 193.6 34.6 Q 195.0 35.2, 196.4 35.5 Q 197.9 35.9, 199.3 35.9 Q 202.0 35.9, 203.6 34.6 Q 205.1 33.3, 205.1 31.0 Q 205.1 29.4, 204.3 28.5 Q 203.6 27.5, 202.4 27.0 Q 201.2 26.5, 199.2 25.9 Q 196.6 25.1, 195.1 24.4 Q 193.6 23.7, 192.6 22.1 Q 191.5 20.6, 191.5 18.1 Q 191.5 14.5, 193.9 12.3 Q 196.4 10.1, 201.2 10.1 Q 204.4 10.1, 208.2 11.7 L 207.2 14.7 Q 203.8 13.3, 201.3 13.3 Q 198.5 13.3, 197.0 14.5 Q 195.5 15.6, 195.5 17.6 Q 195.5 19.1, 196.3 20.0 Q 197.1 20.9, 198.2 21.5 Q 199.4 22.0, 201.3 22.6 Q 203.8 23.4, 205.4 24.2 Q 206.9 25.0, 208.0 26.6 Q 209.1 28.2, 209.1 31.0 Q 209.1 34.9, 206.4 37.0 Q 203.8 39.1, 199.5 39.1 Q 197.0 39.1, 195.0 38.5 Q 193.2 38.0, 190.9 37.1 L 192.0 33.9 \" fill=\"#CCCC00\"/>\n",
       "<path class=\"atom-3\" d=\"M 276.3 175.3 Q 276.3 168.3, 279.5 164.6 Q 282.9 160.9, 289.1 160.9 Q 295.0 160.9, 298.1 165.0 L 295.5 167.2 Q 293.2 164.2, 289.1 164.2 Q 284.9 164.2, 282.6 167.1 Q 280.3 169.9, 280.3 175.3 Q 280.3 180.9, 282.7 183.8 Q 285.0 186.7, 289.6 186.7 Q 292.7 186.7, 296.3 184.8 L 297.5 187.8 Q 296.0 188.8, 293.7 189.3 Q 291.5 189.9, 289.0 189.9 Q 282.9 189.9, 279.5 186.1 Q 276.3 182.4, 276.3 175.3 \" fill=\"#000000\"/>\n",
       "</svg>"
      ],
      "text/plain": [
       "<IPython.core.display.SVG object>"
      ]
     },
     "metadata": {},
     "output_type": "display_data"
    },
    {
     "data": {
      "image/svg+xml": [
       "<svg xmlns=\"http://www.w3.org/2000/svg\" xmlns:rdkit=\"http://www.rdkit.org/xml\" xmlns:xlink=\"http://www.w3.org/1999/xlink\" version=\"1.1\" baseProfile=\"full\" xml:space=\"preserve\" width=\"400px\" height=\"200px\" viewBox=\"0 0 400 200\">\n",
       "<!-- END OF HEADER -->\n",
       "<rect style=\"opacity:1.0;fill:#FFFFFF;stroke:none\" width=\"400.0\" height=\"200.0\" x=\"0.0\" y=\"0.0\"> </rect>\n",
       "<path class=\"bond-0 atom-0 atom-1\" d=\"M 327.1,100.0 L 72.9,100.0\" style=\"fill:none;fill-rule:evenodd;stroke:#000000;stroke-width:2.0px;stroke-linecap:butt;stroke-linejoin:miter;stroke-opacity:1\"/>\n",
       "<path class=\"bond-0 atom-0 atom-1\" d=\"M 327.1,144.3 L 72.9,144.3\" style=\"fill:none;fill-rule:evenodd;stroke:#000000;stroke-width:2.0px;stroke-linecap:butt;stroke-linejoin:miter;stroke-opacity:1\"/>\n",
       "<path class=\"bond-0 atom-0 atom-1\" d=\"M 327.1,55.7 L 72.9,55.7\" style=\"fill:none;fill-rule:evenodd;stroke:#000000;stroke-width:2.0px;stroke-linecap:butt;stroke-linejoin:miter;stroke-opacity:1\"/>\n",
       "<path class=\"atom-0\" d=\"M 336.8 100.1 Q 336.8 93.1, 340.1 89.4 Q 343.4 85.7, 349.7 85.7 Q 355.5 85.7, 358.7 89.8 L 356.0 92.0 Q 353.7 89.0, 349.7 89.0 Q 345.4 89.0, 343.1 91.8 Q 340.9 94.7, 340.9 100.1 Q 340.9 105.7, 343.2 108.6 Q 345.6 111.5, 350.1 111.5 Q 353.3 111.5, 356.9 109.6 L 358.0 112.6 Q 356.5 113.6, 354.3 114.1 Q 352.1 114.7, 349.6 114.7 Q 343.4 114.7, 340.1 110.9 Q 336.8 107.2, 336.8 100.1 \" fill=\"#000000\"/>\n",
       "<path class=\"atom-1\" d=\"M 41.3 100.1 Q 41.3 93.1, 44.6 89.4 Q 47.9 85.7, 54.2 85.7 Q 60.1 85.7, 63.2 89.8 L 60.5 92.0 Q 58.3 89.0, 54.2 89.0 Q 49.9 89.0, 47.7 91.8 Q 45.4 94.7, 45.4 100.1 Q 45.4 105.7, 47.7 108.6 Q 50.1 111.5, 54.7 111.5 Q 57.8 111.5, 61.4 109.6 L 62.5 112.6 Q 61.1 113.6, 58.8 114.1 Q 56.6 114.7, 54.1 114.7 Q 47.9 114.7, 44.6 110.9 Q 41.3 107.2, 41.3 100.1 \" fill=\"#000000\"/>\n",
       "</svg>"
      ],
      "text/plain": [
       "<IPython.core.display.SVG object>"
      ]
     },
     "metadata": {},
     "output_type": "display_data"
    },
    {
     "data": {
      "image/svg+xml": [
       "<svg xmlns=\"http://www.w3.org/2000/svg\" xmlns:rdkit=\"http://www.rdkit.org/xml\" xmlns:xlink=\"http://www.w3.org/1999/xlink\" version=\"1.1\" baseProfile=\"full\" xml:space=\"preserve\" width=\"400px\" height=\"200px\" viewBox=\"0 0 400 200\">\n",
       "<!-- END OF HEADER -->\n",
       "<rect style=\"opacity:1.0;fill:#FFFFFF;stroke:none\" width=\"400.0\" height=\"200.0\" x=\"0.0\" y=\"0.0\"> </rect>\n",
       "<path class=\"bond-0 atom-0 atom-1\" d=\"M 72.9,77.8 L 327.1,77.8\" style=\"fill:none;fill-rule:evenodd;stroke:#000000;stroke-width:2.0px;stroke-linecap:butt;stroke-linejoin:miter;stroke-opacity:1\"/>\n",
       "<path class=\"bond-0 atom-0 atom-1\" d=\"M 72.9,122.2 L 327.1,122.2\" style=\"fill:none;fill-rule:evenodd;stroke:#000000;stroke-width:2.0px;stroke-linecap:butt;stroke-linejoin:miter;stroke-opacity:1\"/>\n",
       "<path class=\"atom-0\" d=\"M 41.3 100.1 Q 41.3 93.1, 44.6 89.4 Q 47.9 85.7, 54.2 85.7 Q 60.1 85.7, 63.2 89.8 L 60.5 92.0 Q 58.3 89.0, 54.2 89.0 Q 49.9 89.0, 47.7 91.8 Q 45.4 94.7, 45.4 100.1 Q 45.4 105.7, 47.7 108.6 Q 50.1 111.5, 54.7 111.5 Q 57.8 111.5, 61.4 109.6 L 62.5 112.6 Q 61.1 113.6, 58.8 114.1 Q 56.6 114.7, 54.1 114.7 Q 47.9 114.7, 44.6 110.9 Q 41.3 107.2, 41.3 100.1 \" fill=\"#000000\"/>\n",
       "<path class=\"atom-1\" d=\"M 336.8 100.1 Q 336.8 93.1, 340.1 89.4 Q 343.4 85.7, 349.7 85.7 Q 355.5 85.7, 358.7 89.8 L 356.0 92.0 Q 353.7 89.0, 349.7 89.0 Q 345.4 89.0, 343.1 91.8 Q 340.9 94.7, 340.9 100.1 Q 340.9 105.7, 343.2 108.6 Q 345.6 111.5, 350.1 111.5 Q 353.3 111.5, 356.9 109.6 L 358.0 112.6 Q 356.5 113.6, 354.3 114.1 Q 352.1 114.7, 349.6 114.7 Q 343.4 114.7, 340.1 110.9 Q 336.8 107.2, 336.8 100.1 \" fill=\"#000000\"/>\n",
       "</svg>"
      ],
      "text/plain": [
       "<IPython.core.display.SVG object>"
      ]
     },
     "metadata": {},
     "output_type": "display_data"
    },
    {
     "data": {
      "image/svg+xml": [
       "<svg xmlns=\"http://www.w3.org/2000/svg\" xmlns:rdkit=\"http://www.rdkit.org/xml\" xmlns:xlink=\"http://www.w3.org/1999/xlink\" version=\"1.1\" baseProfile=\"full\" xml:space=\"preserve\" width=\"400px\" height=\"200px\" viewBox=\"0 0 400 200\">\n",
       "<!-- END OF HEADER -->\n",
       "<rect style=\"opacity:1.0;fill:#FFFFFF;stroke:none\" width=\"400.0\" height=\"200.0\" x=\"0.0\" y=\"0.0\"> </rect>\n",
       "<path class=\"bond-0 atom-0 atom-1\" d=\"M 44.6,116.2 L 101.4,83.4\" style=\"fill:none;fill-rule:evenodd;stroke:#000000;stroke-width:2.0px;stroke-linecap:butt;stroke-linejoin:miter;stroke-opacity:1\"/>\n",
       "<path class=\"bond-1 atom-1 atom-2\" d=\"M 129.2,83.4 L 186.1,116.2\" style=\"fill:none;fill-rule:evenodd;stroke:#000000;stroke-width:2.0px;stroke-linecap:butt;stroke-linejoin:miter;stroke-opacity:1\"/>\n",
       "<path class=\"bond-2 atom-2 atom-3\" d=\"M 213.9,116.2 L 270.8,83.4\" style=\"fill:none;fill-rule:evenodd;stroke:#000000;stroke-width:2.0px;stroke-linecap:butt;stroke-linejoin:miter;stroke-opacity:1\"/>\n",
       "<path class=\"bond-3 atom-3 atom-4\" d=\"M 298.6,83.4 L 355.4,116.2\" style=\"fill:none;fill-rule:evenodd;stroke:#000000;stroke-width:2.0px;stroke-linecap:butt;stroke-linejoin:miter;stroke-opacity:1\"/>\n",
       "<path class=\"atom-0\" d=\"M 20.0 124.4 Q 20.0 117.5, 23.2 113.9 Q 26.5 110.3, 32.6 110.3 Q 38.3 110.3, 41.4 114.3 L 38.8 116.4 Q 36.5 113.5, 32.6 113.5 Q 28.4 113.5, 26.2 116.3 Q 24.0 119.1, 24.0 124.4 Q 24.0 129.9, 26.3 132.7 Q 28.6 135.5, 33.0 135.5 Q 36.1 135.5, 39.6 133.6 L 40.7 136.6 Q 39.3 137.5, 37.1 138.1 Q 34.9 138.6, 32.5 138.6 Q 26.5 138.6, 23.2 134.9 Q 20.0 131.3, 20.0 124.4 \" fill=\"#000000\"/>\n",
       "<path class=\"atom-1\" d=\"M 104.7 75.5 Q 104.7 68.6, 107.9 65.0 Q 111.1 61.4, 117.3 61.4 Q 123.0 61.4, 126.0 65.4 L 123.4 67.5 Q 121.2 64.6, 117.3 64.6 Q 113.1 64.6, 110.8 67.4 Q 108.7 70.2, 108.7 75.5 Q 108.7 81.0, 110.9 83.8 Q 113.2 86.6, 117.7 86.6 Q 120.7 86.6, 124.3 84.8 L 125.4 87.7 Q 123.9 88.6, 121.8 89.2 Q 119.6 89.7, 117.1 89.7 Q 111.1 89.7, 107.9 86.1 Q 104.7 82.4, 104.7 75.5 \" fill=\"#000000\"/>\n",
       "<path class=\"atom-2\" d=\"M 189.3 124.4 Q 189.3 117.5, 192.5 113.9 Q 195.8 110.3, 201.9 110.3 Q 207.6 110.3, 210.7 114.3 L 208.1 116.4 Q 205.9 113.5, 201.9 113.5 Q 197.7 113.5, 195.5 116.3 Q 193.3 119.1, 193.3 124.4 Q 193.3 129.9, 195.6 132.7 Q 197.9 135.5, 202.3 135.5 Q 205.4 135.5, 209.0 133.6 L 210.0 136.6 Q 208.6 137.5, 206.4 138.1 Q 204.2 138.6, 201.8 138.6 Q 195.8 138.6, 192.5 134.9 Q 189.3 131.3, 189.3 124.4 \" fill=\"#000000\"/>\n",
       "<path class=\"atom-3\" d=\"M 274.0 75.5 Q 274.0 68.6, 277.2 65.0 Q 280.4 61.4, 286.6 61.4 Q 292.3 61.4, 295.3 65.4 L 292.8 67.5 Q 290.5 64.6, 286.6 64.6 Q 282.4 64.6, 280.2 67.4 Q 278.0 70.2, 278.0 75.5 Q 278.0 81.0, 280.2 83.8 Q 282.6 86.6, 287.0 86.6 Q 290.1 86.6, 293.6 84.8 L 294.7 87.7 Q 293.3 88.6, 291.1 89.2 Q 288.9 89.7, 286.5 89.7 Q 280.4 89.7, 277.2 86.1 Q 274.0 82.4, 274.0 75.5 \" fill=\"#000000\"/>\n",
       "<path class=\"atom-4\" d=\"M 358.6 124.4 Q 358.6 117.5, 361.9 113.9 Q 365.1 110.3, 371.2 110.3 Q 376.9 110.3, 380.0 114.3 L 377.4 116.4 Q 375.2 113.5, 371.2 113.5 Q 367.1 113.5, 364.8 116.3 Q 362.6 119.1, 362.6 124.4 Q 362.6 129.9, 364.9 132.7 Q 367.2 135.5, 371.7 135.5 Q 374.7 135.5, 378.3 133.6 L 379.4 136.6 Q 377.9 137.5, 375.7 138.1 Q 373.5 138.6, 371.1 138.6 Q 365.1 138.6, 361.9 134.9 Q 358.6 131.3, 358.6 124.4 \" fill=\"#000000\"/>\n",
       "</svg>"
      ],
      "text/plain": [
       "<IPython.core.display.SVG object>"
      ]
     },
     "metadata": {},
     "output_type": "display_data"
    },
    {
     "data": {
      "image/svg+xml": [
       "<svg xmlns=\"http://www.w3.org/2000/svg\" xmlns:rdkit=\"http://www.rdkit.org/xml\" xmlns:xlink=\"http://www.w3.org/1999/xlink\" version=\"1.1\" baseProfile=\"full\" xml:space=\"preserve\" width=\"400px\" height=\"200px\" viewBox=\"0 0 400 200\">\n",
       "<!-- END OF HEADER -->\n",
       "<rect style=\"opacity:1.0;fill:#FFFFFF;stroke:none\" width=\"400.0\" height=\"200.0\" x=\"0.0\" y=\"0.0\"> </rect>\n",
       "<path class=\"bond-0 atom-0 atom-1\" d=\"M 279.8,115.8 L 253.6,161.2\" style=\"fill:none;fill-rule:evenodd;stroke:#000000;stroke-width:2.0px;stroke-linecap:butt;stroke-linejoin:miter;stroke-opacity:1\"/>\n",
       "<path class=\"bond-0 atom-0 atom-1\" d=\"M 268.2,109.2 L 242.0,154.6\" style=\"fill:none;fill-rule:evenodd;stroke:#000000;stroke-width:2.0px;stroke-linecap:butt;stroke-linejoin:miter;stroke-opacity:1\"/>\n",
       "<path class=\"bond-1 atom-1 atom-2\" d=\"M 231.9,176.9 L 168.1,176.9\" style=\"fill:none;fill-rule:evenodd;stroke:#000000;stroke-width:2.0px;stroke-linecap:butt;stroke-linejoin:miter;stroke-opacity:1\"/>\n",
       "<path class=\"bond-2 atom-2 atom-3\" d=\"M 146.4,161.2 L 120.2,115.8\" style=\"fill:none;fill-rule:evenodd;stroke:#000000;stroke-width:2.0px;stroke-linecap:butt;stroke-linejoin:miter;stroke-opacity:1\"/>\n",
       "<path class=\"bond-2 atom-2 atom-3\" d=\"M 158.0,154.6 L 131.8,109.2\" style=\"fill:none;fill-rule:evenodd;stroke:#000000;stroke-width:2.0px;stroke-linecap:butt;stroke-linejoin:miter;stroke-opacity:1\"/>\n",
       "<path class=\"bond-3 atom-3 atom-4\" d=\"M 120.0,84.2 L 146.2,38.8\" style=\"fill:none;fill-rule:evenodd;stroke:#000000;stroke-width:2.0px;stroke-linecap:butt;stroke-linejoin:miter;stroke-opacity:1\"/>\n",
       "<path class=\"bond-4 atom-4 atom-5\" d=\"M 168.1,22.7 L 231.9,22.7\" style=\"fill:none;fill-rule:evenodd;stroke:#000000;stroke-width:2.0px;stroke-linecap:butt;stroke-linejoin:miter;stroke-opacity:1\"/>\n",
       "<path class=\"bond-4 atom-4 atom-5\" d=\"M 168.1,36.1 L 231.9,36.1\" style=\"fill:none;fill-rule:evenodd;stroke:#000000;stroke-width:2.0px;stroke-linecap:butt;stroke-linejoin:miter;stroke-opacity:1\"/>\n",
       "<path class=\"bond-5 atom-5 atom-0\" d=\"M 253.8,38.8 L 280.0,84.2\" style=\"fill:none;fill-rule:evenodd;stroke:#000000;stroke-width:2.0px;stroke-linecap:butt;stroke-linejoin:miter;stroke-opacity:1\"/>\n",
       "<path class=\"atom-0\" d=\"M 279.3 99.9 Q 279.3 93.7, 282.2 90.4 Q 285.2 87.1, 290.8 87.1 Q 296.0 87.1, 298.7 90.8 L 296.4 92.7 Q 294.4 90.0, 290.8 90.0 Q 287.0 90.0, 284.9 92.6 Q 282.9 95.1, 282.9 99.9 Q 282.9 104.9, 285.0 107.5 Q 287.1 110.1, 291.2 110.1 Q 293.9 110.1, 297.2 108.4 L 298.2 111.1 Q 296.9 111.9, 294.9 112.4 Q 292.9 112.9, 290.7 112.9 Q 285.2 112.9, 282.2 109.6 Q 279.3 106.2, 279.3 99.9 \" fill=\"#000000\"/>\n",
       "<path class=\"atom-1\" d=\"M 234.8 177.0 Q 234.8 170.8, 237.7 167.5 Q 240.7 164.2, 246.3 164.2 Q 251.5 164.2, 254.2 167.9 L 251.9 169.8 Q 249.9 167.1, 246.3 167.1 Q 242.4 167.1, 240.4 169.7 Q 238.4 172.2, 238.4 177.0 Q 238.4 182.0, 240.5 184.6 Q 242.6 187.2, 246.6 187.2 Q 249.4 187.2, 252.7 185.5 L 253.7 188.1 Q 252.3 189.0, 250.3 189.5 Q 248.4 190.0, 246.1 190.0 Q 240.7 190.0, 237.7 186.7 Q 234.8 183.3, 234.8 177.0 \" fill=\"#000000\"/>\n",
       "<path class=\"atom-2\" d=\"M 145.8 177.0 Q 145.8 170.8, 148.7 167.5 Q 151.6 164.2, 157.2 164.2 Q 162.4 164.2, 165.2 167.9 L 162.9 169.8 Q 160.8 167.1, 157.2 167.1 Q 153.4 167.1, 151.4 169.7 Q 149.4 172.2, 149.4 177.0 Q 149.4 182.0, 151.5 184.6 Q 153.6 187.2, 157.6 187.2 Q 160.4 187.2, 163.6 185.5 L 164.6 188.1 Q 163.3 189.0, 161.3 189.5 Q 159.3 190.0, 157.1 190.0 Q 151.6 190.0, 148.7 186.7 Q 145.8 183.3, 145.8 177.0 \" fill=\"#000000\"/>\n",
       "<path class=\"atom-3\" d=\"M 101.3 99.9 Q 101.3 93.7, 104.2 90.4 Q 107.1 87.1, 112.7 87.1 Q 117.9 87.1, 120.7 90.8 L 118.4 92.7 Q 116.3 90.0, 112.7 90.0 Q 108.9 90.0, 106.9 92.6 Q 104.9 95.1, 104.9 99.9 Q 104.9 104.9, 107.0 107.5 Q 109.1 110.1, 113.1 110.1 Q 115.9 110.1, 119.1 108.4 L 120.1 111.1 Q 118.8 111.9, 116.8 112.4 Q 114.8 112.9, 112.6 112.9 Q 107.1 112.9, 104.2 109.6 Q 101.3 106.2, 101.3 99.9 \" fill=\"#000000\"/>\n",
       "<path class=\"atom-4\" d=\"M 145.8 22.9 Q 145.8 16.6, 148.7 13.3 Q 151.6 10.0, 157.2 10.0 Q 162.4 10.0, 165.2 13.7 L 162.9 15.6 Q 160.8 12.9, 157.2 12.9 Q 153.4 12.9, 151.4 15.5 Q 149.4 18.0, 149.4 22.9 Q 149.4 27.8, 151.5 30.4 Q 153.6 33.0, 157.6 33.0 Q 160.4 33.0, 163.6 31.3 L 164.6 34.0 Q 163.3 34.8, 161.3 35.3 Q 159.3 35.8, 157.1 35.8 Q 151.6 35.8, 148.7 32.5 Q 145.8 29.1, 145.8 22.9 \" fill=\"#000000\"/>\n",
       "<path class=\"atom-5\" d=\"M 234.8 22.9 Q 234.8 16.6, 237.7 13.3 Q 240.7 10.0, 246.3 10.0 Q 251.5 10.0, 254.2 13.7 L 251.9 15.6 Q 249.9 12.9, 246.3 12.9 Q 242.4 12.9, 240.4 15.5 Q 238.4 18.0, 238.4 22.9 Q 238.4 27.8, 240.5 30.4 Q 242.6 33.0, 246.6 33.0 Q 249.4 33.0, 252.7 31.3 L 253.7 34.0 Q 252.3 34.8, 250.3 35.3 Q 248.4 35.8, 246.1 35.8 Q 240.7 35.8, 237.7 32.5 Q 234.8 29.1, 234.8 22.9 \" fill=\"#000000\"/>\n",
       "</svg>"
      ],
      "text/plain": [
       "<IPython.core.display.SVG object>"
      ]
     },
     "metadata": {},
     "output_type": "display_data"
    }
   ],
   "source": [
    "# for c: sp2 c in C=O, C=S --> correct\n",
    "smiles = 'CC(=O)C' \n",
    "plot(smiles)\n",
    "smiles = 'CC(=S)C'\n",
    "plot(smiles)\n",
    "\n",
    "# for c1:  for sp1 carbon --> correct, example Ethin\n",
    "smiles = 'C#C'\n",
    "plot(smiles)\n",
    "\n",
    "# for c2: for sp2 C, aliphatic carbon, yes, Ethen\n",
    "smiles = 'C=C'\n",
    "plot(smiles)\n",
    "\n",
    "# for c3: sp3 carbon --> correct --> pentane\n",
    "smiles = 'CCCCC'\n",
    "plot(smiles)\n",
    "\n",
    "# for ca: aromatic carbon --> yes\n",
    "smiles = 'c1ccccc1'\n",
    "plot(smiles)\n",
    "\n"
   ]
  },
  {
   "cell_type": "code",
   "execution_count": 24,
   "metadata": {},
   "outputs": [
    {
     "data": {
      "image/svg+xml": [
       "<svg xmlns=\"http://www.w3.org/2000/svg\" xmlns:rdkit=\"http://www.rdkit.org/xml\" xmlns:xlink=\"http://www.w3.org/1999/xlink\" version=\"1.1\" baseProfile=\"full\" xml:space=\"preserve\" width=\"400px\" height=\"200px\" viewBox=\"0 0 400 200\">\n",
       "<!-- END OF HEADER -->\n",
       "<rect style=\"opacity:1.0;fill:#FFFFFF;stroke:none\" width=\"400.0\" height=\"200.0\" x=\"0.0\" y=\"0.0\"> </rect>\n",
       "<path class=\"bond-0 atom-0 atom-1\" d=\"M 116.8,166.9 L 175.4,133.1\" style=\"fill:none;fill-rule:evenodd;stroke:#000000;stroke-width:2.0px;stroke-linecap:butt;stroke-linejoin:miter;stroke-opacity:1\"/>\n",
       "<path class=\"bond-1 atom-1 atom-2\" d=\"M 197.1,107.3 L 197.1,74.9\" style=\"fill:none;fill-rule:evenodd;stroke:#000000;stroke-width:2.0px;stroke-linecap:butt;stroke-linejoin:miter;stroke-opacity:1\"/>\n",
       "<path class=\"bond-1 atom-1 atom-2\" d=\"M 197.1,74.9 L 197.1,42.5\" style=\"fill:none;fill-rule:evenodd;stroke:#FF0000;stroke-width:2.0px;stroke-linecap:butt;stroke-linejoin:miter;stroke-opacity:1\"/>\n",
       "<path class=\"bond-1 atom-1 atom-2\" d=\"M 182.1,107.3 L 182.1,74.9\" style=\"fill:none;fill-rule:evenodd;stroke:#000000;stroke-width:2.0px;stroke-linecap:butt;stroke-linejoin:miter;stroke-opacity:1\"/>\n",
       "<path class=\"bond-1 atom-1 atom-2\" d=\"M 182.1,74.9 L 182.1,42.5\" style=\"fill:none;fill-rule:evenodd;stroke:#FF0000;stroke-width:2.0px;stroke-linecap:butt;stroke-linejoin:miter;stroke-opacity:1\"/>\n",
       "<path class=\"bond-2 atom-1 atom-3\" d=\"M 203.8,133.1 L 232.1,149.4\" style=\"fill:none;fill-rule:evenodd;stroke:#000000;stroke-width:2.0px;stroke-linecap:butt;stroke-linejoin:miter;stroke-opacity:1\"/>\n",
       "<path class=\"bond-2 atom-1 atom-3\" d=\"M 232.1,149.4 L 260.3,165.7\" style=\"fill:none;fill-rule:evenodd;stroke:#FF0000;stroke-width:2.0px;stroke-linecap:butt;stroke-linejoin:miter;stroke-opacity:1\"/>\n",
       "<path class=\"atom-0\" d=\"M 91.6 175.3 Q 91.6 168.2, 94.9 164.6 Q 98.2 160.8, 104.5 160.8 Q 110.4 160.8, 113.5 165.0 L 110.8 167.1 Q 108.6 164.1, 104.5 164.1 Q 100.2 164.1, 98.0 167.0 Q 95.7 169.8, 95.7 175.3 Q 95.7 180.9, 98.0 183.8 Q 100.4 186.6, 105.0 186.6 Q 108.1 186.6, 111.7 184.8 L 112.8 187.8 Q 111.4 188.7, 109.1 189.3 Q 106.9 189.8, 104.4 189.8 Q 98.2 189.8, 94.9 186.1 Q 91.6 182.3, 91.6 175.3 \" fill=\"#000000\"/>\n",
       "<path class=\"atom-1\" d=\"M 178.7 125.0 Q 178.7 118.0, 182.0 114.3 Q 185.3 110.6, 191.6 110.6 Q 197.4 110.6, 200.5 114.7 L 197.9 116.9 Q 195.6 113.9, 191.6 113.9 Q 187.3 113.9, 185.0 116.7 Q 182.8 119.6, 182.8 125.0 Q 182.8 130.6, 185.1 133.5 Q 187.4 136.4, 192.0 136.4 Q 195.1 136.4, 198.8 134.5 L 199.9 137.5 Q 198.4 138.5, 196.2 139.0 Q 193.9 139.6, 191.4 139.6 Q 185.3 139.6, 182.0 135.8 Q 178.7 132.1, 178.7 125.0 \" fill=\"#000000\"/>\n",
       "<path class=\"atom-2\" d=\"M 176.6 24.5 Q 176.6 17.7, 180.0 13.9 Q 183.3 10.1, 189.6 10.1 Q 195.9 10.1, 199.2 13.9 Q 202.6 17.7, 202.6 24.5 Q 202.6 31.4, 199.2 35.3 Q 195.8 39.2, 189.6 39.2 Q 183.4 39.2, 180.0 35.3 Q 176.6 31.4, 176.6 24.5 M 189.6 36.0 Q 193.9 36.0, 196.2 33.1 Q 198.6 30.2, 198.6 24.5 Q 198.6 18.9, 196.2 16.1 Q 193.9 13.3, 189.6 13.3 Q 185.3 13.3, 182.9 16.1 Q 180.6 18.9, 180.6 24.5 Q 180.6 30.2, 182.9 33.1 Q 185.3 36.0, 189.6 36.0 \" fill=\"#FF0000\"/>\n",
       "<path class=\"atom-3\" d=\"M 263.7 175.2 Q 263.7 168.4, 267.0 164.6 Q 270.4 160.8, 276.7 160.8 Q 282.9 160.8, 286.3 164.6 Q 289.7 168.4, 289.7 175.2 Q 289.7 182.1, 286.3 186.0 Q 282.9 189.9, 276.7 189.9 Q 270.4 189.9, 267.0 186.0 Q 263.7 182.2, 263.7 175.2 M 276.7 186.7 Q 281.0 186.7, 283.3 183.8 Q 285.7 180.9, 285.7 175.2 Q 285.7 169.7, 283.3 166.9 Q 281.0 164.0, 276.7 164.0 Q 272.3 164.0, 270.0 166.8 Q 267.7 169.6, 267.7 175.2 Q 267.7 181.0, 270.0 183.8 Q 272.3 186.7, 276.7 186.7 \" fill=\"#FF0000\"/>\n",
       "<path class=\"atom-3\" d=\"M 293.7 175.1 L 308.4 175.1 L 308.4 178.3 L 293.7 178.3 L 293.7 175.1 \" fill=\"#FF0000\"/>\n",
       "</svg>"
      ],
      "text/plain": [
       "<IPython.core.display.SVG object>"
      ]
     },
     "metadata": {},
     "output_type": "display_data"
    },
    {
     "data": {
      "image/svg+xml": [
       "<svg xmlns=\"http://www.w3.org/2000/svg\" xmlns:rdkit=\"http://www.rdkit.org/xml\" xmlns:xlink=\"http://www.w3.org/1999/xlink\" version=\"1.1\" baseProfile=\"full\" xml:space=\"preserve\" width=\"400px\" height=\"200px\" viewBox=\"0 0 400 200\">\n",
       "<!-- END OF HEADER -->\n",
       "<rect style=\"opacity:1.0;fill:#FFFFFF;stroke:none\" width=\"400.0\" height=\"200.0\" x=\"0.0\" y=\"0.0\"> </rect>\n",
       "<path class=\"bond-0 atom-0 atom-1\" d=\"M 281.6,91.1 L 231.9,98.5\" style=\"fill:none;fill-rule:evenodd;stroke:#000000;stroke-width:2.0px;stroke-linecap:butt;stroke-linejoin:miter;stroke-opacity:1\"/>\n",
       "<path class=\"bond-1 atom-1 atom-2\" d=\"M 211.9,101.5 L 162.3,108.9\" style=\"fill:none;fill-rule:evenodd;stroke:#000000;stroke-width:2.0px;stroke-linecap:butt;stroke-linejoin:miter;stroke-opacity:1\"/>\n",
       "<path class=\"bond-2 atom-2 atom-3\" d=\"M 142.2,111.9 L 118.1,115.4\" style=\"fill:none;fill-rule:evenodd;stroke:#000000;stroke-width:2.0px;stroke-linecap:butt;stroke-linejoin:miter;stroke-opacity:1\"/>\n",
       "<path class=\"bond-2 atom-2 atom-3\" d=\"M 118.1,115.4 L 94.1,119.0\" style=\"fill:none;fill-rule:evenodd;stroke:#FF0000;stroke-width:2.0px;stroke-linecap:butt;stroke-linejoin:miter;stroke-opacity:1\"/>\n",
       "<path class=\"bond-3 atom-0 atom-4\" d=\"M 301.6,88.1 L 351.1,80.8\" style=\"fill:none;fill-rule:evenodd;stroke:#000000;stroke-width:2.0px;stroke-linecap:butt;stroke-linejoin:miter;stroke-opacity:1\"/>\n",
       "<path class=\"bond-4 atom-0 atom-5\" d=\"M 293.4,102.3 L 300.1,147.0\" style=\"fill:none;fill-rule:evenodd;stroke:#000000;stroke-width:2.0px;stroke-linecap:butt;stroke-linejoin:miter;stroke-opacity:1\"/>\n",
       "<path class=\"bond-5 atom-0 atom-6\" d=\"M 289.7,77.2 L 283.0,32.3\" style=\"fill:none;fill-rule:evenodd;stroke:#000000;stroke-width:2.0px;stroke-linecap:butt;stroke-linejoin:miter;stroke-opacity:1\"/>\n",
       "<path class=\"bond-6 atom-1 atom-7\" d=\"M 220.1,87.6 L 213.4,42.6\" style=\"fill:none;fill-rule:evenodd;stroke:#000000;stroke-width:2.0px;stroke-linecap:butt;stroke-linejoin:miter;stroke-opacity:1\"/>\n",
       "<path class=\"bond-7 atom-1 atom-8\" d=\"M 223.8,112.7 L 230.4,157.4\" style=\"fill:none;fill-rule:evenodd;stroke:#000000;stroke-width:2.0px;stroke-linecap:butt;stroke-linejoin:miter;stroke-opacity:1\"/>\n",
       "<path class=\"bond-8 atom-2 atom-9\" d=\"M 154.1,123.0 L 160.8,167.7\" style=\"fill:none;fill-rule:evenodd;stroke:#000000;stroke-width:2.0px;stroke-linecap:butt;stroke-linejoin:miter;stroke-opacity:1\"/>\n",
       "<path class=\"bond-9 atom-2 atom-10\" d=\"M 150.4,98.0 L 143.7,53.0\" style=\"fill:none;fill-rule:evenodd;stroke:#000000;stroke-width:2.0px;stroke-linecap:butt;stroke-linejoin:miter;stroke-opacity:1\"/>\n",
       "<path class=\"bond-10 atom-3 atom-11\" d=\"M 72.7,108.3 L 60.6,93.1\" style=\"fill:none;fill-rule:evenodd;stroke:#FF0000;stroke-width:2.0px;stroke-linecap:butt;stroke-linejoin:miter;stroke-opacity:1\"/>\n",
       "<path class=\"bond-10 atom-3 atom-11\" d=\"M 60.6,93.1 L 48.5,77.9\" style=\"fill:none;fill-rule:evenodd;stroke:#000000;stroke-width:2.0px;stroke-linecap:butt;stroke-linejoin:miter;stroke-opacity:1\"/>\n",
       "<path class=\"atom-0\" d=\"M 283.9 89.7 Q 283.9 84.8, 286.2 82.2 Q 288.5 79.5, 292.9 79.5 Q 297.1 79.5, 299.3 82.5 L 297.4 84.0 Q 295.8 81.9, 292.9 81.9 Q 289.9 81.9, 288.3 83.9 Q 286.7 85.9, 286.7 89.7 Q 286.7 93.7, 288.4 95.7 Q 290.0 97.7, 293.3 97.7 Q 295.5 97.7, 298.0 96.4 L 298.8 98.5 Q 297.8 99.2, 296.2 99.6 Q 294.6 100.0, 292.9 100.0 Q 288.5 100.0, 286.2 97.3 Q 283.9 94.7, 283.9 89.7 \" fill=\"#000000\"/>\n",
       "<path class=\"atom-1\" d=\"M 214.2 100.1 Q 214.2 95.1, 216.5 92.5 Q 218.9 89.9, 223.3 89.9 Q 227.4 89.9, 229.6 92.8 L 227.7 94.3 Q 226.1 92.2, 223.3 92.2 Q 220.3 92.2, 218.7 94.3 Q 217.1 96.3, 217.1 100.1 Q 217.1 104.0, 218.7 106.1 Q 220.4 108.1, 223.6 108.1 Q 225.8 108.1, 228.4 106.8 L 229.1 108.9 Q 228.1 109.6, 226.5 109.9 Q 224.9 110.3, 223.2 110.3 Q 218.9 110.3, 216.5 107.7 Q 214.2 105.0, 214.2 100.1 \" fill=\"#000000\"/>\n",
       "<path class=\"atom-2\" d=\"M 144.6 110.5 Q 144.6 105.5, 146.9 102.9 Q 149.2 100.3, 153.6 100.3 Q 157.7 100.3, 159.9 103.2 L 158.1 104.7 Q 156.5 102.6, 153.6 102.6 Q 150.6 102.6, 149.0 104.6 Q 147.4 106.6, 147.4 110.5 Q 147.4 114.4, 149.1 116.4 Q 150.7 118.5, 153.9 118.5 Q 156.1 118.5, 158.7 117.1 L 159.5 119.2 Q 158.4 119.9, 156.9 120.3 Q 155.3 120.7, 153.5 120.7 Q 149.2 120.7, 146.9 118.1 Q 144.6 115.4, 144.6 110.5 \" fill=\"#000000\"/>\n",
       "<path class=\"atom-3\" d=\"M 73.4 120.8 Q 73.4 116.0, 75.8 113.3 Q 78.2 110.6, 82.6 110.6 Q 87.0 110.6, 89.4 113.3 Q 91.7 116.0, 91.7 120.8 Q 91.7 125.6, 89.3 128.4 Q 86.9 131.1, 82.6 131.1 Q 78.2 131.1, 75.8 128.4 Q 73.4 125.7, 73.4 120.8 M 82.6 128.9 Q 85.6 128.9, 87.3 126.8 Q 88.9 124.8, 88.9 120.8 Q 88.9 116.9, 87.3 114.9 Q 85.6 112.9, 82.6 112.9 Q 79.5 112.9, 77.9 114.9 Q 76.2 116.8, 76.2 120.8 Q 76.2 124.8, 77.9 126.8 Q 79.5 128.9, 82.6 128.9 \" fill=\"#FF0000\"/>\n",
       "<path class=\"atom-4\" d=\"M 353.4 69.3 L 356.1 69.3 L 356.1 77.8 L 366.3 77.8 L 366.3 69.3 L 369.0 69.3 L 369.0 89.2 L 366.3 89.2 L 366.3 80.0 L 356.1 80.0 L 356.1 89.2 L 353.4 89.2 L 353.4 69.3 \" fill=\"#000000\"/>\n",
       "<path class=\"atom-5\" d=\"M 294.1 149.3 L 296.8 149.3 L 296.8 157.8 L 307.0 157.8 L 307.0 149.3 L 309.7 149.3 L 309.7 169.3 L 307.0 169.3 L 307.0 160.1 L 296.8 160.1 L 296.8 169.3 L 294.1 169.3 L 294.1 149.3 \" fill=\"#000000\"/>\n",
       "<path class=\"atom-6\" d=\"M 273.4 10.0 L 276.1 10.0 L 276.1 18.5 L 286.3 18.5 L 286.3 10.0 L 289.0 10.0 L 289.0 29.9 L 286.3 29.9 L 286.3 20.7 L 276.1 20.7 L 276.1 29.9 L 273.4 29.9 L 273.4 10.0 \" fill=\"#000000\"/>\n",
       "<path class=\"atom-7\" d=\"M 203.7 20.4 L 206.4 20.4 L 206.4 28.8 L 216.6 28.8 L 216.6 20.4 L 219.3 20.4 L 219.3 40.3 L 216.6 40.3 L 216.6 31.1 L 206.4 31.1 L 206.4 40.3 L 203.7 40.3 L 203.7 20.4 \" fill=\"#000000\"/>\n",
       "<path class=\"atom-8\" d=\"M 224.5 159.7 L 227.2 159.7 L 227.2 168.2 L 237.4 168.2 L 237.4 159.7 L 240.1 159.7 L 240.1 179.6 L 237.4 179.6 L 237.4 170.4 L 227.2 170.4 L 227.2 179.6 L 224.5 179.6 L 224.5 159.7 \" fill=\"#000000\"/>\n",
       "<path class=\"atom-9\" d=\"M 154.8 170.1 L 157.5 170.1 L 157.5 178.5 L 167.7 178.5 L 167.7 170.1 L 170.4 170.1 L 170.4 190.0 L 167.7 190.0 L 167.7 180.8 L 157.5 180.8 L 157.5 190.0 L 154.8 190.0 L 154.8 170.1 \" fill=\"#000000\"/>\n",
       "<path class=\"atom-10\" d=\"M 134.1 30.7 L 136.8 30.7 L 136.8 39.2 L 147.0 39.2 L 147.0 30.7 L 149.7 30.7 L 149.7 50.7 L 147.0 50.7 L 147.0 41.5 L 136.8 41.5 L 136.8 50.7 L 134.1 50.7 L 134.1 30.7 \" fill=\"#000000\"/>\n",
       "<path class=\"atom-11\" d=\"M 31.0 55.6 L 33.7 55.6 L 33.7 64.1 L 43.9 64.1 L 43.9 55.6 L 46.6 55.6 L 46.6 75.6 L 43.9 75.6 L 43.9 66.3 L 33.7 66.3 L 33.7 75.6 L 31.0 75.6 L 31.0 55.6 \" fill=\"#000000\"/>\n",
       "</svg>"
      ],
      "text/plain": [
       "<IPython.core.display.SVG object>"
      ]
     },
     "metadata": {},
     "output_type": "display_data"
    },
    {
     "data": {
      "image/svg+xml": [
       "<svg xmlns=\"http://www.w3.org/2000/svg\" xmlns:rdkit=\"http://www.rdkit.org/xml\" xmlns:xlink=\"http://www.w3.org/1999/xlink\" version=\"1.1\" baseProfile=\"full\" xml:space=\"preserve\" width=\"400px\" height=\"200px\" viewBox=\"0 0 400 200\">\n",
       "<!-- END OF HEADER -->\n",
       "<rect style=\"opacity:1.0;fill:#FFFFFF;stroke:none\" width=\"400.0\" height=\"200.0\" x=\"0.0\" y=\"0.0\"> </rect>\n",
       "<path class=\"bond-0 atom-0 atom-1\" d=\"M 57.2,136.1 L 119.0,100.4\" style=\"fill:none;fill-rule:evenodd;stroke:#000000;stroke-width:2.0px;stroke-linecap:butt;stroke-linejoin:miter;stroke-opacity:1\"/>\n",
       "<path class=\"bond-0 atom-0 atom-1\" d=\"M 119.0,100.4 L 180.9,64.7\" style=\"fill:none;fill-rule:evenodd;stroke:#FF0000;stroke-width:2.0px;stroke-linecap:butt;stroke-linejoin:miter;stroke-opacity:1\"/>\n",
       "<path class=\"bond-1 atom-1 atom-2\" d=\"M 219.1,64.7 L 281.0,100.4\" style=\"fill:none;fill-rule:evenodd;stroke:#FF0000;stroke-width:2.0px;stroke-linecap:butt;stroke-linejoin:miter;stroke-opacity:1\"/>\n",
       "<path class=\"bond-1 atom-1 atom-2\" d=\"M 281.0,100.4 L 342.8,136.1\" style=\"fill:none;fill-rule:evenodd;stroke:#000000;stroke-width:2.0px;stroke-linecap:butt;stroke-linejoin:miter;stroke-opacity:1\"/>\n",
       "<path class=\"atom-0\" d=\"M 29.2 146.1 Q 29.2 139.0, 32.5 135.4 Q 35.8 131.6, 42.1 131.6 Q 48.0 131.6, 51.1 135.8 L 48.4 137.9 Q 46.2 134.9, 42.1 134.9 Q 37.8 134.9, 35.6 137.8 Q 33.3 140.6, 33.3 146.1 Q 33.3 151.7, 35.6 154.6 Q 38.0 157.4, 42.6 157.4 Q 45.7 157.4, 49.3 155.6 L 50.4 158.6 Q 49.0 159.5, 46.7 160.1 Q 44.5 160.6, 42.0 160.6 Q 35.8 160.6, 32.5 156.9 Q 29.2 153.1, 29.2 146.1 \" fill=\"#000000\"/>\n",
       "<path class=\"atom-1\" d=\"M 187.0 53.8 Q 187.0 47.0, 190.4 43.2 Q 193.7 39.4, 200.0 39.4 Q 206.3 39.4, 209.6 43.2 Q 213.0 47.0, 213.0 53.8 Q 213.0 60.6, 209.6 64.6 Q 206.2 68.4, 200.0 68.4 Q 193.8 68.4, 190.4 64.6 Q 187.0 60.7, 187.0 53.8 M 200.0 65.2 Q 204.3 65.2, 206.6 62.4 Q 209.0 59.4, 209.0 53.8 Q 209.0 48.2, 206.6 45.4 Q 204.3 42.6, 200.0 42.6 Q 195.7 42.6, 193.3 45.4 Q 191.0 48.2, 191.0 53.8 Q 191.0 59.5, 193.3 62.4 Q 195.7 65.2, 200.0 65.2 \" fill=\"#FF0000\"/>\n",
       "<path class=\"atom-2\" d=\"M 348.9 146.1 Q 348.9 139.0, 352.2 135.4 Q 355.5 131.6, 361.8 131.6 Q 367.6 131.6, 370.8 135.8 L 368.1 137.9 Q 365.8 134.9, 361.8 134.9 Q 357.5 134.9, 355.2 137.8 Q 353.0 140.6, 353.0 146.1 Q 353.0 151.7, 355.3 154.6 Q 357.7 157.4, 362.2 157.4 Q 365.4 157.4, 369.0 155.6 L 370.1 158.6 Q 368.6 159.5, 366.4 160.1 Q 364.2 160.6, 361.7 160.6 Q 355.5 160.6, 352.2 156.9 Q 348.9 153.1, 348.9 146.1 \" fill=\"#000000\"/>\n",
       "</svg>"
      ],
      "text/plain": [
       "<IPython.core.display.SVG object>"
      ]
     },
     "metadata": {},
     "output_type": "display_data"
    },
    {
     "data": {
      "image/svg+xml": [
       "<svg xmlns=\"http://www.w3.org/2000/svg\" xmlns:rdkit=\"http://www.rdkit.org/xml\" xmlns:xlink=\"http://www.w3.org/1999/xlink\" version=\"1.1\" baseProfile=\"full\" xml:space=\"preserve\" width=\"400px\" height=\"200px\" viewBox=\"0 0 400 200\">\n",
       "<!-- END OF HEADER -->\n",
       "<rect style=\"opacity:1.0;fill:#FFFFFF;stroke:none\" width=\"400.0\" height=\"200.0\" x=\"0.0\" y=\"0.0\"> </rect>\n",
       "<path class=\"bond-0 atom-0 atom-1\" d=\"M 83.7,166.9 L 142.2,133.1\" style=\"fill:none;fill-rule:evenodd;stroke:#000000;stroke-width:2.0px;stroke-linecap:butt;stroke-linejoin:miter;stroke-opacity:1\"/>\n",
       "<path class=\"bond-1 atom-1 atom-2\" d=\"M 164.0,107.3 L 164.0,74.9\" style=\"fill:none;fill-rule:evenodd;stroke:#000000;stroke-width:2.0px;stroke-linecap:butt;stroke-linejoin:miter;stroke-opacity:1\"/>\n",
       "<path class=\"bond-1 atom-1 atom-2\" d=\"M 164.0,74.9 L 164.0,42.5\" style=\"fill:none;fill-rule:evenodd;stroke:#FF0000;stroke-width:2.0px;stroke-linecap:butt;stroke-linejoin:miter;stroke-opacity:1\"/>\n",
       "<path class=\"bond-1 atom-1 atom-2\" d=\"M 148.9,107.3 L 148.9,74.9\" style=\"fill:none;fill-rule:evenodd;stroke:#000000;stroke-width:2.0px;stroke-linecap:butt;stroke-linejoin:miter;stroke-opacity:1\"/>\n",
       "<path class=\"bond-1 atom-1 atom-2\" d=\"M 148.9,74.9 L 148.9,42.5\" style=\"fill:none;fill-rule:evenodd;stroke:#FF0000;stroke-width:2.0px;stroke-linecap:butt;stroke-linejoin:miter;stroke-opacity:1\"/>\n",
       "<path class=\"bond-2 atom-1 atom-3\" d=\"M 170.7,133.1 L 199.0,149.4\" style=\"fill:none;fill-rule:evenodd;stroke:#000000;stroke-width:2.0px;stroke-linecap:butt;stroke-linejoin:miter;stroke-opacity:1\"/>\n",
       "<path class=\"bond-2 atom-1 atom-3\" d=\"M 199.0,149.4 L 227.2,165.7\" style=\"fill:none;fill-rule:evenodd;stroke:#FF0000;stroke-width:2.0px;stroke-linecap:butt;stroke-linejoin:miter;stroke-opacity:1\"/>\n",
       "<path class=\"bond-3 atom-3 atom-4\" d=\"M 259.8,165.7 L 288.1,149.4\" style=\"fill:none;fill-rule:evenodd;stroke:#FF0000;stroke-width:2.0px;stroke-linecap:butt;stroke-linejoin:miter;stroke-opacity:1\"/>\n",
       "<path class=\"bond-3 atom-3 atom-4\" d=\"M 288.1,149.4 L 316.3,133.1\" style=\"fill:none;fill-rule:evenodd;stroke:#000000;stroke-width:2.0px;stroke-linecap:butt;stroke-linejoin:miter;stroke-opacity:1\"/>\n",
       "<path class=\"atom-0\" d=\"M 58.5 175.3 Q 58.5 168.2, 61.8 164.6 Q 65.1 160.8, 71.4 160.8 Q 77.2 160.8, 80.3 165.0 L 77.7 167.1 Q 75.4 164.1, 71.4 164.1 Q 67.1 164.1, 64.8 167.0 Q 62.6 169.8, 62.6 175.3 Q 62.6 180.9, 64.9 183.8 Q 67.3 186.6, 71.8 186.6 Q 74.9 186.6, 78.6 184.8 L 79.7 187.8 Q 78.2 188.7, 76.0 189.3 Q 73.7 189.8, 71.3 189.8 Q 65.1 189.8, 61.8 186.1 Q 58.5 182.3, 58.5 175.3 \" fill=\"#000000\"/>\n",
       "<path class=\"atom-1\" d=\"M 145.6 125.0 Q 145.6 118.0, 148.8 114.3 Q 152.2 110.6, 158.4 110.6 Q 164.3 110.6, 167.4 114.7 L 164.8 116.9 Q 162.5 113.9, 158.4 113.9 Q 154.2 113.9, 151.9 116.7 Q 149.6 119.6, 149.6 125.0 Q 149.6 130.6, 152.0 133.5 Q 154.3 136.4, 158.9 136.4 Q 162.0 136.4, 165.6 134.5 L 166.8 137.5 Q 165.3 138.5, 163.0 139.0 Q 160.8 139.6, 158.3 139.6 Q 152.2 139.6, 148.8 135.8 Q 145.6 132.1, 145.6 125.0 \" fill=\"#000000\"/>\n",
       "<path class=\"atom-2\" d=\"M 143.5 24.5 Q 143.5 17.7, 146.8 13.9 Q 150.2 10.1, 156.5 10.1 Q 162.8 10.1, 166.1 13.9 Q 169.5 17.7, 169.5 24.5 Q 169.5 31.4, 166.1 35.3 Q 162.7 39.2, 156.5 39.2 Q 150.2 39.2, 146.8 35.3 Q 143.5 31.4, 143.5 24.5 M 156.5 36.0 Q 160.8 36.0, 163.1 33.1 Q 165.5 30.2, 165.5 24.5 Q 165.5 18.9, 163.1 16.1 Q 160.8 13.3, 156.5 13.3 Q 152.2 13.3, 149.8 16.1 Q 147.5 18.9, 147.5 24.5 Q 147.5 30.2, 149.8 33.1 Q 152.2 36.0, 156.5 36.0 \" fill=\"#FF0000\"/>\n",
       "<path class=\"atom-3\" d=\"M 230.5 175.2 Q 230.5 168.4, 233.9 164.6 Q 237.2 160.8, 243.5 160.8 Q 249.8 160.8, 253.2 164.6 Q 256.5 168.4, 256.5 175.2 Q 256.5 182.1, 253.1 186.0 Q 249.7 189.9, 243.5 189.9 Q 237.3 189.9, 233.9 186.0 Q 230.5 182.2, 230.5 175.2 M 243.5 186.7 Q 247.8 186.7, 250.2 183.8 Q 252.5 180.9, 252.5 175.2 Q 252.5 169.7, 250.2 166.9 Q 247.8 164.0, 243.5 164.0 Q 239.2 164.0, 236.8 166.8 Q 234.5 169.6, 234.5 175.2 Q 234.5 181.0, 236.8 183.8 Q 239.2 186.7, 243.5 186.7 \" fill=\"#FF0000\"/>\n",
       "<path class=\"atom-4\" d=\"M 319.7 125.0 Q 319.7 118.0, 322.9 114.3 Q 326.3 110.6, 332.5 110.6 Q 338.4 110.6, 341.5 114.7 L 338.9 116.9 Q 336.6 113.9, 332.5 113.9 Q 328.3 113.9, 326.0 116.7 Q 323.7 119.6, 323.7 125.0 Q 323.7 130.6, 326.1 133.5 Q 328.4 136.4, 333.0 136.4 Q 336.1 136.4, 339.7 134.5 L 340.9 137.5 Q 339.4 138.5, 337.1 139.0 Q 334.9 139.6, 332.4 139.6 Q 326.3 139.6, 322.9 135.8 Q 319.7 132.1, 319.7 125.0 \" fill=\"#000000\"/>\n",
       "</svg>"
      ],
      "text/plain": [
       "<IPython.core.display.SVG object>"
      ]
     },
     "metadata": {},
     "output_type": "display_data"
    },
    {
     "data": {
      "image/svg+xml": [
       "<svg xmlns=\"http://www.w3.org/2000/svg\" xmlns:rdkit=\"http://www.rdkit.org/xml\" xmlns:xlink=\"http://www.w3.org/1999/xlink\" version=\"1.1\" baseProfile=\"full\" xml:space=\"preserve\" width=\"400px\" height=\"200px\" viewBox=\"0 0 400 200\">\n",
       "<!-- END OF HEADER -->\n",
       "<rect style=\"opacity:1.0;fill:#FFFFFF;stroke:none\" width=\"400.0\" height=\"200.0\" x=\"0.0\" y=\"0.0\"> </rect>\n",
       "<path class=\"bond-0 atom-0 atom-1\" d=\"M 361.3,91.8 L 320.2,118.8\" style=\"fill:none;fill-rule:evenodd;stroke:#000000;stroke-width:2.0px;stroke-linecap:butt;stroke-linejoin:miter;stroke-opacity:1\"/>\n",
       "<path class=\"bond-1 atom-1 atom-2\" d=\"M 299.1,120.5 L 253.7,97.7\" style=\"fill:none;fill-rule:evenodd;stroke:#000000;stroke-width:2.0px;stroke-linecap:butt;stroke-linejoin:miter;stroke-opacity:1\"/>\n",
       "<path class=\"bond-2 atom-2 atom-3\" d=\"M 232.5,99.3 L 212.8,112.3\" style=\"fill:none;fill-rule:evenodd;stroke:#000000;stroke-width:2.0px;stroke-linecap:butt;stroke-linejoin:miter;stroke-opacity:1\"/>\n",
       "<path class=\"bond-2 atom-2 atom-3\" d=\"M 212.8,112.3 L 193.0,125.3\" style=\"fill:none;fill-rule:evenodd;stroke:#FF0000;stroke-width:2.0px;stroke-linecap:butt;stroke-linejoin:miter;stroke-opacity:1\"/>\n",
       "<path class=\"bond-3 atom-3 atom-4\" d=\"M 168.8,127.2 L 146.2,115.8\" style=\"fill:none;fill-rule:evenodd;stroke:#FF0000;stroke-width:2.0px;stroke-linecap:butt;stroke-linejoin:miter;stroke-opacity:1\"/>\n",
       "<path class=\"bond-3 atom-3 atom-4\" d=\"M 146.2,115.8 L 123.6,104.5\" style=\"fill:none;fill-rule:evenodd;stroke:#FF7F00;stroke-width:2.0px;stroke-linecap:butt;stroke-linejoin:miter;stroke-opacity:1\"/>\n",
       "<path class=\"bond-4 atom-4 atom-5\" d=\"M 120.9,86.8 L 131.0,66.8\" style=\"fill:none;fill-rule:evenodd;stroke:#FF7F00;stroke-width:2.0px;stroke-linecap:butt;stroke-linejoin:miter;stroke-opacity:1\"/>\n",
       "<path class=\"bond-4 atom-4 atom-5\" d=\"M 131.0,66.8 L 141.0,46.7\" style=\"fill:none;fill-rule:evenodd;stroke:#FF0000;stroke-width:2.0px;stroke-linecap:butt;stroke-linejoin:miter;stroke-opacity:1\"/>\n",
       "<path class=\"bond-5 atom-4 atom-6\" d=\"M 105.2,95.2 L 80.5,82.8\" style=\"fill:none;fill-rule:evenodd;stroke:#FF7F00;stroke-width:2.0px;stroke-linecap:butt;stroke-linejoin:miter;stroke-opacity:1\"/>\n",
       "<path class=\"bond-5 atom-4 atom-6\" d=\"M 80.5,82.8 L 55.8,70.4\" style=\"fill:none;fill-rule:evenodd;stroke:#FF0000;stroke-width:2.0px;stroke-linecap:butt;stroke-linejoin:miter;stroke-opacity:1\"/>\n",
       "<path class=\"bond-6 atom-4 atom-7\" d=\"M 102.8,110.3 L 92.7,130.5\" style=\"fill:none;fill-rule:evenodd;stroke:#FF7F00;stroke-width:2.0px;stroke-linecap:butt;stroke-linejoin:miter;stroke-opacity:1\"/>\n",
       "<path class=\"bond-6 atom-4 atom-7\" d=\"M 92.7,130.5 L 82.5,150.7\" style=\"fill:none;fill-rule:evenodd;stroke:#FF0000;stroke-width:2.0px;stroke-linecap:butt;stroke-linejoin:miter;stroke-opacity:1\"/>\n",
       "<path class=\"bond-6 atom-4 atom-7\" d=\"M 112.8,115.3 L 102.7,135.6\" style=\"fill:none;fill-rule:evenodd;stroke:#FF7F00;stroke-width:2.0px;stroke-linecap:butt;stroke-linejoin:miter;stroke-opacity:1\"/>\n",
       "<path class=\"bond-6 atom-4 atom-7\" d=\"M 102.7,135.6 L 92.5,155.8\" style=\"fill:none;fill-rule:evenodd;stroke:#FF0000;stroke-width:2.0px;stroke-linecap:butt;stroke-linejoin:miter;stroke-opacity:1\"/>\n",
       "<path class=\"atom-0\" d=\"M 363.7 85.0 Q 363.7 79.7, 366.2 77.0 Q 368.7 74.2, 373.3 74.2 Q 377.7 74.2, 380.0 77.3 L 378.0 78.9 Q 376.3 76.7, 373.3 76.7 Q 370.1 76.7, 368.4 78.8 Q 366.8 80.9, 366.8 85.0 Q 366.8 89.1, 368.5 91.3 Q 370.3 93.4, 373.7 93.4 Q 376.0 93.4, 378.7 92.0 L 379.5 94.3 Q 378.4 95.0, 376.8 95.4 Q 375.1 95.8, 373.2 95.8 Q 368.7 95.8, 366.2 93.0 Q 363.7 90.2, 363.7 85.0 \" fill=\"#000000\"/>\n",
       "<path class=\"atom-1\" d=\"M 301.5 125.9 Q 301.5 120.6, 304.0 117.9 Q 306.4 115.1, 311.1 115.1 Q 315.5 115.1, 317.8 118.2 L 315.8 119.8 Q 314.1 117.6, 311.1 117.6 Q 307.9 117.6, 306.2 119.7 Q 304.6 121.8, 304.6 125.9 Q 304.6 130.1, 306.3 132.2 Q 308.0 134.3, 311.4 134.3 Q 313.8 134.3, 316.5 132.9 L 317.3 135.2 Q 316.2 135.9, 314.5 136.3 Q 312.9 136.7, 311.0 136.7 Q 306.4 136.7, 304.0 133.9 Q 301.5 131.1, 301.5 125.9 \" fill=\"#000000\"/>\n",
       "<path class=\"atom-2\" d=\"M 235.0 92.5 Q 235.0 87.2, 237.4 84.5 Q 239.9 81.7, 244.6 81.7 Q 248.9 81.7, 251.2 84.8 L 249.3 86.4 Q 247.6 84.1, 244.6 84.1 Q 241.4 84.1, 239.7 86.3 Q 238.0 88.4, 238.0 92.5 Q 238.0 96.6, 239.8 98.8 Q 241.5 100.9, 244.9 100.9 Q 247.2 100.9, 249.9 99.5 L 250.8 101.7 Q 249.7 102.5, 248.0 102.9 Q 246.3 103.3, 244.5 103.3 Q 239.9 103.3, 237.4 100.5 Q 235.0 97.7, 235.0 92.5 \" fill=\"#000000\"/>\n",
       "<path class=\"atom-3\" d=\"M 171.2 133.3 Q 171.2 128.3, 173.7 125.4 Q 176.2 122.6, 180.9 122.6 Q 185.6 122.6, 188.1 125.4 Q 190.6 128.3, 190.6 133.3 Q 190.6 138.4, 188.0 141.4 Q 185.5 144.3, 180.9 144.3 Q 176.3 144.3, 173.7 141.4 Q 171.2 138.5, 171.2 133.3 M 180.9 141.9 Q 184.1 141.9, 185.8 139.7 Q 187.6 137.6, 187.6 133.3 Q 187.6 129.2, 185.8 127.1 Q 184.1 125.0, 180.9 125.0 Q 177.7 125.0, 175.9 127.1 Q 174.2 129.2, 174.2 133.3 Q 174.2 137.6, 175.9 139.7 Q 177.7 141.9, 180.9 141.9 \" fill=\"#FF0000\"/>\n",
       "<path class=\"atom-4\" d=\"M 113.9 89.3 Q 117.5 89.3, 119.3 90.9 Q 121.1 92.5, 121.1 95.5 Q 121.1 98.4, 119.2 100.1 Q 117.4 101.7, 113.9 101.7 L 110.5 101.7 L 110.5 110.4 L 107.6 110.4 L 107.6 89.3 L 113.9 89.3 M 113.9 99.3 Q 115.9 99.3, 117.0 98.3 Q 118.1 97.4, 118.1 95.5 Q 118.1 93.6, 117.0 92.7 Q 115.9 91.7, 113.9 91.7 L 110.5 91.7 L 110.5 99.3 L 113.9 99.3 \" fill=\"#FF7F00\"/>\n",
       "<path class=\"atom-5\" d=\"M 138.1 33.4 Q 138.1 28.3, 140.6 25.5 Q 143.1 22.6, 147.8 22.6 Q 152.5 22.6, 155.0 25.5 Q 157.5 28.3, 157.5 33.4 Q 157.5 38.5, 154.9 41.4 Q 152.4 44.3, 147.8 44.3 Q 143.1 44.3, 140.6 41.4 Q 138.1 38.5, 138.1 33.4 M 147.8 41.9 Q 151.0 41.9, 152.7 39.8 Q 154.5 37.6, 154.5 33.4 Q 154.5 29.2, 152.7 27.1 Q 151.0 25.0, 147.8 25.0 Q 144.6 25.0, 142.8 27.1 Q 141.1 29.2, 141.1 33.4 Q 141.1 37.6, 142.8 39.8 Q 144.6 41.9, 147.8 41.9 \" fill=\"#FF0000\"/>\n",
       "<path class=\"atom-5\" d=\"M 160.5 33.3 L 171.4 33.3 L 171.4 35.7 L 160.5 35.7 L 160.5 33.3 \" fill=\"#FF0000\"/>\n",
       "<path class=\"atom-6\" d=\"M 20.0 66.5 Q 20.0 61.4, 22.5 58.6 Q 25.0 55.7, 29.7 55.7 Q 34.4 55.7, 36.9 58.6 Q 39.4 61.4, 39.4 66.5 Q 39.4 71.6, 36.8 74.5 Q 34.3 77.4, 29.7 77.4 Q 25.0 77.4, 22.5 74.5 Q 20.0 71.6, 20.0 66.5 M 29.7 75.0 Q 32.9 75.0, 34.6 72.9 Q 36.4 70.7, 36.4 66.5 Q 36.4 62.3, 34.6 60.2 Q 32.9 58.1, 29.7 58.1 Q 26.5 58.1, 24.7 60.2 Q 23.0 62.3, 23.0 66.5 Q 23.0 70.7, 24.7 72.9 Q 26.5 75.0, 29.7 75.0 \" fill=\"#FF0000\"/>\n",
       "<path class=\"atom-6\" d=\"M 42.4 66.4 L 53.3 66.4 L 53.3 68.8 L 42.4 68.8 L 42.4 66.4 \" fill=\"#FF0000\"/>\n",
       "<path class=\"atom-7\" d=\"M 71.3 166.4 Q 71.3 161.4, 73.8 158.5 Q 76.3 155.7, 80.9 155.7 Q 85.6 155.7, 88.1 158.5 Q 90.6 161.4, 90.6 166.4 Q 90.6 171.6, 88.1 174.5 Q 85.5 177.4, 80.9 177.4 Q 76.3 177.4, 73.8 174.5 Q 71.3 171.6, 71.3 166.4 M 80.9 175.0 Q 84.1 175.0, 85.9 172.8 Q 87.6 170.7, 87.6 166.4 Q 87.6 162.3, 85.9 160.2 Q 84.1 158.1, 80.9 158.1 Q 77.7 158.1, 76.0 160.2 Q 74.2 162.3, 74.2 166.4 Q 74.2 170.7, 76.0 172.8 Q 77.7 175.0, 80.9 175.0 \" fill=\"#FF0000\"/>\n",
       "</svg>"
      ],
      "text/plain": [
       "<IPython.core.display.SVG object>"
      ]
     },
     "metadata": {},
     "output_type": "display_data"
    }
   ],
   "source": [
    "# for oxygens\n",
    "# for o: sp2 oxygen --> correct, example: acetone or COO-\n",
    "smiles = 'CC(=O)C'\n",
    "smiles = 'CC(=O)[O-]'\n",
    "plot(smiles)\n",
    "\n",
    "# for oh: sp3 oxygen in hydroxyl group --> correct, example: ethanol\n",
    "smiles = 'CCCO'\n",
    "plot(smiles,True)\n",
    "\n",
    "# for os: sp3 oxygen in ether or ester group --> correct, example: dimethyl ether\n",
    "smiles = \"COC\"\n",
    "plot(smiles)\n",
    "smiles = \"CC(=O)OC\"\n",
    "plot(smiles)\n",
    "\n",
    "#for op: probably o bound to phosphorus --> not described on website\n",
    "smiles = \"CCCOP([O-])([O-])(=O)\"\n",
    "plot(smiles)"
   ]
  },
  {
   "cell_type": "code",
   "execution_count": 66,
   "metadata": {},
   "outputs": [
    {
     "data": {
      "image/svg+xml": [
       "<svg xmlns=\"http://www.w3.org/2000/svg\" xmlns:rdkit=\"http://www.rdkit.org/xml\" xmlns:xlink=\"http://www.w3.org/1999/xlink\" version=\"1.1\" baseProfile=\"full\" xml:space=\"preserve\" width=\"400px\" height=\"200px\" viewBox=\"0 0 400 200\">\n",
       "<!-- END OF HEADER -->\n",
       "<rect style=\"opacity:1.0;fill:#FFFFFF;stroke:none\" width=\"400.0\" height=\"200.0\" x=\"0.0\" y=\"0.0\"> </rect>\n",
       "<path class=\"bond-0 atom-0 atom-1\" d=\"M 83.6,167.0 L 142.2,133.2\" style=\"fill:none;fill-rule:evenodd;stroke:#000000;stroke-width:2.0px;stroke-linecap:butt;stroke-linejoin:miter;stroke-opacity:1\"/>\n",
       "<path class=\"bond-1 atom-1 atom-2\" d=\"M 164.0,107.3 L 164.0,74.9\" style=\"fill:none;fill-rule:evenodd;stroke:#000000;stroke-width:2.0px;stroke-linecap:butt;stroke-linejoin:miter;stroke-opacity:1\"/>\n",
       "<path class=\"bond-1 atom-1 atom-2\" d=\"M 164.0,74.9 L 164.0,42.5\" style=\"fill:none;fill-rule:evenodd;stroke:#FF0000;stroke-width:2.0px;stroke-linecap:butt;stroke-linejoin:miter;stroke-opacity:1\"/>\n",
       "<path class=\"bond-1 atom-1 atom-2\" d=\"M 148.9,107.3 L 148.9,74.9\" style=\"fill:none;fill-rule:evenodd;stroke:#000000;stroke-width:2.0px;stroke-linecap:butt;stroke-linejoin:miter;stroke-opacity:1\"/>\n",
       "<path class=\"bond-1 atom-1 atom-2\" d=\"M 148.9,74.9 L 148.9,42.5\" style=\"fill:none;fill-rule:evenodd;stroke:#FF0000;stroke-width:2.0px;stroke-linecap:butt;stroke-linejoin:miter;stroke-opacity:1\"/>\n",
       "<path class=\"bond-2 atom-1 atom-3\" d=\"M 170.7,133.2 L 200.1,150.2\" style=\"fill:none;fill-rule:evenodd;stroke:#000000;stroke-width:2.0px;stroke-linecap:butt;stroke-linejoin:miter;stroke-opacity:1\"/>\n",
       "<path class=\"bond-2 atom-1 atom-3\" d=\"M 200.1,150.2 L 229.5,167.1\" style=\"fill:none;fill-rule:evenodd;stroke:#0000FF;stroke-width:2.0px;stroke-linecap:butt;stroke-linejoin:miter;stroke-opacity:1\"/>\n",
       "<path class=\"bond-3 atom-3 atom-4\" d=\"M 257.6,167.1 L 287.0,150.2\" style=\"fill:none;fill-rule:evenodd;stroke:#0000FF;stroke-width:2.0px;stroke-linecap:butt;stroke-linejoin:miter;stroke-opacity:1\"/>\n",
       "<path class=\"bond-3 atom-3 atom-4\" d=\"M 287.0,150.2 L 316.4,133.2\" style=\"fill:none;fill-rule:evenodd;stroke:#000000;stroke-width:2.0px;stroke-linecap:butt;stroke-linejoin:miter;stroke-opacity:1\"/>\n",
       "<path class=\"atom-0\" d=\"M 58.5 175.4 Q 58.5 168.3, 61.7 164.6 Q 65.1 160.9, 71.3 160.9 Q 77.2 160.9, 80.3 165.0 L 77.7 167.2 Q 75.4 164.2, 71.3 164.2 Q 67.1 164.2, 64.8 167.1 Q 62.5 169.9, 62.5 175.4 Q 62.5 181.0, 64.9 183.8 Q 67.2 186.7, 71.8 186.7 Q 74.9 186.7, 78.5 184.8 L 79.7 187.8 Q 78.2 188.8, 75.9 189.4 Q 73.7 189.9, 71.2 189.9 Q 65.1 189.9, 61.7 186.2 Q 58.5 182.4, 58.5 175.4 \" fill=\"#000000\"/>\n",
       "<path class=\"atom-1\" d=\"M 145.5 125.1 Q 145.5 118.0, 148.8 114.4 Q 152.1 110.6, 158.4 110.6 Q 164.3 110.6, 167.4 114.8 L 164.7 116.9 Q 162.5 113.9, 158.4 113.9 Q 154.1 113.9, 151.9 116.8 Q 149.6 119.6, 149.6 125.1 Q 149.6 130.7, 151.9 133.6 Q 154.3 136.4, 158.9 136.4 Q 162.0 136.4, 165.6 134.6 L 166.7 137.6 Q 165.3 138.5, 163.0 139.1 Q 160.8 139.6, 158.3 139.6 Q 152.1 139.6, 148.8 135.9 Q 145.5 132.1, 145.5 125.1 \" fill=\"#000000\"/>\n",
       "<path class=\"atom-2\" d=\"M 143.5 24.5 Q 143.5 17.7, 146.8 13.9 Q 150.2 10.1, 156.5 10.1 Q 162.7 10.1, 166.1 13.9 Q 169.5 17.7, 169.5 24.5 Q 169.5 31.4, 166.1 35.3 Q 162.7 39.2, 156.5 39.2 Q 150.2 39.2, 146.8 35.3 Q 143.5 31.4, 143.5 24.5 M 156.5 36.0 Q 160.8 36.0, 163.1 33.1 Q 165.5 30.2, 165.5 24.5 Q 165.5 18.9, 163.1 16.1 Q 160.8 13.3, 156.5 13.3 Q 152.1 13.3, 149.8 16.1 Q 147.5 18.9, 147.5 24.5 Q 147.5 30.2, 149.8 33.1 Q 152.1 36.0, 156.5 36.0 \" fill=\"#FF0000\"/>\n",
       "<path class=\"atom-3\" d=\"M 237.3 161.1 L 246.6 176.1 Q 247.5 177.6, 249.0 180.2 Q 250.4 182.9, 250.5 183.1 L 250.5 161.1 L 254.3 161.1 L 254.3 189.4 L 250.4 189.4 L 240.4 173.0 Q 239.3 171.1, 238.0 168.9 Q 236.8 166.7, 236.5 166.0 L 236.5 189.4 L 232.8 189.4 L 232.8 161.1 L 237.3 161.1 \" fill=\"#0000FF\"/>\n",
       "<path class=\"atom-4\" d=\"M 319.7 125.1 Q 319.7 118.0, 323.0 114.4 Q 326.3 110.6, 332.6 110.6 Q 338.4 110.6, 341.5 114.8 L 338.9 116.9 Q 336.6 113.9, 332.6 113.9 Q 328.3 113.9, 326.0 116.8 Q 323.8 119.6, 323.8 125.1 Q 323.8 130.7, 326.1 133.6 Q 328.5 136.4, 333.0 136.4 Q 336.1 136.4, 339.8 134.6 L 340.9 137.6 Q 339.4 138.5, 337.2 139.1 Q 334.9 139.6, 332.5 139.6 Q 326.3 139.6, 323.0 135.9 Q 319.7 132.1, 319.7 125.1 \" fill=\"#000000\"/>\n",
       "</svg>"
      ],
      "text/plain": [
       "<IPython.core.display.SVG object>"
      ]
     },
     "metadata": {},
     "output_type": "display_data"
    },
    {
     "data": {
      "image/svg+xml": [
       "<svg xmlns=\"http://www.w3.org/2000/svg\" xmlns:rdkit=\"http://www.rdkit.org/xml\" xmlns:xlink=\"http://www.w3.org/1999/xlink\" version=\"1.1\" baseProfile=\"full\" xml:space=\"preserve\" width=\"400px\" height=\"200px\" viewBox=\"0 0 400 200\">\n",
       "<!-- END OF HEADER -->\n",
       "<rect style=\"opacity:1.0;fill:#FFFFFF;stroke:none\" width=\"400.0\" height=\"200.0\" x=\"0.0\" y=\"0.0\"> </rect>\n",
       "<path class=\"bond-0 atom-0 atom-1\" d=\"M 341.0,111.7 L 284.5,111.7\" style=\"fill:none;fill-rule:evenodd;stroke:#FF0000;stroke-width:2.0px;stroke-linecap:butt;stroke-linejoin:miter;stroke-opacity:1\"/>\n",
       "<path class=\"bond-0 atom-0 atom-1\" d=\"M 284.5,111.7 L 228.0,111.7\" style=\"fill:none;fill-rule:evenodd;stroke:#0000FF;stroke-width:2.0px;stroke-linecap:butt;stroke-linejoin:miter;stroke-opacity:1\"/>\n",
       "<path class=\"bond-0 atom-0 atom-1\" d=\"M 341.0,87.8 L 284.5,87.8\" style=\"fill:none;fill-rule:evenodd;stroke:#FF0000;stroke-width:2.0px;stroke-linecap:butt;stroke-linejoin:miter;stroke-opacity:1\"/>\n",
       "<path class=\"bond-0 atom-0 atom-1\" d=\"M 284.5,87.8 L 228.0,87.8\" style=\"fill:none;fill-rule:evenodd;stroke:#0000FF;stroke-width:2.0px;stroke-linecap:butt;stroke-linejoin:miter;stroke-opacity:1\"/>\n",
       "<path class=\"bond-1 atom-1 atom-2\" d=\"M 172.0,111.7 L 115.5,111.7\" style=\"fill:none;fill-rule:evenodd;stroke:#0000FF;stroke-width:2.0px;stroke-linecap:butt;stroke-linejoin:miter;stroke-opacity:1\"/>\n",
       "<path class=\"bond-1 atom-1 atom-2\" d=\"M 115.5,111.7 L 59.0,111.7\" style=\"fill:none;fill-rule:evenodd;stroke:#FF0000;stroke-width:2.0px;stroke-linecap:butt;stroke-linejoin:miter;stroke-opacity:1\"/>\n",
       "<path class=\"bond-1 atom-1 atom-2\" d=\"M 172.0,87.8 L 115.5,87.8\" style=\"fill:none;fill-rule:evenodd;stroke:#0000FF;stroke-width:2.0px;stroke-linecap:butt;stroke-linejoin:miter;stroke-opacity:1\"/>\n",
       "<path class=\"bond-1 atom-1 atom-2\" d=\"M 115.5,87.8 L 59.0,87.8\" style=\"fill:none;fill-rule:evenodd;stroke:#FF0000;stroke-width:2.0px;stroke-linecap:butt;stroke-linejoin:miter;stroke-opacity:1\"/>\n",
       "<path class=\"atom-0\" d=\"M 346.3 99.9 Q 346.3 93.1, 349.7 89.3 Q 353.0 85.5, 359.3 85.5 Q 365.6 85.5, 368.9 89.3 Q 372.3 93.1, 372.3 99.9 Q 372.3 106.7, 368.9 110.7 Q 365.5 114.5, 359.3 114.5 Q 353.1 114.5, 349.7 110.7 Q 346.3 106.8, 346.3 99.9 M 359.3 111.3 Q 363.6 111.3, 365.9 108.5 Q 368.3 105.5, 368.3 99.9 Q 368.3 94.3, 365.9 91.5 Q 363.6 88.7, 359.3 88.7 Q 355.0 88.7, 352.6 91.5 Q 350.3 94.3, 350.3 99.9 Q 350.3 105.6, 352.6 108.5 Q 355.0 111.3, 359.3 111.3 \" fill=\"#FF0000\"/>\n",
       "<path class=\"atom-1\" d=\"M 181.7 85.6 L 191.0 100.6 Q 191.9 102.1, 193.4 104.8 Q 194.9 107.5, 195.0 107.6 L 195.0 85.6 L 198.7 85.6 L 198.7 113.9 L 194.9 113.9 L 184.9 97.5 Q 183.7 95.6, 182.5 93.4 Q 181.3 91.2, 180.9 90.5 L 180.9 113.9 L 177.3 113.9 L 177.3 85.6 L 181.7 85.6 \" fill=\"#0000FF\"/>\n",
       "<path class=\"atom-1\" d=\"M 204.1 100.2 L 211.6 100.2 L 211.6 92.3 L 215.0 92.3 L 215.0 100.2 L 222.7 100.2 L 222.7 103.1 L 215.0 103.1 L 215.0 111.1 L 211.6 111.1 L 211.6 103.1 L 204.1 103.1 L 204.1 100.2 \" fill=\"#0000FF\"/>\n",
       "<path class=\"atom-2\" d=\"M 27.7 99.9 Q 27.7 93.1, 31.1 89.3 Q 34.4 85.5, 40.7 85.5 Q 47.0 85.5, 50.3 89.3 Q 53.7 93.1, 53.7 99.9 Q 53.7 106.7, 50.3 110.7 Q 46.9 114.5, 40.7 114.5 Q 34.5 114.5, 31.1 110.7 Q 27.7 106.8, 27.7 99.9 M 40.7 111.3 Q 45.0 111.3, 47.3 108.5 Q 49.7 105.5, 49.7 99.9 Q 49.7 94.3, 47.3 91.5 Q 45.0 88.7, 40.7 88.7 Q 36.4 88.7, 34.0 91.5 Q 31.7 94.3, 31.7 99.9 Q 31.7 105.6, 34.0 108.5 Q 36.4 111.3, 40.7 111.3 \" fill=\"#FF0000\"/>\n",
       "</svg>"
      ],
      "text/plain": [
       "<IPython.core.display.SVG object>"
      ]
     },
     "metadata": {},
     "output_type": "display_data"
    },
    {
     "data": {
      "image/svg+xml": [
       "<svg xmlns=\"http://www.w3.org/2000/svg\" xmlns:rdkit=\"http://www.rdkit.org/xml\" xmlns:xlink=\"http://www.w3.org/1999/xlink\" version=\"1.1\" baseProfile=\"full\" xml:space=\"preserve\" width=\"400px\" height=\"200px\" viewBox=\"0 0 400 200\">\n",
       "<!-- END OF HEADER -->\n",
       "<rect style=\"opacity:1.0;fill:#FFFFFF;stroke:none\" width=\"400.0\" height=\"200.0\" x=\"0.0\" y=\"0.0\"> </rect>\n",
       "<path class=\"bond-0 atom-0 atom-1\" d=\"M 57.2,136.1 L 120.2,99.7\" style=\"fill:none;fill-rule:evenodd;stroke:#000000;stroke-width:2.0px;stroke-linecap:butt;stroke-linejoin:miter;stroke-opacity:1\"/>\n",
       "<path class=\"bond-0 atom-0 atom-1\" d=\"M 120.2,99.7 L 183.2,63.3\" style=\"fill:none;fill-rule:evenodd;stroke:#0000FF;stroke-width:2.0px;stroke-linecap:butt;stroke-linejoin:miter;stroke-opacity:1\"/>\n",
       "<path class=\"bond-1 atom-1 atom-2\" d=\"M 216.8,63.3 L 279.8,99.7\" style=\"fill:none;fill-rule:evenodd;stroke:#0000FF;stroke-width:2.0px;stroke-linecap:butt;stroke-linejoin:miter;stroke-opacity:1\"/>\n",
       "<path class=\"bond-1 atom-1 atom-2\" d=\"M 279.8,99.7 L 342.8,136.1\" style=\"fill:none;fill-rule:evenodd;stroke:#000000;stroke-width:2.0px;stroke-linecap:butt;stroke-linejoin:miter;stroke-opacity:1\"/>\n",
       "<path class=\"atom-0\" d=\"M 29.2 146.0 Q 29.2 139.0, 32.5 135.3 Q 35.8 131.6, 42.1 131.6 Q 48.0 131.6, 51.1 135.7 L 48.4 137.8 Q 46.2 134.8, 42.1 134.8 Q 37.8 134.8, 35.6 137.7 Q 33.3 140.6, 33.3 146.0 Q 33.3 151.6, 35.6 154.5 Q 38.0 157.4, 42.6 157.4 Q 45.7 157.4, 49.3 155.5 L 50.4 158.5 Q 49.0 159.4, 46.7 160.0 Q 44.5 160.6, 42.0 160.6 Q 35.8 160.6, 32.5 156.8 Q 29.2 153.0, 29.2 146.0 \" fill=\"#000000\"/>\n",
       "<path class=\"atom-1\" d=\"M 193.7 39.4 L 203.0 54.4 Q 203.9 55.9, 205.4 58.6 Q 206.9 61.3, 207.0 61.4 L 207.0 39.4 L 210.7 39.4 L 210.7 67.8 L 206.9 67.8 L 196.9 51.4 Q 195.7 49.4, 194.5 47.2 Q 193.3 45.0, 192.9 44.4 L 192.9 67.8 L 189.3 67.8 L 189.3 39.4 L 193.7 39.4 \" fill=\"#0000FF\"/>\n",
       "<path class=\"atom-2\" d=\"M 348.9 146.0 Q 348.9 139.0, 352.2 135.3 Q 355.5 131.6, 361.8 131.6 Q 367.6 131.6, 370.8 135.7 L 368.1 137.8 Q 365.8 134.8, 361.8 134.8 Q 357.5 134.8, 355.2 137.7 Q 353.0 140.6, 353.0 146.0 Q 353.0 151.6, 355.3 154.5 Q 357.7 157.4, 362.2 157.4 Q 365.4 157.4, 369.0 155.5 L 370.1 158.5 Q 368.6 159.4, 366.4 160.0 Q 364.2 160.6, 361.7 160.6 Q 355.5 160.6, 352.2 156.8 Q 348.9 153.0, 348.9 146.0 \" fill=\"#000000\"/>\n",
       "</svg>"
      ],
      "text/plain": [
       "<IPython.core.display.SVG object>"
      ]
     },
     "metadata": {},
     "output_type": "display_data"
    },
    {
     "data": {
      "image/svg+xml": [
       "<svg xmlns=\"http://www.w3.org/2000/svg\" xmlns:rdkit=\"http://www.rdkit.org/xml\" xmlns:xlink=\"http://www.w3.org/1999/xlink\" version=\"1.1\" baseProfile=\"full\" xml:space=\"preserve\" width=\"400px\" height=\"200px\" viewBox=\"0 0 400 200\">\n",
       "<!-- END OF HEADER -->\n",
       "<rect style=\"opacity:1.0;fill:#FFFFFF;stroke:none\" width=\"400.0\" height=\"200.0\" x=\"0.0\" y=\"0.0\"> </rect>\n",
       "<path class=\"bond-0 atom-0 atom-1\" d=\"M 127.2,167.0 L 156.5,150.0\" style=\"fill:none;fill-rule:evenodd;stroke:#000000;stroke-width:2.0px;stroke-linecap:butt;stroke-linejoin:miter;stroke-opacity:1\"/>\n",
       "<path class=\"bond-0 atom-0 atom-1\" d=\"M 156.5,150.0 L 185.9,133.1\" style=\"fill:none;fill-rule:evenodd;stroke:#0000FF;stroke-width:2.0px;stroke-linecap:butt;stroke-linejoin:miter;stroke-opacity:1\"/>\n",
       "<path class=\"bond-1 atom-1 atom-2\" d=\"M 214.1,133.1 L 243.5,150.0\" style=\"fill:none;fill-rule:evenodd;stroke:#0000FF;stroke-width:2.0px;stroke-linecap:butt;stroke-linejoin:miter;stroke-opacity:1\"/>\n",
       "<path class=\"bond-1 atom-1 atom-2\" d=\"M 243.5,150.0 L 272.8,167.0\" style=\"fill:none;fill-rule:evenodd;stroke:#000000;stroke-width:2.0px;stroke-linecap:butt;stroke-linejoin:miter;stroke-opacity:1\"/>\n",
       "<path class=\"bond-2 atom-1 atom-3\" d=\"M 200.0,107.5 L 200.0,74.9\" style=\"fill:none;fill-rule:evenodd;stroke:#0000FF;stroke-width:2.0px;stroke-linecap:butt;stroke-linejoin:miter;stroke-opacity:1\"/>\n",
       "<path class=\"bond-2 atom-1 atom-3\" d=\"M 200.0,74.9 L 200.0,42.4\" style=\"fill:none;fill-rule:evenodd;stroke:#000000;stroke-width:2.0px;stroke-linecap:butt;stroke-linejoin:miter;stroke-opacity:1\"/>\n",
       "<path class=\"atom-0\" d=\"M 102.0 175.4 Q 102.0 168.3, 105.3 164.6 Q 108.6 160.9, 114.9 160.9 Q 120.7 160.9, 123.8 165.0 L 121.2 167.2 Q 118.9 164.2, 114.9 164.2 Q 110.6 164.2, 108.3 167.1 Q 106.1 169.9, 106.1 175.4 Q 106.1 181.0, 108.4 183.8 Q 110.8 186.7, 115.3 186.7 Q 118.4 186.7, 122.1 184.8 L 123.2 187.8 Q 121.7 188.8, 119.5 189.4 Q 117.2 189.9, 114.8 189.9 Q 108.6 189.9, 105.3 186.2 Q 102.0 182.4, 102.0 175.4 \" fill=\"#000000\"/>\n",
       "<path class=\"atom-1\" d=\"M 193.7 110.8 L 203.0 125.8 Q 203.9 127.3, 205.4 130.0 Q 206.9 132.6, 207.0 132.8 L 207.0 110.8 L 210.7 110.8 L 210.7 139.1 L 206.9 139.1 L 196.9 122.7 Q 195.7 120.8, 194.5 118.6 Q 193.3 116.4, 192.9 115.7 L 192.9 139.1 L 189.3 139.1 L 189.3 110.8 L 193.7 110.8 \" fill=\"#0000FF\"/>\n",
       "<path class=\"atom-2\" d=\"M 276.2 175.4 Q 276.2 168.3, 279.4 164.6 Q 282.8 160.9, 289.0 160.9 Q 294.9 160.9, 298.0 165.0 L 295.4 167.2 Q 293.1 164.2, 289.0 164.2 Q 284.8 164.2, 282.5 167.1 Q 280.2 169.9, 280.2 175.4 Q 280.2 181.0, 282.6 183.8 Q 284.9 186.7, 289.5 186.7 Q 292.6 186.7, 296.2 184.8 L 297.4 187.8 Q 295.9 188.8, 293.6 189.4 Q 291.4 189.9, 288.9 189.9 Q 282.8 189.9, 279.4 186.2 Q 276.2 182.4, 276.2 175.4 \" fill=\"#000000\"/>\n",
       "<path class=\"atom-3\" d=\"M 189.1 24.5 Q 189.1 17.5, 192.4 13.8 Q 195.7 10.1, 202.0 10.1 Q 207.8 10.1, 210.9 14.2 L 208.3 16.4 Q 206.0 13.4, 202.0 13.4 Q 197.7 13.4, 195.4 16.2 Q 193.2 19.1, 193.2 24.5 Q 193.2 30.1, 195.5 33.0 Q 197.8 35.9, 202.4 35.9 Q 205.5 35.9, 209.2 34.0 L 210.3 37.0 Q 208.8 38.0, 206.6 38.5 Q 204.3 39.1, 201.8 39.1 Q 195.7 39.1, 192.4 35.3 Q 189.1 31.6, 189.1 24.5 \" fill=\"#000000\"/>\n",
       "</svg>"
      ],
      "text/plain": [
       "<IPython.core.display.SVG object>"
      ]
     },
     "metadata": {},
     "output_type": "display_data"
    },
    {
     "data": {
      "image/svg+xml": [
       "<svg xmlns=\"http://www.w3.org/2000/svg\" xmlns:rdkit=\"http://www.rdkit.org/xml\" xmlns:xlink=\"http://www.w3.org/1999/xlink\" version=\"1.1\" baseProfile=\"full\" xml:space=\"preserve\" width=\"400px\" height=\"200px\" viewBox=\"0 0 400 200\">\n",
       "<!-- END OF HEADER -->\n",
       "<rect style=\"opacity:1.0;fill:#FFFFFF;stroke:none\" width=\"400.0\" height=\"200.0\" x=\"0.0\" y=\"0.0\"> </rect>\n",
       "<path class=\"bond-0 atom-0 atom-1\" d=\"M 135.6,137.0 L 156.2,125.1\" style=\"fill:none;fill-rule:evenodd;stroke:#000000;stroke-width:2.0px;stroke-linecap:butt;stroke-linejoin:miter;stroke-opacity:1\"/>\n",
       "<path class=\"bond-0 atom-0 atom-1\" d=\"M 156.2,125.1 L 176.8,113.2\" style=\"fill:none;fill-rule:evenodd;stroke:#0000FF;stroke-width:2.0px;stroke-linecap:butt;stroke-linejoin:miter;stroke-opacity:1\"/>\n",
       "<path class=\"bond-1 atom-1 atom-2\" d=\"M 216.7,90.2 L 240.6,76.4\" style=\"fill:none;fill-rule:evenodd;stroke:#0000FF;stroke-width:2.0px;stroke-linecap:butt;stroke-linejoin:miter;stroke-opacity:1\"/>\n",
       "<path class=\"bond-1 atom-1 atom-2\" d=\"M 240.6,76.4 L 264.4,62.6\" style=\"fill:none;fill-rule:evenodd;stroke:#000000;stroke-width:2.0px;stroke-linecap:butt;stroke-linejoin:miter;stroke-opacity:1\"/>\n",
       "<path class=\"bond-2 atom-1 atom-3\" d=\"M 207.5,112.9 L 221.5,137.1\" style=\"fill:none;fill-rule:evenodd;stroke:#0000FF;stroke-width:2.0px;stroke-linecap:butt;stroke-linejoin:miter;stroke-opacity:1\"/>\n",
       "<path class=\"bond-2 atom-1 atom-3\" d=\"M 221.5,137.1 L 235.5,161.2\" style=\"fill:none;fill-rule:evenodd;stroke:#000000;stroke-width:2.0px;stroke-linecap:butt;stroke-linejoin:miter;stroke-opacity:1\"/>\n",
       "<path class=\"bond-3 atom-1 atom-4\" d=\"M 191.0,84.3 L 177.9,61.5\" style=\"fill:none;fill-rule:evenodd;stroke:#0000FF;stroke-width:2.0px;stroke-linecap:butt;stroke-linejoin:miter;stroke-opacity:1\"/>\n",
       "<path class=\"bond-3 atom-1 atom-4\" d=\"M 177.9,61.5 L 164.7,38.8\" style=\"fill:none;fill-rule:evenodd;stroke:#000000;stroke-width:2.0px;stroke-linecap:butt;stroke-linejoin:miter;stroke-opacity:1\"/>\n",
       "<path class=\"atom-0\" d=\"M 113.2 144.5 Q 113.2 138.2, 116.1 134.9 Q 119.1 131.6, 124.7 131.6 Q 129.9 131.6, 132.6 135.3 L 130.3 137.2 Q 128.2 134.5, 124.7 134.5 Q 120.8 134.5, 118.8 137.1 Q 116.8 139.6, 116.8 144.5 Q 116.8 149.4, 118.9 152.0 Q 121.0 154.6, 125.0 154.6 Q 127.8 154.6, 131.1 152.9 L 132.1 155.6 Q 130.7 156.4, 128.7 156.9 Q 126.8 157.4, 124.5 157.4 Q 119.1 157.4, 116.1 154.1 Q 113.2 150.7, 113.2 144.5 \" fill=\"#000000\"/>\n",
       "<path class=\"atom-1\" d=\"M 183.7 87.2 L 192.0 100.6 Q 192.8 101.9, 194.1 104.3 Q 195.5 106.7, 195.5 106.8 L 195.5 87.2 L 198.9 87.2 L 198.9 112.4 L 195.4 112.4 L 186.6 97.8 Q 185.5 96.1, 184.4 94.2 Q 183.3 92.2, 183.0 91.6 L 183.0 112.4 L 179.8 112.4 L 179.8 87.2 L 183.7 87.2 \" fill=\"#0000FF\"/>\n",
       "<path class=\"atom-1\" d=\"M 203.6 100.2 L 210.3 100.2 L 210.3 93.1 L 213.3 93.1 L 213.3 100.2 L 220.2 100.2 L 220.2 102.8 L 213.3 102.8 L 213.3 109.9 L 210.3 109.9 L 210.3 102.8 L 203.6 102.8 L 203.6 100.2 \" fill=\"#0000FF\"/>\n",
       "<path class=\"atom-2\" d=\"M 267.4 55.4 Q 267.4 49.2, 270.3 45.9 Q 273.2 42.6, 278.8 42.6 Q 284.0 42.6, 286.8 46.3 L 284.5 48.2 Q 282.4 45.5, 278.8 45.5 Q 275.0 45.5, 273.0 48.1 Q 271.0 50.6, 271.0 55.4 Q 271.0 60.4, 273.1 63.0 Q 275.2 65.5, 279.2 65.5 Q 282.0 65.5, 285.2 63.9 L 286.2 66.5 Q 284.9 67.4, 282.9 67.9 Q 280.9 68.4, 278.7 68.4 Q 273.2 68.4, 270.3 65.1 Q 267.4 61.7, 267.4 55.4 \" fill=\"#000000\"/>\n",
       "<path class=\"atom-3\" d=\"M 234.8 177.0 Q 234.8 170.8, 237.7 167.5 Q 240.7 164.2, 246.3 164.2 Q 251.5 164.2, 254.2 167.9 L 251.9 169.8 Q 249.9 167.1, 246.3 167.1 Q 242.4 167.1, 240.4 169.7 Q 238.4 172.2, 238.4 177.0 Q 238.4 182.0, 240.5 184.6 Q 242.6 187.2, 246.6 187.2 Q 249.4 187.2, 252.7 185.5 L 253.7 188.1 Q 252.3 189.0, 250.3 189.5 Q 248.4 190.0, 246.1 190.0 Q 240.7 190.0, 237.7 186.7 Q 234.8 183.3, 234.8 177.0 \" fill=\"#000000\"/>\n",
       "<path class=\"atom-4\" d=\"M 145.8 22.9 Q 145.8 16.6, 148.7 13.3 Q 151.6 10.0, 157.2 10.0 Q 162.4 10.0, 165.2 13.7 L 162.9 15.6 Q 160.8 12.9, 157.2 12.9 Q 153.4 12.9, 151.4 15.5 Q 149.4 18.0, 149.4 22.9 Q 149.4 27.8, 151.5 30.4 Q 153.6 33.0, 157.6 33.0 Q 160.4 33.0, 163.6 31.3 L 164.6 34.0 Q 163.3 34.8, 161.3 35.3 Q 159.3 35.8, 157.1 35.8 Q 151.6 35.8, 148.7 32.5 Q 145.8 29.1, 145.8 22.9 \" fill=\"#000000\"/>\n",
       "</svg>"
      ],
      "text/plain": [
       "<IPython.core.display.SVG object>"
      ]
     },
     "metadata": {},
     "output_type": "display_data"
    },
    {
     "data": {
      "image/svg+xml": [
       "<svg xmlns=\"http://www.w3.org/2000/svg\" xmlns:rdkit=\"http://www.rdkit.org/xml\" xmlns:xlink=\"http://www.w3.org/1999/xlink\" version=\"1.1\" baseProfile=\"full\" xml:space=\"preserve\" width=\"400px\" height=\"200px\" viewBox=\"0 0 400 200\">\n",
       "<!-- END OF HEADER -->\n",
       "<rect style=\"opacity:1.0;fill:#FFFFFF;stroke:none\" width=\"400.0\" height=\"200.0\" x=\"0.0\" y=\"0.0\"> </rect>\n",
       "<path class=\"bond-0 atom-0 atom-1\" d=\"M 192.2,122.9 L 160.3,104.5\" style=\"fill:none;fill-rule:evenodd;stroke:#000000;stroke-width:2.0px;stroke-linecap:butt;stroke-linejoin:miter;stroke-opacity:1\"/>\n",
       "<path class=\"bond-0 atom-0 atom-1\" d=\"M 196.3,115.8 L 164.4,97.4\" style=\"fill:none;fill-rule:evenodd;stroke:#000000;stroke-width:2.0px;stroke-linecap:butt;stroke-linejoin:miter;stroke-opacity:1\"/>\n",
       "<path class=\"bond-1 atom-1 atom-2\" d=\"M 152.5,90.3 L 152.5,55.0\" style=\"fill:none;fill-rule:evenodd;stroke:#000000;stroke-width:2.0px;stroke-linecap:butt;stroke-linejoin:miter;stroke-opacity:1\"/>\n",
       "<path class=\"bond-2 atom-2 atom-3\" d=\"M 160.3,40.7 L 176.3,31.4\" style=\"fill:none;fill-rule:evenodd;stroke:#000000;stroke-width:2.0px;stroke-linecap:butt;stroke-linejoin:miter;stroke-opacity:1\"/>\n",
       "<path class=\"bond-2 atom-2 atom-3\" d=\"M 176.3,31.4 L 192.3,22.2\" style=\"fill:none;fill-rule:evenodd;stroke:#0000FF;stroke-width:2.0px;stroke-linecap:butt;stroke-linejoin:miter;stroke-opacity:1\"/>\n",
       "<path class=\"bond-2 atom-2 atom-3\" d=\"M 164.4,47.8 L 180.4,38.6\" style=\"fill:none;fill-rule:evenodd;stroke:#000000;stroke-width:2.0px;stroke-linecap:butt;stroke-linejoin:miter;stroke-opacity:1\"/>\n",
       "<path class=\"bond-2 atom-2 atom-3\" d=\"M 180.4,38.6 L 196.4,29.3\" style=\"fill:none;fill-rule:evenodd;stroke:#0000FF;stroke-width:2.0px;stroke-linecap:butt;stroke-linejoin:miter;stroke-opacity:1\"/>\n",
       "<path class=\"bond-3 atom-3 atom-4\" d=\"M 207.7,22.2 L 223.7,31.4\" style=\"fill:none;fill-rule:evenodd;stroke:#0000FF;stroke-width:2.0px;stroke-linecap:butt;stroke-linejoin:miter;stroke-opacity:1\"/>\n",
       "<path class=\"bond-3 atom-3 atom-4\" d=\"M 223.7,31.4 L 239.7,40.7\" style=\"fill:none;fill-rule:evenodd;stroke:#000000;stroke-width:2.0px;stroke-linecap:butt;stroke-linejoin:miter;stroke-opacity:1\"/>\n",
       "<path class=\"bond-4 atom-4 atom-5\" d=\"M 247.5,55.0 L 247.5,90.3\" style=\"fill:none;fill-rule:evenodd;stroke:#000000;stroke-width:2.0px;stroke-linecap:butt;stroke-linejoin:miter;stroke-opacity:1\"/>\n",
       "<path class=\"bond-4 atom-4 atom-5\" d=\"M 239.3,55.0 L 239.3,90.3\" style=\"fill:none;fill-rule:evenodd;stroke:#000000;stroke-width:2.0px;stroke-linecap:butt;stroke-linejoin:miter;stroke-opacity:1\"/>\n",
       "<path class=\"bond-5 atom-5 atom-0\" d=\"M 239.7,104.5 L 207.8,122.9\" style=\"fill:none;fill-rule:evenodd;stroke:#000000;stroke-width:2.0px;stroke-linecap:butt;stroke-linejoin:miter;stroke-opacity:1\"/>\n",
       "<path class=\"bond-6 atom-0 atom-6\" d=\"M 200.0,137.3 L 200.0,172.7\" style=\"fill:none;fill-rule:evenodd;stroke:#000000;stroke-width:2.0px;stroke-linecap:butt;stroke-linejoin:miter;stroke-opacity:1\"/>\n",
       "<path class=\"bond-7 atom-1 atom-7\" d=\"M 144.7,104.5 L 112.9,122.9\" style=\"fill:none;fill-rule:evenodd;stroke:#000000;stroke-width:2.0px;stroke-linecap:butt;stroke-linejoin:miter;stroke-opacity:1\"/>\n",
       "<path class=\"bond-8 atom-2 atom-8\" d=\"M 144.7,40.7 L 112.9,22.3\" style=\"fill:none;fill-rule:evenodd;stroke:#000000;stroke-width:2.0px;stroke-linecap:butt;stroke-linejoin:miter;stroke-opacity:1\"/>\n",
       "<path class=\"bond-9 atom-4 atom-9\" d=\"M 255.3,40.7 L 287.1,22.3\" style=\"fill:none;fill-rule:evenodd;stroke:#000000;stroke-width:2.0px;stroke-linecap:butt;stroke-linejoin:miter;stroke-opacity:1\"/>\n",
       "<path class=\"bond-10 atom-5 atom-10\" d=\"M 255.3,104.5 L 287.1,122.9\" style=\"fill:none;fill-rule:evenodd;stroke:#000000;stroke-width:2.0px;stroke-linecap:butt;stroke-linejoin:miter;stroke-opacity:1\"/>\n",
       "<path class=\"atom-0\" d=\"M 194.0 127.5 Q 194.0 123.6, 195.8 121.6 Q 197.6 119.6, 201.1 119.6 Q 204.3 119.6, 206.0 121.8 L 204.5 123.0 Q 203.3 121.4, 201.1 121.4 Q 198.7 121.4, 197.5 122.9 Q 196.3 124.5, 196.3 127.5 Q 196.3 130.5, 197.5 132.1 Q 198.8 133.7, 201.3 133.7 Q 203.0 133.7, 205.0 132.7 L 205.6 134.3 Q 204.8 134.8, 203.6 135.2 Q 202.4 135.5, 201.0 135.5 Q 197.6 135.5, 195.8 133.4 Q 194.0 131.3, 194.0 127.5 \" fill=\"#000000\"/>\n",
       "<path class=\"atom-1\" d=\"M 146.5 100.1 Q 146.5 96.2, 148.3 94.2 Q 150.2 92.1, 153.6 92.1 Q 156.8 92.1, 158.5 94.4 L 157.1 95.6 Q 155.8 93.9, 153.6 93.9 Q 151.2 93.9, 150.0 95.5 Q 148.8 97.1, 148.8 100.1 Q 148.8 103.1, 150.0 104.7 Q 151.3 106.3, 153.8 106.3 Q 155.5 106.3, 157.5 105.3 L 158.2 106.9 Q 157.3 107.4, 156.1 107.7 Q 154.9 108.0, 153.5 108.0 Q 150.2 108.0, 148.3 106.0 Q 146.5 103.9, 146.5 100.1 \" fill=\"#000000\"/>\n",
       "<path class=\"atom-2\" d=\"M 146.5 45.2 Q 146.5 41.4, 148.3 39.4 Q 150.2 37.3, 153.6 37.3 Q 156.8 37.3, 158.5 39.6 L 157.1 40.8 Q 155.8 39.1, 153.6 39.1 Q 151.2 39.1, 150.0 40.7 Q 148.8 42.3, 148.8 45.2 Q 148.8 48.3, 150.0 49.9 Q 151.3 51.5, 153.8 51.5 Q 155.5 51.5, 157.5 50.4 L 158.2 52.1 Q 157.3 52.6, 156.1 52.9 Q 154.9 53.2, 153.5 53.2 Q 150.2 53.2, 148.3 51.2 Q 146.5 49.1, 146.5 45.2 \" fill=\"#000000\"/>\n",
       "<path class=\"atom-3\" d=\"M 196.6 10.0 L 201.7 18.2 Q 202.2 19.0, 203.0 20.5 Q 203.8 22.0, 203.8 22.1 L 203.8 10.0 L 205.9 10.0 L 205.9 25.5 L 203.8 25.5 L 198.3 16.5 Q 197.7 15.5, 197.0 14.3 Q 196.3 13.1, 196.1 12.7 L 196.1 25.5 L 194.1 25.5 L 194.1 10.0 L 196.6 10.0 \" fill=\"#0000FF\"/>\n",
       "<path class=\"atom-4\" d=\"M 241.5 45.2 Q 241.5 41.4, 243.3 39.4 Q 245.1 37.3, 248.6 37.3 Q 251.8 37.3, 253.5 39.6 L 252.0 40.8 Q 250.8 39.1, 248.6 39.1 Q 246.2 39.1, 245.0 40.7 Q 243.7 42.3, 243.7 45.2 Q 243.7 48.3, 245.0 49.9 Q 246.3 51.5, 248.8 51.5 Q 250.5 51.5, 252.5 50.4 L 253.1 52.1 Q 252.3 52.6, 251.1 52.9 Q 249.8 53.2, 248.5 53.2 Q 245.1 53.2, 243.3 51.2 Q 241.5 49.1, 241.5 45.2 \" fill=\"#000000\"/>\n",
       "<path class=\"atom-5\" d=\"M 241.5 100.1 Q 241.5 96.2, 243.3 94.2 Q 245.1 92.1, 248.6 92.1 Q 251.8 92.1, 253.5 94.4 L 252.0 95.6 Q 250.8 93.9, 248.6 93.9 Q 246.2 93.9, 245.0 95.5 Q 243.7 97.1, 243.7 100.1 Q 243.7 103.1, 245.0 104.7 Q 246.3 106.3, 248.8 106.3 Q 250.5 106.3, 252.5 105.3 L 253.1 106.9 Q 252.3 107.4, 251.1 107.7 Q 249.8 108.0, 248.5 108.0 Q 245.1 108.0, 243.3 106.0 Q 241.5 103.9, 241.5 100.1 \" fill=\"#000000\"/>\n",
       "<path class=\"atom-6\" d=\"M 193.9 174.5 L 196.0 174.5 L 196.0 181.1 L 204.0 181.1 L 204.0 174.5 L 206.1 174.5 L 206.1 190.0 L 204.0 190.0 L 204.0 182.8 L 196.0 182.8 L 196.0 190.0 L 193.9 190.0 L 193.9 174.5 \" fill=\"#000000\"/>\n",
       "<path class=\"atom-7\" d=\"M 99.0 119.6 L 101.1 119.6 L 101.1 126.3 L 109.0 126.3 L 109.0 119.6 L 111.1 119.6 L 111.1 135.2 L 109.0 135.2 L 109.0 128.0 L 101.1 128.0 L 101.1 135.2 L 99.0 135.2 L 99.0 119.6 \" fill=\"#000000\"/>\n",
       "<path class=\"atom-8\" d=\"M 99.0 10.0 L 101.1 10.0 L 101.1 16.6 L 109.0 16.6 L 109.0 10.0 L 111.1 10.0 L 111.1 25.5 L 109.0 25.5 L 109.0 18.4 L 101.1 18.4 L 101.1 25.5 L 99.0 25.5 L 99.0 10.0 \" fill=\"#000000\"/>\n",
       "<path class=\"atom-9\" d=\"M 288.9 10.0 L 291.0 10.0 L 291.0 16.6 L 298.9 16.6 L 298.9 10.0 L 301.0 10.0 L 301.0 25.5 L 298.9 25.5 L 298.9 18.4 L 291.0 18.4 L 291.0 25.5 L 288.9 25.5 L 288.9 10.0 \" fill=\"#000000\"/>\n",
       "<path class=\"atom-10\" d=\"M 288.9 119.6 L 291.0 119.6 L 291.0 126.2 L 298.9 126.2 L 298.9 119.6 L 301.0 119.6 L 301.0 135.2 L 298.9 135.2 L 298.9 128.0 L 291.0 128.0 L 291.0 135.2 L 288.9 135.2 L 288.9 119.6 \" fill=\"#000000\"/>\n",
       "</svg>"
      ],
      "text/plain": [
       "<IPython.core.display.SVG object>"
      ]
     },
     "metadata": {},
     "output_type": "display_data"
    },
    {
     "data": {
      "image/svg+xml": [
       "<svg xmlns=\"http://www.w3.org/2000/svg\" xmlns:rdkit=\"http://www.rdkit.org/xml\" xmlns:xlink=\"http://www.w3.org/1999/xlink\" version=\"1.1\" baseProfile=\"full\" xml:space=\"preserve\" width=\"400px\" height=\"200px\" viewBox=\"0 0 400 200\">\n",
       "<!-- END OF HEADER -->\n",
       "<rect style=\"opacity:1.0;fill:#FFFFFF;stroke:none\" width=\"400.0\" height=\"200.0\" x=\"0.0\" y=\"0.0\"> </rect>\n",
       "<path class=\"bond-0 atom-0 atom-1\" d=\"M 205.2,141.6 L 170.8,141.6\" style=\"fill:none;fill-rule:evenodd;stroke:#000000;stroke-width:2.0px;stroke-linecap:butt;stroke-linejoin:miter;stroke-opacity:1\"/>\n",
       "<path class=\"bond-0 atom-0 atom-1\" d=\"M 205.2,134.4 L 170.8,134.4\" style=\"fill:none;fill-rule:evenodd;stroke:#000000;stroke-width:2.0px;stroke-linecap:butt;stroke-linejoin:miter;stroke-opacity:1\"/>\n",
       "<path class=\"bond-1 atom-1 atom-2\" d=\"M 159.1,133.1 L 144.9,108.6\" style=\"fill:none;fill-rule:evenodd;stroke:#000000;stroke-width:2.0px;stroke-linecap:butt;stroke-linejoin:miter;stroke-opacity:1\"/>\n",
       "<path class=\"bond-2 atom-2 atom-3\" d=\"M 144.8,91.5 L 159.0,67.0\" style=\"fill:none;fill-rule:evenodd;stroke:#000000;stroke-width:2.0px;stroke-linecap:butt;stroke-linejoin:miter;stroke-opacity:1\"/>\n",
       "<path class=\"bond-2 atom-2 atom-3\" d=\"M 151.1,95.1 L 165.2,70.6\" style=\"fill:none;fill-rule:evenodd;stroke:#000000;stroke-width:2.0px;stroke-linecap:butt;stroke-linejoin:miter;stroke-opacity:1\"/>\n",
       "<path class=\"bond-3 atom-3 atom-4\" d=\"M 170.8,58.4 L 205.2,58.4\" style=\"fill:none;fill-rule:evenodd;stroke:#000000;stroke-width:2.0px;stroke-linecap:butt;stroke-linejoin:miter;stroke-opacity:1\"/>\n",
       "<path class=\"bond-4 atom-4 atom-5\" d=\"M 217.0,67.0 L 231.1,91.5\" style=\"fill:none;fill-rule:evenodd;stroke:#000000;stroke-width:2.0px;stroke-linecap:butt;stroke-linejoin:miter;stroke-opacity:1\"/>\n",
       "<path class=\"bond-4 atom-4 atom-5\" d=\"M 210.8,70.6 L 224.9,95.1\" style=\"fill:none;fill-rule:evenodd;stroke:#000000;stroke-width:2.0px;stroke-linecap:butt;stroke-linejoin:miter;stroke-opacity:1\"/>\n",
       "<path class=\"bond-5 atom-5 atom-6\" d=\"M 242.9,100.0 L 260.1,100.0\" style=\"fill:none;fill-rule:evenodd;stroke:#000000;stroke-width:2.0px;stroke-linecap:butt;stroke-linejoin:miter;stroke-opacity:1\"/>\n",
       "<path class=\"bond-5 atom-5 atom-6\" d=\"M 260.1,100.0 L 277.3,100.0\" style=\"fill:none;fill-rule:evenodd;stroke:#0000FF;stroke-width:2.0px;stroke-linecap:butt;stroke-linejoin:miter;stroke-opacity:1\"/>\n",
       "<path class=\"bond-6 atom-5 atom-0\" d=\"M 231.0,108.6 L 216.9,133.1\" style=\"fill:none;fill-rule:evenodd;stroke:#000000;stroke-width:2.0px;stroke-linecap:butt;stroke-linejoin:miter;stroke-opacity:1\"/>\n",
       "<path class=\"bond-7 atom-0 atom-7\" d=\"M 217.0,150.2 L 231.2,174.8\" style=\"fill:none;fill-rule:evenodd;stroke:#000000;stroke-width:2.0px;stroke-linecap:butt;stroke-linejoin:miter;stroke-opacity:1\"/>\n",
       "<path class=\"bond-8 atom-1 atom-8\" d=\"M 159.0,150.2 L 144.8,174.8\" style=\"fill:none;fill-rule:evenodd;stroke:#000000;stroke-width:2.0px;stroke-linecap:butt;stroke-linejoin:miter;stroke-opacity:1\"/>\n",
       "<path class=\"bond-9 atom-2 atom-9\" d=\"M 133.1,100.0 L 98.8,100.0\" style=\"fill:none;fill-rule:evenodd;stroke:#000000;stroke-width:2.0px;stroke-linecap:butt;stroke-linejoin:miter;stroke-opacity:1\"/>\n",
       "<path class=\"bond-10 atom-3 atom-10\" d=\"M 159.1,49.9 L 144.8,25.2\" style=\"fill:none;fill-rule:evenodd;stroke:#000000;stroke-width:2.0px;stroke-linecap:butt;stroke-linejoin:miter;stroke-opacity:1\"/>\n",
       "<path class=\"bond-11 atom-4 atom-11\" d=\"M 216.9,49.9 L 231.2,25.2\" style=\"fill:none;fill-rule:evenodd;stroke:#000000;stroke-width:2.0px;stroke-linecap:butt;stroke-linejoin:miter;stroke-opacity:1\"/>\n",
       "<path class=\"bond-12 atom-6 atom-12\" d=\"M 288.9,108.4 L 296.1,120.8\" style=\"fill:none;fill-rule:evenodd;stroke:#0000FF;stroke-width:2.0px;stroke-linecap:butt;stroke-linejoin:miter;stroke-opacity:1\"/>\n",
       "<path class=\"bond-12 atom-6 atom-12\" d=\"M 296.1,120.8 L 303.2,133.2\" style=\"fill:none;fill-rule:evenodd;stroke:#000000;stroke-width:2.0px;stroke-linecap:butt;stroke-linejoin:miter;stroke-opacity:1\"/>\n",
       "<path class=\"bond-13 atom-6 atom-13\" d=\"M 288.9,91.6 L 296.1,79.2\" style=\"fill:none;fill-rule:evenodd;stroke:#0000FF;stroke-width:2.0px;stroke-linecap:butt;stroke-linejoin:miter;stroke-opacity:1\"/>\n",
       "<path class=\"bond-13 atom-6 atom-13\" d=\"M 296.1,79.2 L 303.2,66.8\" style=\"fill:none;fill-rule:evenodd;stroke:#000000;stroke-width:2.0px;stroke-linecap:butt;stroke-linejoin:miter;stroke-opacity:1\"/>\n",
       "<path class=\"atom-0\" d=\"M 206.8 141.7 Q 206.8 138.3, 208.3 136.5 Q 209.9 134.7, 213.0 134.7 Q 215.8 134.7, 217.3 136.7 L 216.0 137.7 Q 214.9 136.3, 213.0 136.3 Q 210.9 136.3, 209.8 137.7 Q 208.7 139.0, 208.7 141.7 Q 208.7 144.3, 209.8 145.7 Q 211.0 147.1, 213.2 147.1 Q 214.7 147.1, 216.4 146.2 L 216.9 147.7 Q 216.2 148.1, 215.2 148.4 Q 214.1 148.7, 212.9 148.7 Q 209.9 148.7, 208.3 146.8 Q 206.8 145.0, 206.8 141.7 \" fill=\"#000000\"/>\n",
       "<path class=\"atom-1\" d=\"M 158.7 141.7 Q 158.7 138.3, 160.3 136.5 Q 161.9 134.7, 164.9 134.7 Q 167.7 134.7, 169.2 136.7 L 168.0 137.7 Q 166.9 136.3, 164.9 136.3 Q 162.9 136.3, 161.8 137.7 Q 160.7 139.0, 160.7 141.7 Q 160.7 144.3, 161.8 145.7 Q 162.9 147.1, 165.1 147.1 Q 166.6 147.1, 168.4 146.2 L 168.9 147.7 Q 168.2 148.1, 167.1 148.4 Q 166.0 148.7, 164.9 148.7 Q 161.9 148.7, 160.3 146.8 Q 158.7 145.0, 158.7 141.7 \" fill=\"#000000\"/>\n",
       "<path class=\"atom-2\" d=\"M 134.7 100.1 Q 134.7 96.7, 136.3 94.9 Q 137.9 93.1, 140.9 93.1 Q 143.7 93.1, 145.2 95.1 L 143.9 96.1 Q 142.8 94.7, 140.9 94.7 Q 138.8 94.7, 137.7 96.1 Q 136.7 97.4, 136.7 100.1 Q 136.7 102.7, 137.8 104.1 Q 138.9 105.5, 141.1 105.5 Q 142.6 105.5, 144.4 104.6 L 144.9 106.1 Q 144.2 106.5, 143.1 106.8 Q 142.0 107.1, 140.8 107.1 Q 137.9 107.1, 136.3 105.2 Q 134.7 103.4, 134.7 100.1 \" fill=\"#000000\"/>\n",
       "<path class=\"atom-3\" d=\"M 158.7 58.5 Q 158.7 55.1, 160.3 53.3 Q 161.9 51.5, 164.9 51.5 Q 167.7 51.5, 169.2 53.5 L 168.0 54.5 Q 166.9 53.1, 164.9 53.1 Q 162.9 53.1, 161.8 54.5 Q 160.7 55.8, 160.7 58.5 Q 160.7 61.1, 161.8 62.5 Q 162.9 63.9, 165.1 63.9 Q 166.6 63.9, 168.4 63.0 L 168.9 64.5 Q 168.2 64.9, 167.1 65.2 Q 166.0 65.5, 164.9 65.5 Q 161.9 65.5, 160.3 63.6 Q 158.7 61.8, 158.7 58.5 \" fill=\"#000000\"/>\n",
       "<path class=\"atom-4\" d=\"M 206.8 58.5 Q 206.8 55.1, 208.3 53.3 Q 209.9 51.5, 213.0 51.5 Q 215.8 51.5, 217.3 53.5 L 216.0 54.5 Q 214.9 53.1, 213.0 53.1 Q 210.9 53.1, 209.8 54.5 Q 208.7 55.8, 208.7 58.5 Q 208.7 61.1, 209.8 62.5 Q 211.0 63.9, 213.2 63.9 Q 214.7 63.9, 216.4 63.0 L 216.9 64.5 Q 216.2 64.9, 215.2 65.2 Q 214.1 65.5, 212.9 65.5 Q 209.9 65.5, 208.3 63.6 Q 206.8 61.8, 206.8 58.5 \" fill=\"#000000\"/>\n",
       "<path class=\"atom-5\" d=\"M 230.8 100.1 Q 230.8 96.7, 232.4 94.9 Q 234.0 93.1, 237.0 93.1 Q 239.8 93.1, 241.3 95.1 L 240.0 96.1 Q 238.9 94.7, 237.0 94.7 Q 234.9 94.7, 233.8 96.1 Q 232.7 97.4, 232.7 100.1 Q 232.7 102.7, 233.9 104.1 Q 235.0 105.5, 237.2 105.5 Q 238.7 105.5, 240.4 104.6 L 241.0 106.1 Q 240.3 106.5, 239.2 106.8 Q 238.1 107.1, 236.9 107.1 Q 234.0 107.1, 232.4 105.2 Q 230.8 103.4, 230.8 100.1 \" fill=\"#000000\"/>\n",
       "<path class=\"atom-6\" d=\"M 281.1 93.2 L 285.5 100.4 Q 286.0 101.1, 286.7 102.4 Q 287.4 103.7, 287.4 103.8 L 287.4 93.2 L 289.2 93.2 L 289.2 106.8 L 287.4 106.8 L 282.6 98.9 Q 282.0 98.0, 281.4 96.9 Q 280.8 95.9, 280.7 95.6 L 280.7 106.8 L 278.9 106.8 L 278.9 93.2 L 281.1 93.2 \" fill=\"#0000FF\"/>\n",
       "<path class=\"atom-7\" d=\"M 230.7 176.4 L 232.5 176.4 L 232.5 182.2 L 239.5 182.2 L 239.5 176.4 L 241.3 176.4 L 241.3 190.0 L 239.5 190.0 L 239.5 183.7 L 232.5 183.7 L 232.5 190.0 L 230.7 190.0 L 230.7 176.4 \" fill=\"#000000\"/>\n",
       "<path class=\"atom-8\" d=\"M 134.6 176.4 L 136.5 176.4 L 136.5 182.2 L 143.4 182.2 L 143.4 176.4 L 145.3 176.4 L 145.3 190.0 L 143.4 190.0 L 143.4 183.7 L 136.5 183.7 L 136.5 190.0 L 134.6 190.0 L 134.6 176.4 \" fill=\"#000000\"/>\n",
       "<path class=\"atom-9\" d=\"M 86.6 93.2 L 88.4 93.2 L 88.4 99.0 L 95.4 99.0 L 95.4 93.2 L 97.2 93.2 L 97.2 106.8 L 95.4 106.8 L 95.4 100.5 L 88.4 100.5 L 88.4 106.8 L 86.6 106.8 L 86.6 93.2 \" fill=\"#000000\"/>\n",
       "<path class=\"atom-10\" d=\"M 134.6 10.0 L 136.5 10.0 L 136.5 15.8 L 143.4 15.8 L 143.4 10.0 L 145.3 10.0 L 145.3 23.6 L 143.4 23.6 L 143.4 17.3 L 136.5 17.3 L 136.5 23.6 L 134.6 23.6 L 134.6 10.0 \" fill=\"#000000\"/>\n",
       "<path class=\"atom-11\" d=\"M 230.7 10.0 L 232.5 10.0 L 232.5 15.8 L 239.5 15.8 L 239.5 10.0 L 241.3 10.0 L 241.3 23.6 L 239.5 23.6 L 239.5 17.3 L 232.5 17.3 L 232.5 23.6 L 230.7 23.6 L 230.7 10.0 \" fill=\"#000000\"/>\n",
       "<path class=\"atom-12\" d=\"M 302.8 134.8 L 304.6 134.8 L 304.6 140.6 L 311.6 140.6 L 311.6 134.8 L 313.4 134.8 L 313.4 148.4 L 311.6 148.4 L 311.6 142.1 L 304.6 142.1 L 304.6 148.4 L 302.8 148.4 L 302.8 134.8 \" fill=\"#000000\"/>\n",
       "<path class=\"atom-13\" d=\"M 302.8 51.6 L 304.6 51.6 L 304.6 57.4 L 311.6 57.4 L 311.6 51.6 L 313.4 51.6 L 313.4 65.2 L 311.6 65.2 L 311.6 58.9 L 304.6 58.9 L 304.6 65.2 L 302.8 65.2 L 302.8 51.6 \" fill=\"#000000\"/>\n",
       "</svg>"
      ],
      "text/plain": [
       "<IPython.core.display.SVG object>"
      ]
     },
     "metadata": {},
     "output_type": "display_data"
    },
    {
     "data": {
      "image/svg+xml": [
       "<svg xmlns=\"http://www.w3.org/2000/svg\" xmlns:rdkit=\"http://www.rdkit.org/xml\" xmlns:xlink=\"http://www.w3.org/1999/xlink\" version=\"1.1\" baseProfile=\"full\" xml:space=\"preserve\" width=\"400px\" height=\"200px\" viewBox=\"0 0 400 200\">\n",
       "<!-- END OF HEADER -->\n",
       "<rect style=\"opacity:1.0;fill:#FFFFFF;stroke:none\" width=\"400.0\" height=\"200.0\" x=\"0.0\" y=\"0.0\"> </rect>\n",
       "<path class=\"bond-0 atom-0 atom-1\" d=\"M 73.3,66.4 L 131.8,32.6\" style=\"fill:none;fill-rule:evenodd;stroke:#000000;stroke-width:2.0px;stroke-linecap:butt;stroke-linejoin:miter;stroke-opacity:1\"/>\n",
       "<path class=\"bond-1 atom-1 atom-2\" d=\"M 160.3,32.6 L 183.7,46.1\" style=\"fill:none;fill-rule:evenodd;stroke:#000000;stroke-width:2.0px;stroke-linecap:butt;stroke-linejoin:miter;stroke-opacity:1\"/>\n",
       "<path class=\"bond-1 atom-1 atom-2\" d=\"M 183.7,46.1 L 207.1,59.6\" style=\"fill:none;fill-rule:evenodd;stroke:#0000FF;stroke-width:2.0px;stroke-linecap:butt;stroke-linejoin:miter;stroke-opacity:1\"/>\n",
       "<path class=\"bond-2 atom-2 atom-3\" d=\"M 225.6,92.1 L 225.6,124.8\" style=\"fill:none;fill-rule:evenodd;stroke:#0000FF;stroke-width:2.0px;stroke-linecap:butt;stroke-linejoin:miter;stroke-opacity:1\"/>\n",
       "<path class=\"bond-2 atom-2 atom-3\" d=\"M 225.6,124.8 L 225.6,157.5\" style=\"fill:none;fill-rule:evenodd;stroke:#FF0000;stroke-width:2.0px;stroke-linecap:butt;stroke-linejoin:miter;stroke-opacity:1\"/>\n",
       "<path class=\"bond-2 atom-2 atom-3\" d=\"M 240.7,92.1 L 240.7,124.8\" style=\"fill:none;fill-rule:evenodd;stroke:#0000FF;stroke-width:2.0px;stroke-linecap:butt;stroke-linejoin:miter;stroke-opacity:1\"/>\n",
       "<path class=\"bond-2 atom-2 atom-3\" d=\"M 240.7,124.8 L 240.7,157.5\" style=\"fill:none;fill-rule:evenodd;stroke:#FF0000;stroke-width:2.0px;stroke-linecap:butt;stroke-linejoin:miter;stroke-opacity:1\"/>\n",
       "<path class=\"bond-3 atom-2 atom-4\" d=\"M 251.9,63.8 L 277.9,48.8\" style=\"fill:none;fill-rule:evenodd;stroke:#0000FF;stroke-width:2.0px;stroke-linecap:butt;stroke-linejoin:miter;stroke-opacity:1\"/>\n",
       "<path class=\"bond-3 atom-2 atom-4\" d=\"M 277.9,48.8 L 303.9,33.8\" style=\"fill:none;fill-rule:evenodd;stroke:#FF0000;stroke-width:2.0px;stroke-linecap:butt;stroke-linejoin:miter;stroke-opacity:1\"/>\n",
       "<path class=\"atom-0\" d=\"M 48.1 74.8 Q 48.1 67.7, 51.4 64.1 Q 54.7 60.3, 61.0 60.3 Q 66.8 60.3, 70.0 64.5 L 67.3 66.6 Q 65.0 63.6, 61.0 63.6 Q 56.7 63.6, 54.4 66.5 Q 52.2 69.3, 52.2 74.8 Q 52.2 80.4, 54.5 83.3 Q 56.9 86.1, 61.4 86.1 Q 64.6 86.1, 68.2 84.3 L 69.3 87.3 Q 67.8 88.2, 65.6 88.8 Q 63.4 89.3, 60.9 89.3 Q 54.7 89.3, 51.4 85.6 Q 48.1 81.8, 48.1 74.8 \" fill=\"#000000\"/>\n",
       "<path class=\"atom-1\" d=\"M 135.2 24.5 Q 135.2 17.5, 138.4 13.8 Q 141.8 10.1, 148.0 10.1 Q 153.9 10.1, 157.0 14.2 L 154.4 16.4 Q 152.1 13.4, 148.0 13.4 Q 143.8 13.4, 141.5 16.2 Q 139.2 19.1, 139.2 24.5 Q 139.2 30.1, 141.6 33.0 Q 143.9 35.9, 148.5 35.9 Q 151.6 35.9, 155.2 34.0 L 156.4 37.0 Q 154.9 38.0, 152.6 38.5 Q 150.4 39.1, 147.9 39.1 Q 141.8 39.1, 138.4 35.3 Q 135.2 31.6, 135.2 24.5 \" fill=\"#000000\"/>\n",
       "<path class=\"atom-2\" d=\"M 214.9 60.5 L 224.1 75.5 Q 225.1 77.0, 226.5 79.7 Q 228.0 82.3, 228.1 82.5 L 228.1 60.5 L 231.9 60.5 L 231.9 88.8 L 228.0 88.8 L 218.0 72.4 Q 216.9 70.5, 215.6 68.3 Q 214.4 66.1, 214.1 65.4 L 214.1 88.8 L 210.4 88.8 L 210.4 60.5 L 214.9 60.5 \" fill=\"#0000FF\"/>\n",
       "<path class=\"atom-2\" d=\"M 237.2 75.1 L 244.8 75.1 L 244.8 67.1 L 248.1 67.1 L 248.1 75.1 L 255.9 75.1 L 255.9 78.0 L 248.1 78.0 L 248.1 86.0 L 244.8 86.0 L 244.8 78.0 L 237.2 78.0 L 237.2 75.1 \" fill=\"#0000FF\"/>\n",
       "<path class=\"atom-3\" d=\"M 220.1 175.2 Q 220.1 168.4, 223.5 164.6 Q 226.8 160.8, 233.1 160.8 Q 239.4 160.8, 242.8 164.6 Q 246.1 168.4, 246.1 175.2 Q 246.1 182.1, 242.7 186.0 Q 239.3 189.9, 233.1 189.9 Q 226.9 189.9, 223.5 186.0 Q 220.1 182.2, 220.1 175.2 M 233.1 186.7 Q 237.4 186.7, 239.8 183.8 Q 242.1 180.9, 242.1 175.2 Q 242.1 169.7, 239.8 166.9 Q 237.4 164.0, 233.1 164.0 Q 228.8 164.0, 226.4 166.8 Q 224.1 169.6, 224.1 175.2 Q 224.1 181.0, 226.4 183.8 Q 228.8 186.7, 233.1 186.7 \" fill=\"#FF0000\"/>\n",
       "<path class=\"atom-4\" d=\"M 307.2 24.5 Q 307.2 17.7, 310.5 13.9 Q 313.9 10.1, 320.2 10.1 Q 326.5 10.1, 329.8 13.9 Q 333.2 17.7, 333.2 24.5 Q 333.2 31.4, 329.8 35.3 Q 326.4 39.2, 320.2 39.2 Q 313.9 39.2, 310.5 35.3 Q 307.2 31.4, 307.2 24.5 M 320.2 36.0 Q 324.5 36.0, 326.8 33.1 Q 329.2 30.2, 329.2 24.5 Q 329.2 18.9, 326.8 16.1 Q 324.5 13.3, 320.2 13.3 Q 315.9 13.3, 313.5 16.1 Q 311.2 18.9, 311.2 24.5 Q 311.2 30.2, 313.5 33.1 Q 315.9 36.0, 320.2 36.0 \" fill=\"#FF0000\"/>\n",
       "<path class=\"atom-4\" d=\"M 337.2 24.4 L 351.9 24.4 L 351.9 27.6 L 337.2 27.6 L 337.2 24.4 \" fill=\"#FF0000\"/>\n",
       "</svg>"
      ],
      "text/plain": [
       "<IPython.core.display.SVG object>"
      ]
     },
     "metadata": {},
     "output_type": "display_data"
    },
    {
     "name": "stderr",
     "output_type": "stream",
     "text": [
      "[10:03:55] Can't kekulize mol.  Unkekulized atoms: 0 2 3 4 5\n"
     ]
    },
    {
     "ename": "ArgumentError",
     "evalue": "Python argument types in\n    rdkit.Chem.rdmolops.AddHs(NoneType)\ndid not match C++ signature:\n    AddHs(RDKit::ROMol mol, bool explicitOnly=False, bool addCoords=False, boost::python::api::object onlyOnAtoms=None, bool addResidueInfo=False)",
     "output_type": "error",
     "traceback": [
      "\u001b[0;31m---------------------------------------------------------------------------\u001b[0m",
      "\u001b[0;31mArgumentError\u001b[0m                             Traceback (most recent call last)",
      "Cell \u001b[0;32mIn[66], line 36\u001b[0m\n\u001b[1;32m     34\u001b[0m \u001b[38;5;66;03m# for nb: inner sp2 N in conj. ring systems \u001b[39;00m\n\u001b[1;32m     35\u001b[0m smiles \u001b[38;5;241m=\u001b[39m \u001b[38;5;124m\"\u001b[39m\u001b[38;5;124mc1n=cccc1\u001b[39m\u001b[38;5;124m\"\u001b[39m\n\u001b[0;32m---> 36\u001b[0m \u001b[43mplot\u001b[49m\u001b[43m(\u001b[49m\u001b[43msmiles\u001b[49m\u001b[43m,\u001b[49m\u001b[38;5;28;43;01mTrue\u001b[39;49;00m\u001b[43m)\u001b[49m\n\u001b[1;32m     38\u001b[0m \u001b[38;5;66;03m# for nc(nd): inner sp2 N in conj. chain systems \u001b[39;00m\n\u001b[1;32m     39\u001b[0m smiles\u001b[38;5;241m=\u001b[39m \u001b[38;5;124m\"\u001b[39m\u001b[38;5;124mC=N-C=C-C\u001b[39m\u001b[38;5;124m\"\u001b[39m\n",
      "Cell \u001b[0;32mIn[32], line 5\u001b[0m, in \u001b[0;36mplot\u001b[0;34m(smiles, withH)\u001b[0m\n\u001b[1;32m      3\u001b[0m molecule \u001b[38;5;241m=\u001b[39m Chem\u001b[38;5;241m.\u001b[39mMolFromSmiles(smiles)\n\u001b[1;32m      4\u001b[0m \u001b[38;5;28;01mif\u001b[39;00m withH:\n\u001b[0;32m----> 5\u001b[0m     molecule \u001b[38;5;241m=\u001b[39m \u001b[43mChem\u001b[49m\u001b[38;5;241;43m.\u001b[39;49m\u001b[43mAddHs\u001b[49m\u001b[43m(\u001b[49m\u001b[43mmolecule\u001b[49m\u001b[43m)\u001b[49m\n\u001b[1;32m      7\u001b[0m \u001b[38;5;66;03m# Create an SVG drawer\u001b[39;00m\n\u001b[1;32m      8\u001b[0m drawer \u001b[38;5;241m=\u001b[39m rdMolDraw2D\u001b[38;5;241m.\u001b[39mMolDraw2DSVG(\u001b[38;5;241m400\u001b[39m, \u001b[38;5;241m200\u001b[39m)  \u001b[38;5;66;03m# Specify the image size\u001b[39;00m\n",
      "\u001b[0;31mArgumentError\u001b[0m: Python argument types in\n    rdkit.Chem.rdmolops.AddHs(NoneType)\ndid not match C++ signature:\n    AddHs(RDKit::ROMol mol, bool explicitOnly=False, bool addCoords=False, boost::python::api::object onlyOnAtoms=None, bool addResidueInfo=False)"
     ]
    }
   ],
   "source": [
    "# for nitrogens\n",
    "# for n: sp2 N in amide --> \n",
    "smiles = \"CC(=O)NC\"\n",
    "plot(smiles)\n",
    "\n",
    "#for n1: sp1 N \n",
    "smiles = \"O=[N+]=O\"\n",
    "plot(smiles)\n",
    "\n",
    "# for n2: sp2 N with 2 subst. readl double bond (not sure what the last part means)\n",
    "smiles = \"CNC\"\n",
    "plot(smiles)\n",
    "\n",
    "# for n3: sp3 N with 3 subst.\n",
    "smiles = \"CN(C)C\"\n",
    "plot(smiles)\n",
    "\n",
    "# for n4: sp3 N with 4 subst. \n",
    "smiles = \"C[N+](C)(C)C\"\n",
    "plot(smiles)\n",
    "\n",
    "# for na: sp2 N with 3 subst \n",
    "smiles = \"c1ccncc1\"\n",
    "plot(smiles,True)\n",
    "\n",
    "# for nh: amine N connected to the aromatic rings  \n",
    "smiles = \"c1ccccc1N\"\n",
    "plot(smiles, True)\n",
    "\n",
    "# for no: in nitro group\n",
    "smiles = \"CC[N+](=O)[O-]\"\n",
    "plot(smiles)\n",
    "\n",
    "# for nb: inner sp2 N in conj. ring systems \n",
    "smiles = \"c1n=cccc1\"\n",
    "plot(smiles,True)\n",
    "\n",
    "# for nc(nd): inner sp2 N in conj. chain systems \n",
    "smiles= \"C=N-C=C-C\"\n",
    "plot(smiles, True)\n",
    "\n",
    "\n",
    "# for n: aromatic nitrogen \n",
    "smiles = \"c1ccncc1\"\n",
    "plot(smiles)"
   ]
  },
  {
   "cell_type": "code",
   "execution_count": 62,
   "metadata": {},
   "outputs": [
    {
     "data": {
      "image/svg+xml": [
       "<svg xmlns=\"http://www.w3.org/2000/svg\" xmlns:rdkit=\"http://www.rdkit.org/xml\" xmlns:xlink=\"http://www.w3.org/1999/xlink\" version=\"1.1\" baseProfile=\"full\" xml:space=\"preserve\" width=\"400px\" height=\"200px\" viewBox=\"0 0 400 200\">\n",
       "<!-- END OF HEADER -->\n",
       "<rect style=\"opacity:1.0;fill:#FFFFFF;stroke:none\" width=\"400.0\" height=\"200.0\" x=\"0.0\" y=\"0.0\"> </rect>\n",
       "<path class=\"bond-0 atom-0 atom-1\" d=\"M 48.8,104.8 L 134.6,68.3\" style=\"fill:none;fill-rule:evenodd;stroke:#000000;stroke-width:2.0px;stroke-linecap:butt;stroke-linejoin:miter;stroke-opacity:1\"/>\n",
       "<path class=\"bond-1 atom-1 atom-2\" d=\"M 164.7,73.2 L 200.9,100.4\" style=\"fill:none;fill-rule:evenodd;stroke:#000000;stroke-width:2.0px;stroke-linecap:butt;stroke-linejoin:miter;stroke-opacity:1\"/>\n",
       "<path class=\"bond-1 atom-1 atom-2\" d=\"M 200.9,100.4 L 237.1,127.6\" style=\"fill:none;fill-rule:evenodd;stroke:#CCCC00;stroke-width:2.0px;stroke-linecap:butt;stroke-linejoin:miter;stroke-opacity:1\"/>\n",
       "<path class=\"bond-2 atom-2 atom-3\" d=\"M 263.6,131.9 L 307.4,113.3\" style=\"fill:none;fill-rule:evenodd;stroke:#CCCC00;stroke-width:2.0px;stroke-linecap:butt;stroke-linejoin:miter;stroke-opacity:1\"/>\n",
       "<path class=\"bond-2 atom-2 atom-3\" d=\"M 307.4,113.3 L 351.2,94.7\" style=\"fill:none;fill-rule:evenodd;stroke:#000000;stroke-width:2.0px;stroke-linecap:butt;stroke-linejoin:miter;stroke-opacity:1\"/>\n",
       "<path class=\"atom-0\" d=\"M 22.8 111.3 Q 22.8 104.3, 26.1 100.6 Q 29.4 96.9, 35.7 96.9 Q 41.6 96.9, 44.7 101.0 L 42.0 103.1 Q 39.8 100.1, 35.7 100.1 Q 31.4 100.1, 29.2 103.0 Q 26.9 105.9, 26.9 111.3 Q 26.9 116.9, 29.2 119.8 Q 31.6 122.7, 36.2 122.7 Q 39.3 122.7, 42.9 120.8 L 44.0 123.8 Q 42.6 124.7, 40.3 125.3 Q 38.1 125.9, 35.6 125.9 Q 29.4 125.9, 26.1 122.1 Q 22.8 118.3, 22.8 111.3 \" fill=\"#000000\"/>\n",
       "<path class=\"atom-1\" d=\"M 138.7 62.0 Q 138.7 54.9, 142.0 51.3 Q 145.3 47.5, 151.6 47.5 Q 157.5 47.5, 160.6 51.7 L 157.9 53.8 Q 155.7 50.8, 151.6 50.8 Q 147.3 50.8, 145.1 53.7 Q 142.8 56.5, 142.8 62.0 Q 142.8 67.6, 145.1 70.5 Q 147.5 73.3, 152.1 73.3 Q 155.2 73.3, 158.8 71.5 L 159.9 74.5 Q 158.5 75.4, 156.2 76.0 Q 154.0 76.5, 151.5 76.5 Q 145.3 76.5, 142.0 72.8 Q 138.7 69.0, 138.7 62.0 \" fill=\"#000000\"/>\n",
       "<path class=\"atom-2\" d=\"M 242.3 147.3 Q 242.7 147.4, 244.0 148.0 Q 245.3 148.5, 246.7 148.9 Q 248.2 149.2, 249.7 149.2 Q 252.3 149.2, 253.9 147.9 Q 255.5 146.6, 255.5 144.3 Q 255.5 142.8, 254.7 141.8 Q 253.9 140.9, 252.7 140.3 Q 251.5 139.8, 249.5 139.2 Q 247.0 138.5, 245.5 137.7 Q 244.0 137.0, 242.9 135.5 Q 241.9 134.0, 241.9 131.4 Q 241.9 127.9, 244.3 125.7 Q 246.7 123.5, 251.5 123.5 Q 254.8 123.5, 258.5 125.0 L 257.6 128.1 Q 254.2 126.7, 251.6 126.7 Q 248.9 126.7, 247.3 127.9 Q 245.8 129.0, 245.9 130.9 Q 245.9 132.5, 246.6 133.4 Q 247.4 134.3, 248.5 134.8 Q 249.7 135.3, 251.6 135.9 Q 254.2 136.7, 255.7 137.5 Q 257.2 138.3, 258.3 140.0 Q 259.4 141.6, 259.4 144.3 Q 259.4 148.3, 256.8 150.4 Q 254.2 152.5, 249.8 152.5 Q 247.3 152.5, 245.4 151.9 Q 243.5 151.4, 241.3 150.5 L 242.3 147.3 \" fill=\"#CCCC00\"/>\n",
       "<path class=\"atom-3\" d=\"M 355.3 88.4 Q 355.3 81.3, 358.6 77.7 Q 361.9 73.9, 368.2 73.9 Q 374.0 73.9, 377.2 78.1 L 374.5 80.2 Q 372.2 77.2, 368.2 77.2 Q 363.9 77.2, 361.6 80.1 Q 359.4 82.9, 359.4 88.4 Q 359.4 94.0, 361.7 96.9 Q 364.1 99.7, 368.6 99.7 Q 371.8 99.7, 375.4 97.9 L 376.5 100.9 Q 375.0 101.8, 372.8 102.4 Q 370.6 102.9, 368.1 102.9 Q 361.9 102.9, 358.6 99.2 Q 355.3 95.4, 355.3 88.4 \" fill=\"#000000\"/>\n",
       "</svg>"
      ],
      "text/plain": [
       "<IPython.core.display.SVG object>"
      ]
     },
     "metadata": {},
     "output_type": "display_data"
    },
    {
     "data": {
      "image/svg+xml": [
       "<svg xmlns=\"http://www.w3.org/2000/svg\" xmlns:rdkit=\"http://www.rdkit.org/xml\" xmlns:xlink=\"http://www.w3.org/1999/xlink\" version=\"1.1\" baseProfile=\"full\" xml:space=\"preserve\" width=\"400px\" height=\"200px\" viewBox=\"0 0 400 200\">\n",
       "<!-- END OF HEADER -->\n",
       "<rect style=\"opacity:1.0;fill:#FFFFFF;stroke:none\" width=\"400.0\" height=\"200.0\" x=\"0.0\" y=\"0.0\"> </rect>\n",
       "<path class=\"bond-0 atom-0 atom-1\" d=\"M 66.8,77.1 L 333.2,77.1\" style=\"fill:none;fill-rule:evenodd;stroke:#CCCC00;stroke-width:2.0px;stroke-linecap:butt;stroke-linejoin:miter;stroke-opacity:1\"/>\n",
       "<path class=\"bond-0 atom-0 atom-1\" d=\"M 66.8,122.9 L 333.2,122.9\" style=\"fill:none;fill-rule:evenodd;stroke:#CCCC00;stroke-width:2.0px;stroke-linecap:butt;stroke-linejoin:miter;stroke-opacity:1\"/>\n",
       "<path class=\"atom-0\" d=\"M 39.7 109.7 Q 40.0 109.8, 41.3 110.4 Q 42.6 111.0, 44.1 111.3 Q 45.5 111.6, 47.0 111.6 Q 49.7 111.6, 51.2 110.4 Q 52.8 109.0, 52.8 106.8 Q 52.8 105.2, 52.0 104.2 Q 51.2 103.3, 50.0 102.8 Q 48.8 102.2, 46.8 101.6 Q 44.3 100.9, 42.8 100.2 Q 41.3 99.4, 40.2 97.9 Q 39.2 96.4, 39.2 93.8 Q 39.2 90.3, 41.6 88.1 Q 44.0 85.9, 48.8 85.9 Q 52.1 85.9, 55.8 87.4 L 54.9 90.5 Q 51.5 89.1, 48.9 89.1 Q 46.2 89.1, 44.7 90.3 Q 43.1 91.4, 43.2 93.4 Q 43.2 94.9, 43.9 95.8 Q 44.7 96.7, 45.9 97.2 Q 47.0 97.8, 48.9 98.4 Q 51.5 99.2, 53.0 100.0 Q 54.5 100.8, 55.6 102.4 Q 56.7 104.0, 56.7 106.8 Q 56.7 110.7, 54.1 112.8 Q 51.5 114.9, 47.1 114.9 Q 44.6 114.9, 42.7 114.3 Q 40.8 113.8, 38.6 112.9 L 39.7 109.7 \" fill=\"#CCCC00\"/>\n",
       "<path class=\"atom-1\" d=\"M 344.3 109.7 Q 344.7 109.8, 346.0 110.4 Q 347.3 111.0, 348.7 111.3 Q 350.2 111.6, 351.7 111.6 Q 354.3 111.6, 355.9 110.4 Q 357.5 109.0, 357.5 106.8 Q 357.5 105.2, 356.7 104.2 Q 355.9 103.3, 354.7 102.8 Q 353.5 102.2, 351.5 101.6 Q 349.0 100.9, 347.5 100.2 Q 346.0 99.4, 344.9 97.9 Q 343.9 96.4, 343.9 93.8 Q 343.9 90.3, 346.3 88.1 Q 348.7 85.9, 353.5 85.9 Q 356.8 85.9, 360.5 87.4 L 359.6 90.5 Q 356.2 89.1, 353.6 89.1 Q 350.9 89.1, 349.3 90.3 Q 347.8 91.4, 347.9 93.4 Q 347.9 94.9, 348.6 95.8 Q 349.4 96.7, 350.5 97.2 Q 351.7 97.8, 353.6 98.4 Q 356.2 99.2, 357.7 100.0 Q 359.2 100.8, 360.3 102.4 Q 361.4 104.0, 361.4 106.8 Q 361.4 110.7, 358.8 112.8 Q 356.2 114.9, 351.8 114.9 Q 349.3 114.9, 347.4 114.3 Q 345.5 113.8, 343.3 112.9 L 344.3 109.7 \" fill=\"#CCCC00\"/>\n",
       "</svg>"
      ],
      "text/plain": [
       "<IPython.core.display.SVG object>"
      ]
     },
     "metadata": {},
     "output_type": "display_data"
    },
    {
     "data": {
      "image/svg+xml": [
       "<svg xmlns=\"http://www.w3.org/2000/svg\" xmlns:rdkit=\"http://www.rdkit.org/xml\" xmlns:xlink=\"http://www.w3.org/1999/xlink\" version=\"1.1\" baseProfile=\"full\" xml:space=\"preserve\" width=\"400px\" height=\"200px\" viewBox=\"0 0 400 200\">\n",
       "<!-- END OF HEADER -->\n",
       "<rect style=\"opacity:1.0;fill:#FFFFFF;stroke:none\" width=\"400.0\" height=\"200.0\" x=\"0.0\" y=\"0.0\"> </rect>\n",
       "<path class=\"bond-0 atom-0 atom-1\" d=\"M 135.6,137.0 L 162.3,121.6\" style=\"fill:none;fill-rule:evenodd;stroke:#000000;stroke-width:2.0px;stroke-linecap:butt;stroke-linejoin:miter;stroke-opacity:1\"/>\n",
       "<path class=\"bond-0 atom-0 atom-1\" d=\"M 162.3,121.6 L 189.0,106.2\" style=\"fill:none;fill-rule:evenodd;stroke:#CCCC00;stroke-width:2.0px;stroke-linecap:butt;stroke-linejoin:miter;stroke-opacity:1\"/>\n",
       "<path class=\"bond-1 atom-1 atom-2\" d=\"M 211.0,93.5 L 237.7,78.1\" style=\"fill:none;fill-rule:evenodd;stroke:#CCCC00;stroke-width:2.0px;stroke-linecap:butt;stroke-linejoin:miter;stroke-opacity:1\"/>\n",
       "<path class=\"bond-1 atom-1 atom-2\" d=\"M 237.7,78.1 L 264.4,62.6\" style=\"fill:none;fill-rule:evenodd;stroke:#000000;stroke-width:2.0px;stroke-linecap:butt;stroke-linejoin:miter;stroke-opacity:1\"/>\n",
       "<path class=\"bond-2 atom-1 atom-3\" d=\"M 209.3,116.0 L 222.4,138.6\" style=\"fill:none;fill-rule:evenodd;stroke:#CCCC00;stroke-width:2.0px;stroke-linecap:butt;stroke-linejoin:miter;stroke-opacity:1\"/>\n",
       "<path class=\"bond-2 atom-1 atom-3\" d=\"M 222.4,138.6 L 235.5,161.2\" style=\"fill:none;fill-rule:evenodd;stroke:#000000;stroke-width:2.0px;stroke-linecap:butt;stroke-linejoin:miter;stroke-opacity:1\"/>\n",
       "<path class=\"bond-3 atom-1 atom-4\" d=\"M 191.0,84.3 L 177.9,61.5\" style=\"fill:none;fill-rule:evenodd;stroke:#CCCC00;stroke-width:2.0px;stroke-linecap:butt;stroke-linejoin:miter;stroke-opacity:1\"/>\n",
       "<path class=\"bond-3 atom-1 atom-4\" d=\"M 177.9,61.5 L 164.7,38.8\" style=\"fill:none;fill-rule:evenodd;stroke:#000000;stroke-width:2.0px;stroke-linecap:butt;stroke-linejoin:miter;stroke-opacity:1\"/>\n",
       "<path class=\"atom-0\" d=\"M 113.2 144.5 Q 113.2 138.2, 116.1 134.9 Q 119.1 131.6, 124.7 131.6 Q 129.9 131.6, 132.6 135.3 L 130.3 137.2 Q 128.2 134.5, 124.7 134.5 Q 120.8 134.5, 118.8 137.1 Q 116.8 139.6, 116.8 144.5 Q 116.8 149.4, 118.9 152.0 Q 121.0 154.6, 125.0 154.6 Q 127.8 154.6, 131.1 152.9 L 132.1 155.6 Q 130.7 156.4, 128.7 156.9 Q 126.8 157.4, 124.5 157.4 Q 119.1 157.4, 116.1 154.1 Q 113.2 150.7, 113.2 144.5 \" fill=\"#000000\"/>\n",
       "<path class=\"atom-1\" d=\"M 192.9 108.5 Q 193.2 108.6, 194.3 109.1 Q 195.5 109.6, 196.8 109.9 Q 198.1 110.2, 199.4 110.2 Q 201.8 110.2, 203.2 109.1 Q 204.6 107.9, 204.6 105.9 Q 204.6 104.5, 203.8 103.6 Q 203.2 102.8, 202.1 102.3 Q 201.0 101.8, 199.3 101.3 Q 197.0 100.6, 195.7 100.0 Q 194.3 99.3, 193.4 98.0 Q 192.5 96.6, 192.5 94.4 Q 192.5 91.2, 194.6 89.2 Q 196.8 87.3, 201.0 87.3 Q 204.0 87.3, 207.3 88.7 L 206.4 91.4 Q 203.4 90.2, 201.1 90.2 Q 198.7 90.2, 197.3 91.2 Q 196.0 92.2, 196.0 93.9 Q 196.0 95.3, 196.7 96.1 Q 197.4 96.9, 198.4 97.4 Q 199.4 97.8, 201.1 98.4 Q 203.4 99.1, 204.8 99.8 Q 206.1 100.5, 207.1 102.0 Q 208.1 103.4, 208.1 105.9 Q 208.1 109.3, 205.7 111.2 Q 203.4 113.1, 199.5 113.1 Q 197.3 113.1, 195.6 112.6 Q 193.9 112.1, 191.9 111.3 L 192.9 108.5 \" fill=\"#CCCC00\"/>\n",
       "<path class=\"atom-2\" d=\"M 267.4 55.4 Q 267.4 49.2, 270.3 45.9 Q 273.2 42.6, 278.8 42.6 Q 284.0 42.6, 286.8 46.3 L 284.5 48.2 Q 282.4 45.5, 278.8 45.5 Q 275.0 45.5, 273.0 48.1 Q 271.0 50.6, 271.0 55.4 Q 271.0 60.4, 273.1 63.0 Q 275.2 65.5, 279.2 65.5 Q 282.0 65.5, 285.2 63.9 L 286.2 66.5 Q 284.9 67.4, 282.9 67.9 Q 280.9 68.4, 278.7 68.4 Q 273.2 68.4, 270.3 65.1 Q 267.4 61.7, 267.4 55.4 \" fill=\"#000000\"/>\n",
       "<path class=\"atom-3\" d=\"M 234.8 177.0 Q 234.8 170.8, 237.7 167.5 Q 240.7 164.2, 246.3 164.2 Q 251.5 164.2, 254.2 167.9 L 251.9 169.8 Q 249.9 167.1, 246.3 167.1 Q 242.4 167.1, 240.4 169.7 Q 238.4 172.2, 238.4 177.0 Q 238.4 182.0, 240.5 184.6 Q 242.6 187.2, 246.6 187.2 Q 249.4 187.2, 252.7 185.5 L 253.7 188.1 Q 252.3 189.0, 250.3 189.5 Q 248.4 190.0, 246.1 190.0 Q 240.7 190.0, 237.7 186.7 Q 234.8 183.3, 234.8 177.0 \" fill=\"#000000\"/>\n",
       "<path class=\"atom-4\" d=\"M 145.8 22.9 Q 145.8 16.6, 148.7 13.3 Q 151.6 10.0, 157.2 10.0 Q 162.4 10.0, 165.2 13.7 L 162.9 15.6 Q 160.8 12.9, 157.2 12.9 Q 153.4 12.9, 151.4 15.5 Q 149.4 18.0, 149.4 22.9 Q 149.4 27.8, 151.5 30.4 Q 153.6 33.0, 157.6 33.0 Q 160.4 33.0, 163.6 31.3 L 164.6 34.0 Q 163.3 34.8, 161.3 35.3 Q 159.3 35.8, 157.1 35.8 Q 151.6 35.8, 148.7 32.5 Q 145.8 29.1, 145.8 22.9 \" fill=\"#000000\"/>\n",
       "</svg>"
      ],
      "text/plain": [
       "<IPython.core.display.SVG object>"
      ]
     },
     "metadata": {},
     "output_type": "display_data"
    }
   ],
   "source": [
    "# for s\n",
    "# for ss: sp3 S in -SR and SS\n",
    "smiles = \"CCSC\" #(Methylsulfanyl)ethane\n",
    "plot(smiles)\n",
    "smiles=\"S=S\"\n",
    "plot(smiles)\n",
    "\n",
    "# for s: tehre is no description..\n",
    "\n",
    "# for sy: conj. S, 4 subst. \n",
    "smiles = \"CS(C)(C)C\"\n",
    "plot(smiles)\n",
    "\n",
    "# other s do not appear in delaney dataset\n"
   ]
  },
  {
   "cell_type": "code",
   "execution_count": null,
   "metadata": {},
   "outputs": [],
   "source": [
    "# Cl, F, no differentiations"
   ]
  },
  {
   "cell_type": "markdown",
   "metadata": {},
   "source": []
  }
 ],
 "metadata": {
  "kernelspec": {
   "display_name": "attentionviz2",
   "language": "python",
   "name": "python3"
  },
  "language_info": {
   "codemirror_mode": {
    "name": "ipython",
    "version": 3
   },
   "file_extension": ".py",
   "mimetype": "text/x-python",
   "name": "python",
   "nbconvert_exporter": "python",
   "pygments_lexer": "ipython3",
   "version": "3.10.14"
  }
 },
 "nbformat": 4,
 "nbformat_minor": 2
}
