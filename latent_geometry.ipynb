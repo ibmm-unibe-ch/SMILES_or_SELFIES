{
 "cells": [
  {
   "cell_type": "code",
   "execution_count": 9,
   "id": "246b53d7",
   "metadata": {},
   "outputs": [
    {
     "name": "stderr",
     "output_type": "stream",
     "text": [
      "100%|█████████████████████████████████████████████████████████████████████████████| 2/2 [00:00<00:00,  2.51it/s]\n",
      "100%|█████████████████████████████████████████████████████████████████████████████| 2/2 [00:00<00:00, 77.17it/s]\n",
      "100%|█████████████████████████████████████████████████████████████████████████████| 2/2 [00:00<00:00, 85.02it/s]\n",
      "100%|█████████████████████████████████████████████████████████████████████████████| 2/2 [00:00<00:00, 82.19it/s]\n",
      "100%|█████████████████████████████████████████████████████████████████████████████| 2/2 [00:00<00:00, 82.21it/s]\n",
      "100%|█████████████████████████████████████████████████████████████████████████████| 2/2 [00:00<00:00, 96.83it/s]\n",
      "100%|█████████████████████████████████████████████████████████████████████████████| 2/2 [00:00<00:00, 79.78it/s]\n",
      "100%|█████████████████████████████████████████████████████████████████████████████| 2/2 [00:00<00:00, 80.83it/s]\n",
      "100%|████████████████████████████████████████████████████████████████████████████| 2/2 [00:00<00:00, 110.74it/s]\n",
      "100%|████████████████████████████████████████████████████████████████████████████| 2/2 [00:00<00:00, 108.21it/s]\n",
      "100%|████████████████████████████████████████████████████████████████████████████| 2/2 [00:00<00:00, 127.84it/s]\n",
      "100%|████████████████████████████████████████████████████████████████████████████| 2/2 [00:00<00:00, 139.78it/s]\n",
      "100%|████████████████████████████████████████████████████████████████████████████| 2/2 [00:00<00:00, 136.32it/s]\n",
      "100%|████████████████████████████████████████████████████████████████████████████| 2/2 [00:00<00:00, 129.01it/s]\n",
      "100%|████████████████████████████████████████████████████████████████████████████| 2/2 [00:00<00:00, 137.35it/s]\n",
      "100%|████████████████████████████████████████████████████████████████████████████| 2/2 [00:00<00:00, 132.78it/s]\n"
     ]
    }
   ],
   "source": [
    "from fairseq_utils import preprocess_series, load_dataset, load_model, get_embeddings\n",
    "from fairseq.data import Dictionary\n",
    "from constants import TOKENIZER_SUFFIXES, TOKENIZER_PATH, FAIRSEQ_PREPROCESS_PATH, PROJECT_PATH, PREDICTION_MODEL_PATH, TASK_PATH\n",
    "import pandas as pd\n",
    "\n",
    "molecules = [\"CCC\", \"CC\"]\n",
    "\n",
    "def embed_all(path, cuda=0):\n",
    "    output_dict = dict()\n",
    "    for model_type in [\"bart\",\"roberta\"]:\n",
    "        tokenizer_dict = dict()\n",
    "        for tokenizer_suffix in TOKENIZER_SUFFIXES:\n",
    "            tokenizer_dict[tokenizer_suffix] = embed(path, model_type, tokenizer_suffix, cuda)\n",
    "        output_dict[model_type] = tokenizer_dict \n",
    "    return output_dict\n",
    "\n",
    "def embed(path, model_type, tokenizer_suffix, cuda):\n",
    "    model_suffix = tokenizer_suffix+\"_\"+model_type\n",
    "    fairseq_dict_path = TASK_PATH / \"bbbp\" /tokenizer_suffix\n",
    "    model_path = PREDICTION_MODEL_PATH/model_suffix/\"checkpoint_last.pt\"\n",
    "    model = load_model(model_path,fairseq_dict_path,str(cuda))\n",
    "    dataset_path = (path / tokenizer_suffix/ \"input0\")\n",
    "    dataset = load_dataset(dataset_path/\"train\")\n",
    "    source_dictionary = Dictionary.load(str(dataset_path/\"dict.txt\"))\n",
    "    embeddings = get_embeddings(model, dataset, source_dictionary, whole_mol=True, cuda=cuda)\n",
    "    return embeddings\n",
    "    \n",
    "latent_geometry_path = PROJECT_PATH/\"latent_space_geometry\"\n",
    "preprocess_series(molecules, latent_geometry_path)\n",
    "embedding_dict = embed_all(latent_geometry_path, 1)"
   ]
  }
 ],
 "metadata": {
  "kernelspec": {
   "display_name": "Python 3 (ipykernel)",
   "language": "python",
   "name": "python3"
  },
  "language_info": {
   "codemirror_mode": {
    "name": "ipython",
    "version": 3
   },
   "file_extension": ".py",
   "mimetype": "text/x-python",
   "name": "python",
   "nbconvert_exporter": "python",
   "pygments_lexer": "ipython3",
   "version": "3.10.8"
  }
 },
 "nbformat": 4,
 "nbformat_minor": 5
}
