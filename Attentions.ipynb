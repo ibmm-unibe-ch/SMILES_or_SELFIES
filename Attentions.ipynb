{
 "cells": [
  {
   "cell_type": "code",
   "execution_count": 4,
   "id": "866d0695",
   "metadata": {},
   "outputs": [
    {
     "data": {
      "text/plain": [
       "[('1', 0.0, 0, 308),\n",
       " ('4', 0.0, 0, 30),\n",
       " ('(', 0.0, 0, 338),\n",
       " ('O', 0.0, 0, 255),\n",
       " ('n', 0.0, 0, 68),\n",
       " ('-', 0.0, 0, 17),\n",
       " ('F', 0.0, 0, 17),\n",
       " ('o', 0.0, 0, 11),\n",
       " ('s', 0.0, 0, 6),\n",
       " ('#', 0.0, 0, 4),\n",
       " ('5', 0.0, 0, 12),\n",
       " ('[n+]', 0.0, 0, 1),\n",
       " ('[O-]', 0.0, 0, 4),\n",
       " ('6', 0.0, 0, 2),\n",
       " ('P', 0.0, 0, 2),\n",
       " ('[N+]', 0.0, 0, 3),\n",
       " ('C', 0.0015082956259426848, 1, 663),\n",
       " (')', 0.0029585798816568047, 1, 338),\n",
       " ('2', 0.014563106796116505, 3, 206),\n",
       " ('c', 0.02176278563656148, 20, 919),\n",
       " ('=', 0.0410958904109589, 6, 146),\n",
       " ('Cl', 0.045454545454545456, 3, 66),\n",
       " ('3', 0.06060606060606061, 4, 66),\n",
       " ('[nH]', 0.14285714285714285, 1, 7),\n",
       " ('N', 0.14634146341463414, 12, 82),\n",
       " ('S', 0.3333333333333333, 5, 15)]"
      ]
     },
     "execution_count": 4,
     "metadata": {},
     "output_type": "execute_result"
    }
   ],
   "source": [
    "SMILES_dict = {'token count c': 919, 'atom attention': 68.22450993210077, 'atom attention trailing bond': 73.56717388425022, 'atom count': 2119, 'atom count trailing bond': 2119, 'token count 1': 308, 'structure attention': 35.91823302023113, 'structure attention trailing bond': 36.03569423034787, 'structure count': 1300, 'structure count trailing bond': 1300, 'token count 2': 206, 'token count 3': 66, 'token count 4': 30, 'token count (': 338, 'token count )': 338, 'structure attention distributed': 37.87054000028949, 'atom attention distributed': 71.7323281143086, 'structure count distributed': 1364.4440691490931, 'atom count distributed': 2221.5559308509078, 'token count C': 663, 'token count =': 146, 'bond attention': 5.460125162266195, 'bond count': 167, 'token count O': 255, 'token count [nH]': 7, 'token count S': 15, 'high count C': 1, 'token count N': 82, 'high count N': 12, 'token count n': 68, 'token count -': 17, 'token count F': 17, 'token count Cl': 66, 'token count o': 11, 'token count s': 6, 'token count #': 4, 'token count 5': 12, 'high count c': 20, 'high count 3': 4, 'high count =': 6, 'token count [n+]': 1, 'token count [O-]': 4, 'high count [nH]': 1, 'high count S': 5, 'high count Cl': 3, 'high count 2': 3, 'token count 6': 2, 'token count P': 2, 'token count [N+]': 3, 'high count )': 1}\n",
    "SELFIES_dict = {'token count [C]': 904, 'atom attention': 55.074183993041515, 'atom count': 1640, 'token count [=C]': 458, 'token count [=Branch1]': 90, 'structure count': 622, 'token count [Ring2] overloaded': 31, 'token count [=C] overloaded': 54, 'structure attention': 46.81751761119813, 'token count [Ring1]': 243, 'token count [C] overloaded': 415, 'high count [=N] overloaded': 4, 'token count [=N] overloaded': 19, 'token count [O] overloaded': 97, 'token count [Ring1] overloaded': 108, 'token count [#Branch1]': 4, 'high count [=C]': 43, 'token count [=O] overloaded': 80, 'token count [NH1]': 7, 'token count [=S] overloaded': 4, 'token count [Branch2] overloaded': 9, 'token count [O]': 99, 'token count [Branch1]': 212, 'token count [N] overloaded': 48, 'token count [#Branch1] overloaded': 33, 'token count [Branch1] overloaded': 47, 'token count [N]': 88, 'token count [=Branch1] overloaded': 94, 'token count [#C] overloaded': 11, 'high count [N] overloaded': 6, 'high count [#Branch2] overloaded': 6, 'token count [#Branch2] overloaded': 33, 'token count [P]': 4, 'token count [Ring2]': 33, 'high count [=O] overloaded': 2, 'high count [N]': 1, 'token count [=Branch2] overloaded': 41, 'token count [Branch2]': 28, 'token count [F] overloaded': 13, 'token count [F]': 4, 'token count [=O]': 7, 'token count [Cl] overloaded': 48, 'token count [Cl]': 18, 'token count [=Ring1] overloaded': 3, 'token count [=N]': 33, 'token count [S] overloaded': 20, 'token count [=Ring2]': 1, 'token count [P] overloaded': 10, 'token count [#Branch2]': 6, 'token count [#C]': 3, 'token count [=Ring1]': 5, 'high count [=C] overloaded': 3, 'token count [S]': 9, 'token count [=N+1]': 1, 'token count [O-1] overloaded': 1, 'token count [#N]': 2, 'high count [Branch1]': 13, 'high count [Cl]': 3, 'high count [O]': 3, 'high count [S] overloaded': 1, 'high count [#Branch2]': 2, 'high count [=N]': 2, 'high count [Branch2]': 3, 'high count [Ring2]': 1, 'high count [Cl] overloaded': 1, 'high count [C]': 1, 'high count [O] overloaded': 1, 'high count [Branch1] overloaded': 1, 'token count [N+1] overloaded': 3, 'token count [O-1]': 3, 'high count [O-1]': 1}\n",
    "SMILES_high_counts = []\n",
    "for key in SMILES_dict:\n",
    "    if key.startswith('token count '):\n",
    "        token = key[len('token count '):]\n",
    "        SMILES_high_counts+=[(token, SMILES_dict.get(f'high count {token}', 0)/SMILES_dict[f'token count {token}'], SMILES_dict.get(f'high count {token}', 0), SMILES_dict[f'token count {token}'])]\n",
    "sorted(SMILES_high_counts, key=lambda tup: tup[1])"
   ]
  },
  {
   "cell_type": "code",
   "execution_count": 3,
   "id": "ee6124c2",
   "metadata": {},
   "outputs": [
    {
     "data": {
      "text/plain": [
       "[('[=Branch1]', 0.0, 0, 90),\n",
       " ('[Ring2] overloaded', 0.0, 0, 31),\n",
       " ('[Ring1]', 0.0, 0, 243),\n",
       " ('[C] overloaded', 0.0, 0, 415),\n",
       " ('[Ring1] overloaded', 0.0, 0, 108),\n",
       " ('[#Branch1]', 0.0, 0, 4),\n",
       " ('[NH1]', 0.0, 0, 7),\n",
       " ('[=S] overloaded', 0.0, 0, 4),\n",
       " ('[Branch2] overloaded', 0.0, 0, 9),\n",
       " ('[#Branch1] overloaded', 0.0, 0, 33),\n",
       " ('[=Branch1] overloaded', 0.0, 0, 94),\n",
       " ('[#C] overloaded', 0.0, 0, 11),\n",
       " ('[P]', 0.0, 0, 4),\n",
       " ('[=Branch2] overloaded', 0.0, 0, 41),\n",
       " ('[F] overloaded', 0.0, 0, 13),\n",
       " ('[F]', 0.0, 0, 4),\n",
       " ('[=O]', 0.0, 0, 7),\n",
       " ('[=Ring1] overloaded', 0.0, 0, 3),\n",
       " ('[=Ring2]', 0.0, 0, 1),\n",
       " ('[P] overloaded', 0.0, 0, 10),\n",
       " ('[#C]', 0.0, 0, 3),\n",
       " ('[=Ring1]', 0.0, 0, 5),\n",
       " ('[S]', 0.0, 0, 9),\n",
       " ('[=N+1]', 0.0, 0, 1),\n",
       " ('[O-1] overloaded', 0.0, 0, 1),\n",
       " ('[#N]', 0.0, 0, 2),\n",
       " ('[N+1] overloaded', 0.0, 0, 3),\n",
       " ('[C]', 0.0011061946902654867, 1, 904),\n",
       " ('[O] overloaded', 0.010309278350515464, 1, 97),\n",
       " ('[N]', 0.011363636363636364, 1, 88),\n",
       " ('[Cl] overloaded', 0.020833333333333332, 1, 48),\n",
       " ('[Branch1] overloaded', 0.02127659574468085, 1, 47),\n",
       " ('[=O] overloaded', 0.025, 2, 80),\n",
       " ('[O]', 0.030303030303030304, 3, 99),\n",
       " ('[Ring2]', 0.030303030303030304, 1, 33),\n",
       " ('[S] overloaded', 0.05, 1, 20),\n",
       " ('[=C] overloaded', 0.05555555555555555, 3, 54),\n",
       " ('[=N]', 0.06060606060606061, 2, 33),\n",
       " ('[Branch1]', 0.06132075471698113, 13, 212),\n",
       " ('[=C]', 0.09388646288209607, 43, 458),\n",
       " ('[Branch2]', 0.10714285714285714, 3, 28),\n",
       " ('[N] overloaded', 0.125, 6, 48),\n",
       " ('[Cl]', 0.16666666666666666, 3, 18),\n",
       " ('[#Branch2] overloaded', 0.18181818181818182, 6, 33),\n",
       " ('[=N] overloaded', 0.21052631578947367, 4, 19),\n",
       " ('[#Branch2]', 0.3333333333333333, 2, 6),\n",
       " ('[O-1]', 0.3333333333333333, 1, 3)]"
      ]
     },
     "execution_count": 3,
     "metadata": {},
     "output_type": "execute_result"
    }
   ],
   "source": [
    "SELFIES_high_counts = []\n",
    "for key in SELFIES_dict:\n",
    "    if key.startswith('token count '):\n",
    "        token = key[len('token count '):]\n",
    "        SELFIES_high_counts+=[(token, SELFIES_dict.get(f'high count {token}', 0)/SELFIES_dict[f'token count {token}'], SELFIES_dict.get(f'high count {token}', 0), SELFIES_dict[f'token count {token}'])]\n",
    "sorted(SELFIES_high_counts, key=lambda tup: tup[1])"
   ]
  }
 ],
 "metadata": {
  "kernelspec": {
   "display_name": "Python 3 (ipykernel)",
   "language": "python",
   "name": "python3"
  },
  "language_info": {
   "codemirror_mode": {
    "name": "ipython",
    "version": 3
   },
   "file_extension": ".py",
   "mimetype": "text/x-python",
   "name": "python",
   "nbconvert_exporter": "python",
   "pygments_lexer": "ipython3",
   "version": "3.10.8"
  }
 },
 "nbformat": 4,
 "nbformat_minor": 5
}
