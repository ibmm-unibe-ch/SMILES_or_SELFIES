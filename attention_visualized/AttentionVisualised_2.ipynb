{
  "cells": [
    {
      "cell_type": "markdown",
      "metadata": {
        "id": "Ehp34W93un4F"
      },
      "source": [
        "# Attention readout and visualisation"
      ]
    },
    {
      "cell_type": "markdown",
      "metadata": {},
      "source": []
    },
    {
      "cell_type": "code",
      "execution_count": 1,
      "metadata": {},
      "outputs": [
        {
          "name": "stdout",
          "output_type": "stream",
          "text": [
            "/home/ifender/miniconda3/envs/attentionviz2/bin/python\n"
          ]
        }
      ],
      "source": [
        "# this file uses the environment called attentionviz2"
      ]
    },
    {
      "cell_type": "code",
      "execution_count": 11,
      "metadata": {
        "id": "LEs0mviXKYo-"
      },
      "outputs": [],
      "source": [
        "\n",
        "from rdkit import Chem\n",
        "from rdkit.Chem.Draw import rdMolDraw2D\n",
        "from rdkit.Chem import Draw\n",
        "from rdkit.Chem import AllChem\n",
        "from rdkit.Chem import rdmolops\n",
        "from rdkit import RDConfig\n",
        "import os\n",
        "import sys\n",
        "#plotting\n",
        "from IPython.display import SVG\n",
        "import matplotlib.pyplot as plt\n",
        "import matplotlib.cm as cm\n",
        "import matplotlib.colors as mcolors\n",
        "from collections import namedtuple\n",
        "import torch\n",
        "from IPython.display import SVG\n",
        "from IPython.display import Image, display\n",
        "import io\n",
        "import numpy as np\n",
        "import re"
      ]
    },
    {
      "cell_type": "code",
      "execution_count": 1,
      "metadata": {
        "id": "pO95aIvjIXMY"
      },
      "outputs": [
        {
          "name": "stderr",
          "output_type": "stream",
          "text": [
            "2024-06-12 18:14:21 | INFO | fairseq.tasks.text_to_speech | Please install tensorboardX: pip install tensorboardX\n"
          ]
        }
      ],
      "source": [
        "#to import to get attention from model\n",
        "from attention_readout import gather_attention\n",
        "from constants import PREDICTION_MODEL_PATH, PARSING_REGEX"
      ]
    },
    {
      "cell_type": "markdown",
      "metadata": {
        "id": "ocjXuy29IXvG"
      },
      "source": [
        "## Functions"
      ]
    },
    {
      "cell_type": "code",
      "execution_count": 5,
      "metadata": {
        "id": "WcNcUlL7_0Zm"
      },
      "outputs": [],
      "source": [
        "def clean_SMILES(SMILES_tok):\n",
        "    \"\"\"Removing structural tokens, hydrogens, and numbers from SMILES token input\n",
        "\n",
        "    Args:\n",
        "        SMILES_tok (_list_): List of SMILES_tokens for a given SMILES\n",
        "\n",
        "    Returns:\n",
        "        _list,list_: Processed SMILES_token list and list of positions in input tokens list that were kept\n",
        "        (needed to distinguish which embeddings are relevant)\n",
        "    \"\"\"\n",
        "    SMILES_tok_prep = list()\n",
        "    struc_toks = r\"()=:~1234567890#\"\n",
        "    posToKeep = list()\n",
        "    pos = 0\n",
        "    for i in range(len(SMILES_tok)):\n",
        "        # when it's an H in the SMILES, ignore, cannot deal\n",
        "        if SMILES_tok[i] != \"H\" and SMILES_tok[i] != \"h\" and not SMILES_tok[i].isdigit() and not SMILES_tok[i].isspace():\n",
        "            if any(elem in struc_toks for elem in SMILES_tok[i]) == False:\n",
        "                if SMILES_tok[i] != \"-\":\n",
        "                    SMILES_tok_prep.append(SMILES_tok[i])\n",
        "                    # keep pos where you keep SMILES token\n",
        "                    posToKeep.append(pos)\n",
        "        pos += 1\n",
        "    assert(len(posToKeep) == (len(SMILES_tok_prep))\n",
        "           ), f\"Length of positions-to-keep-array ({len(posToKeep)}) and length of SMILES_tok_prep ({len(SMILES_tok_prep)}) are not the same\"\n",
        "    print(\"SMILES_tok: \", SMILES_tok)\n",
        "    print(\"posToKeep: \", posToKeep)\n",
        "    print(\"SMILES_tok_prep: \", SMILES_tok_prep)\n",
        "\n",
        "    return SMILES_tok_prep, posToKeep\n"
      ]
    },
    {
      "cell_type": "code",
      "execution_count": 4,
      "metadata": {},
      "outputs": [],
      "source": [
        "\n",
        "def cleanAndNormalizeAttention(attention_array,posToKeep,clean_smiles):\n",
        "    # filter attention tensor according to posToKeep to only keep attention for non-hydrogen atoms\n",
        "    filtered_attentions = attention_array[posToKeep]\n",
        "    print(len(filtered_attentions))\n",
        "    assert len(clean_smiles)==len(filtered_attentions), \"Assert failed\"\n",
        "    # condense attention depending on method chosen\n",
        "    mean_values = np.mean(filtered_attentions)\n",
        "    min_val = np.min(filtered_attentions)\n",
        "    max_val = np.max(filtered_attentions)\n",
        "    normalized_means = (filtered_attentions - min_val) / (max_val - min_val)\n",
        "    print(\"before normalisation: \",filtered_attentions)\n",
        "    print(\"normalized means where all values fall between 0 and 1: \",normalized_means)\n",
        "    return normalized_means\n",
        "\n"
      ]
    },
    {
      "cell_type": "code",
      "execution_count": 3,
      "metadata": {
        "id": "Epb-EaYNo64g"
      },
      "outputs": [],
      "source": [
        "def drawMoleculeWithAttention(orig_smiles,clean_smiles,norm_attentions):\n",
        "\n",
        "    # Generate a color map from 0-1 scaled to attentions\n",
        "    min_val = norm_attentions.min()\n",
        "    max_val = norm_attentions.max()\n",
        "    print(f\"Minimum and maximum attention values: {min_val}, {max_val}\")\n",
        "    norm = mcolors.Normalize(vmin=min_val, vmax=max_val)\n",
        "    scalar_map = plt.cm.ScalarMappable(norm=norm, cmap='viridis')\n",
        "\n",
        "    mol = Chem.MolFromSmiles(orig_smiles)\n",
        "    drawer = rdMolDraw2D.MolDraw2DCairo(300, 300)\n",
        "    mol_with_style = rdMolDraw2D.PrepareMolForDrawing(mol, kekulize=False)\n",
        "\n",
        "    # Set the drawing options\n",
        "    opts = drawer.drawOptions()\n",
        "\n",
        "    # Create a color map for the atoms\n",
        "    atom_colors = {i: scalar_map.to_rgba(norm_attentions[i])[:-1] for i in range(mol.GetNumAtoms())}  # Remove alpha channel\n",
        "\n",
        "    # Draw the molecule with colored atoms according to attention scores\n",
        "    AllChem.Compute2DCoords(mol)\n",
        "    d = rdMolDraw2D.MolDraw2DSVG(400, 400)\n",
        "    rdMolDraw2D.PrepareAndDrawMolecule(d, mol, highlightAtoms=range(mol.GetNumAtoms()),\n",
        "                                      highlightAtomColors=atom_colors)\n",
        "\n",
        "    d.FinishDrawing()\n",
        "    # get the SVG string\n",
        "    svg = d.GetDrawingText()\n",
        "    # fix the svg string and display it\n",
        "    display(SVG(svg.replace('svg:','')))\n",
        "\n",
        "    # Colorbar\n",
        "    plt.figure(figsize=(4.5, 0.5))\n",
        "    img = np.array([[min_val, max_val]])\n",
        "    plt.imshow(img, cmap='viridis')\n",
        "    plt.gca().set_visible(False)\n",
        "    cax = plt.axes([0.1, 0.2, 0.8, 0.6])\n",
        "    colba = plt.colorbar(cax=cax, orientation=\"horizontal\")\n",
        "    colba.set_label('Attention Score')\n",
        "    plt.savefig(\"test.png\")\n",
        "    plt.show()"
      ]
    },
    {
      "cell_type": "code",
      "execution_count": 2,
      "metadata": {},
      "outputs": [],
      "source": [
        "def colorAtomsByAttention(smiles):\n",
        "    #tokenize, only atomwise supported\n",
        "    #smiles_tok = re.findall(r'Cl|.', smiles)\n",
        "    smiles_tok = [elem for elem in re.split(PARSING_REGEX,smiles) if elem]\n",
        "    clean_smiles,posToKeep = clean_SMILES(smiles_tok)\n",
        "    # get attention from model, only BART for now\n",
        "    attention = gather_attention(smiles,\n",
        "                 smiles_atom_path=PREDICTION_MODEL_PATH/\"smiles_atom_isomers_bart\"/\"checkpoint_last.pt\",\n",
        "                 smiles_sentencepiece_path=PREDICTION_MODEL_PATH/\"smiles_trained_isomers_bart\"/\"checkpoint_last.pt\",\n",
        "                 selfies_atom_path=PREDICTION_MODEL_PATH/\"selfies_atom_isomers_bart\"/\"checkpoint_last.pt\",\n",
        "                 selfies_sentencepiece_path=PREDICTION_MODEL_PATH/\"selfies_trained_isomers_bart\"/\"checkpoint_last.pt\")\n",
        "    # remove attention on hydrogens, numbers, structural tokens and minmax normalize attention to values between 0 and 1\n",
        "    norm_attention = cleanAndNormalizeAttention(attention,posToKeep,clean_smiles)\n",
        "    # draw molecule with colored atoms according to attention scores\n",
        "    drawMoleculeWithAttention(smiles,clean_smiles,norm_attention)"
      ]
    },
    {
      "cell_type": "markdown",
      "metadata": {
        "id": "HR2Zt87NIarq"
      },
      "source": [
        "## Main"
      ]
    },
    {
      "cell_type": "markdown",
      "metadata": {
        "id": "Zmivm1QdIlXy"
      },
      "source": [
        "### Choose SMILES and get only the atoms from it"
      ]
    },
    {
      "cell_type": "code",
      "execution_count": 12,
      "metadata": {
        "colab": {
          "base_uri": "https://localhost:8080/"
        },
        "id": "OUHmlTHw-x6U",
        "outputId": "bfe6ea26-2fea-4305-e80c-674dc91b537e"
      },
      "outputs": [
        {
          "name": "stdout",
          "output_type": "stream",
          "text": [
            "SMILES_tok:  ['C', 'C', '=', 'C', 'C', 'O', 'C', 'C']\n",
            "posToKeep:  [0, 1, 3, 4, 5, 6, 7]\n",
            "SMILES_tok_prep:  ['C', 'C', 'C', 'C', 'O', 'C', 'C']\n"
          ]
        }
      ],
      "source": [
        "# get rid of structural topkens and hydrogens in SMILES\n",
        "smiles=\"CC=CCOCC\"\n",
        "#only care about atomwise tokenisation\n",
        "smiles_tok = [elem for elem in re.split(PARSING_REGEX,smiles) if elem]\n",
        "clean_smiles,posToKeep = clean_SMILES(smiles_tok)"
      ]
    },
    {
      "cell_type": "markdown",
      "metadata": {
        "id": "bYgYMmZeItck"
      },
      "source": [
        "### Decide on the model to analyze and gather the attention for the previously chosen SMILES"
      ]
    },
    {
      "cell_type": "code",
      "execution_count": 8,
      "metadata": {
        "id": "SAggJ1VhIj4u"
      },
      "outputs": [
        {
          "name": "stderr",
          "output_type": "stream",
          "text": [
            "2024-06-12 15:22:36 | INFO | fairseq.file_utils | loading archive file /data/jgut/SMILES_or_SELFIES/prediction_models/smiles_atom_isomers_bart\n",
            "2024-06-12 15:22:36 | INFO | fairseq.file_utils | loading archive file /data/jgut/SMILES_or_SELFIES/task/bbbp/smiles_atom_isomers\n",
            "2024-06-12 15:22:36 | INFO | fairseq.tasks.sentence_prediction | [input] dictionary: 433 types\n",
            "/home/ifender/miniconda3/envs/attentionviz2/lib/python3.10/site-packages/torch/cuda/__init__.py:118: UserWarning: CUDA initialization: The NVIDIA driver on your system is too old (found version 11080). Please update your GPU driver by downloading and installing a new version from the URL: http://www.nvidia.com/Download/index.aspx Alternatively, go to: https://pytorch.org to install a PyTorch version that has been compiled with your version of the CUDA driver. (Triggered internally at ../c10/cuda/CUDAFunctions.cpp:108.)\n",
            "  return torch._C._cuda_getDeviceCount() > 0\n",
            "2024-06-12 15:22:38 | INFO | fairseq.models.bart.model | Registering classification head: sentence_classification_head\n",
            "2024-06-12 15:22:38 | INFO | fairseq.file_utils | loading archive file /data/jgut/SMILES_or_SELFIES/prediction_models/smiles_trained_isomers_bart\n",
            "2024-06-12 15:22:38 | INFO | fairseq.file_utils | loading archive file /data/jgut/SMILES_or_SELFIES/task/bbbp/smiles_trained_isomers\n",
            "2024-06-12 15:22:39 | INFO | fairseq.tasks.sentence_prediction | [input] dictionary: 905 types\n",
            "2024-06-12 15:22:40 | INFO | fairseq.models.bart.model | Registering classification head: sentence_classification_head\n",
            "2024-06-12 15:22:40 | INFO | fairseq.file_utils | loading archive file /data/jgut/SMILES_or_SELFIES/prediction_models/selfies_atom_isomers_bart\n",
            "2024-06-12 15:22:40 | INFO | fairseq.file_utils | loading archive file /data/jgut/SMILES_or_SELFIES/task/bbbp/selfies_atom_isomers\n",
            "2024-06-12 15:22:40 | INFO | fairseq.tasks.sentence_prediction | [input] dictionary: 577 types\n",
            "2024-06-12 15:22:42 | INFO | fairseq.models.bart.model | Registering classification head: sentence_classification_head\n",
            "2024-06-12 15:22:42 | INFO | fairseq.file_utils | loading archive file /data/jgut/SMILES_or_SELFIES/prediction_models/selfies_trained_isomers_bart\n",
            "2024-06-12 15:22:42 | INFO | fairseq.file_utils | loading archive file /data/jgut/SMILES_or_SELFIES/task/bbbp/selfies_trained_isomers\n",
            "2024-06-12 15:22:42 | INFO | fairseq.tasks.sentence_prediction | [input] dictionary: 929 types\n",
            "2024-06-12 15:22:43 | INFO | fairseq.models.bart.model | Registering classification head: sentence_classification_head\n"
          ]
        }
      ],
      "source": [
        "attention = gather_attention(smiles,\n",
        "                 smiles_atom_path=PREDICTION_MODEL_PATH/\"smiles_atom_isomers_bart\"/\"checkpoint_last.pt\",\n",
        "                 smiles_sentencepiece_path=PREDICTION_MODEL_PATH/\"smiles_trained_isomers_bart\"/\"checkpoint_last.pt\",\n",
        "                 selfies_atom_path=PREDICTION_MODEL_PATH/\"selfies_atom_isomers_bart\"/\"checkpoint_last.pt\",\n",
        "                 selfies_sentencepiece_path=PREDICTION_MODEL_PATH/\"selfies_trained_isomers_bart\"/\"checkpoint_last.pt\")\n"
      ]
    },
    {
      "cell_type": "markdown",
      "metadata": {},
      "source": [
        "### Remove attention on structural tokens and hydrogens"
      ]
    },
    {
      "cell_type": "code",
      "execution_count": 12,
      "metadata": {},
      "outputs": [
        {
          "name": "stdout",
          "output_type": "stream",
          "text": [
            "7\n",
            "before normalisation:  [0.06893153 0.15361978 0.1629039  0.13042225 0.11900432 0.15390348\n",
            " 0.10909128]\n",
            "normalized means where all values fall between 0 and 1:  [0.         0.90120369 1.         0.6543489  0.53284583 0.9042227\n",
            " 0.42735701]\n"
          ]
        }
      ],
      "source": [
        "norm_attention = cleanAndNormalizeAttention(attention,posToKeep,clean_smiles)"
      ]
    },
    {
      "cell_type": "markdown",
      "metadata": {},
      "source": [
        "### Draw Molecule"
      ]
    },
    {
      "cell_type": "code",
      "execution_count": 13,
      "metadata": {
        "colab": {
          "base_uri": "https://localhost:8080/",
          "height": 532
        },
        "id": "d0v8O3zMpQk3",
        "outputId": "98bf6d04-9b72-43bb-e851-8f0ff8203430"
      },
      "outputs": [
        {
          "name": "stdout",
          "output_type": "stream",
          "text": [
            "Minimum and maximum attention values: 0.0, 1.0\n"
          ]
        },
        {
          "data": {
            "image/svg+xml": [
              "<svg xmlns=\"http://www.w3.org/2000/svg\" xmlns:rdkit=\"http://www.rdkit.org/xml\" xmlns:xlink=\"http://www.w3.org/1999/xlink\" version=\"1.1\" baseProfile=\"full\" xml:space=\"preserve\" width=\"400px\" height=\"400px\" viewBox=\"0 0 400 400\">\n",
              "<!-- END OF HEADER -->\n",
              "<rect style=\"opacity:1.0;fill:#FFFFFF;stroke:none\" width=\"400.0\" height=\"400.0\" x=\"0.0\" y=\"0.0\"> </rect>\n",
              "<ellipse cx=\"32.9\" cy=\"215.8\" rx=\"12.9\" ry=\"12.9\" class=\"atom-0\" style=\"fill:#440154;fill-rule:evenodd;stroke:#440154;stroke-width:1.0px;stroke-linecap:butt;stroke-linejoin:miter;stroke-opacity:1\"/>\n",
              "<ellipse cx=\"88.6\" cy=\"183.7\" rx=\"12.9\" ry=\"12.9\" class=\"atom-1\" style=\"fill:#BDDE26;fill-rule:evenodd;stroke:#BDDE26;stroke-width:1.0px;stroke-linecap:butt;stroke-linejoin:miter;stroke-opacity:1\"/>\n",
              "<ellipse cx=\"144.3\" cy=\"215.8\" rx=\"12.9\" ry=\"12.9\" class=\"atom-2\" style=\"fill:#FDE724;fill-rule:evenodd;stroke:#FDE724;stroke-width:1.0px;stroke-linecap:butt;stroke-linejoin:miter;stroke-opacity:1\"/>\n",
              "<ellipse cx=\"200.0\" cy=\"183.7\" rx=\"12.9\" ry=\"12.9\" class=\"atom-3\" style=\"fill:#30B47A;fill-rule:evenodd;stroke:#30B47A;stroke-width:1.0px;stroke-linecap:butt;stroke-linejoin:miter;stroke-opacity:1\"/>\n",
              "<ellipse cx=\"255.7\" cy=\"216.0\" rx=\"12.9\" ry=\"13.2\" class=\"atom-4\" style=\"fill:#1E988A;fill-rule:evenodd;stroke:#1E988A;stroke-width:1.0px;stroke-linecap:butt;stroke-linejoin:miter;stroke-opacity:1\"/>\n",
              "<ellipse cx=\"311.4\" cy=\"183.7\" rx=\"12.9\" ry=\"12.9\" class=\"atom-5\" style=\"fill:#BFDF24;fill-rule:evenodd;stroke:#BFDF24;stroke-width:1.0px;stroke-linecap:butt;stroke-linejoin:miter;stroke-opacity:1\"/>\n",
              "<ellipse cx=\"367.1\" cy=\"215.8\" rx=\"12.9\" ry=\"12.9\" class=\"atom-6\" style=\"fill:#277E8E;fill-rule:evenodd;stroke:#277E8E;stroke-width:1.0px;stroke-linecap:butt;stroke-linejoin:miter;stroke-opacity:1\"/>\n",
              "<path class=\"bond-0 atom-0 atom-1\" d=\"M 32.9,215.8 L 88.6,183.7\" style=\"fill:none;fill-rule:evenodd;stroke:#000000;stroke-width:2.0px;stroke-linecap:butt;stroke-linejoin:miter;stroke-opacity:1\"/>\n",
              "<path class=\"bond-1 atom-1 atom-2\" d=\"M 88.6,183.7 L 144.3,215.8\" style=\"fill:none;fill-rule:evenodd;stroke:#000000;stroke-width:2.0px;stroke-linecap:butt;stroke-linejoin:miter;stroke-opacity:1\"/>\n",
              "<path class=\"bond-1 atom-1 atom-2\" d=\"M 88.6,194.8 L 139.5,224.2\" style=\"fill:none;fill-rule:evenodd;stroke:#000000;stroke-width:2.0px;stroke-linecap:butt;stroke-linejoin:miter;stroke-opacity:1\"/>\n",
              "<path class=\"bond-2 atom-2 atom-3\" d=\"M 144.3,215.8 L 200.0,183.7\" style=\"fill:none;fill-rule:evenodd;stroke:#000000;stroke-width:2.0px;stroke-linecap:butt;stroke-linejoin:miter;stroke-opacity:1\"/>\n",
              "<path class=\"bond-3 atom-3 atom-4\" d=\"M 200.0,183.7 L 222.6,196.7\" style=\"fill:none;fill-rule:evenodd;stroke:#000000;stroke-width:2.0px;stroke-linecap:butt;stroke-linejoin:miter;stroke-opacity:1\"/>\n",
              "<path class=\"bond-3 atom-3 atom-4\" d=\"M 222.6,196.7 L 245.2,209.8\" style=\"fill:none;fill-rule:evenodd;stroke:#FF0000;stroke-width:2.0px;stroke-linecap:butt;stroke-linejoin:miter;stroke-opacity:1\"/>\n",
              "<path class=\"bond-4 atom-4 atom-5\" d=\"M 266.2,209.8 L 288.8,196.7\" style=\"fill:none;fill-rule:evenodd;stroke:#FF0000;stroke-width:2.0px;stroke-linecap:butt;stroke-linejoin:miter;stroke-opacity:1\"/>\n",
              "<path class=\"bond-4 atom-4 atom-5\" d=\"M 288.8,196.7 L 311.4,183.7\" style=\"fill:none;fill-rule:evenodd;stroke:#000000;stroke-width:2.0px;stroke-linecap:butt;stroke-linejoin:miter;stroke-opacity:1\"/>\n",
              "<path class=\"bond-5 atom-5 atom-6\" d=\"M 311.4,183.7 L 367.1,215.8\" style=\"fill:none;fill-rule:evenodd;stroke:#000000;stroke-width:2.0px;stroke-linecap:butt;stroke-linejoin:miter;stroke-opacity:1\"/>\n",
              "<path d=\"M 85.8,185.3 L 88.6,183.7 L 91.4,185.3\" style=\"fill:none;stroke:#000000;stroke-width:2.0px;stroke-linecap:butt;stroke-linejoin:miter;stroke-opacity:1;\"/>\n",
              "<path d=\"M 141.5,214.2 L 144.3,215.8 L 147.1,214.2\" style=\"fill:none;stroke:#000000;stroke-width:2.0px;stroke-linecap:butt;stroke-linejoin:miter;stroke-opacity:1;\"/>\n",
              "<path d=\"M 197.2,185.3 L 200.0,183.7 L 201.1,184.3\" style=\"fill:none;stroke:#000000;stroke-width:2.0px;stroke-linecap:butt;stroke-linejoin:miter;stroke-opacity:1;\"/>\n",
              "<path d=\"M 310.3,184.3 L 311.4,183.7 L 314.2,185.3\" style=\"fill:none;stroke:#000000;stroke-width:2.0px;stroke-linecap:butt;stroke-linejoin:miter;stroke-opacity:1;\"/>\n",
              "<path class=\"atom-4\" d=\"M 247.3 215.9 Q 247.3 211.5, 249.5 209.1 Q 251.7 206.6, 255.7 206.6 Q 259.8 206.6, 261.9 209.1 Q 264.1 211.5, 264.1 215.9 Q 264.1 220.3, 261.9 222.8 Q 259.7 225.3, 255.7 225.3 Q 251.7 225.3, 249.5 222.8 Q 247.3 220.3, 247.3 215.9 M 255.7 223.3 Q 258.5 223.3, 260.0 221.4 Q 261.5 219.5, 261.5 215.9 Q 261.5 212.3, 260.0 210.5 Q 258.5 208.7, 255.7 208.7 Q 252.9 208.7, 251.4 210.5 Q 249.9 212.3, 249.9 215.9 Q 249.9 219.6, 251.4 221.4 Q 252.9 223.3, 255.7 223.3 \" fill=\"#FF0000\"/>\n",
              "</svg>"
            ],
            "text/plain": [
              "<IPython.core.display.SVG object>"
            ]
          },
          "metadata": {},
          "output_type": "display_data"
        },
        {
          "data": {
            "image/png": "[encoded data removed]",
            "text/plain": [
              "<Figure size 450x50 with 2 Axes>"
            ]
          },
          "metadata": {},
          "output_type": "display_data"
        }
      ],
      "source": [
        "drawMoleculeWithAttention(smiles,clean_smiles,norm_attention)"
      ]
    },
    {
      "cell_type": "markdown",
      "metadata": {
        "id": "NEH_PxhTzA9M"
      },
      "source": [
        "## SMILES to look into:\n",
        "### Looking into attention differences in symmetrical molecules:\n",
        "\n",
        "1) c1cc2ccc3cccc4ccc(c1)c2c34 (Highly symmetrical (4 benzol rings))\n",
        "\n",
        "2) O=CNC(N1C=CN(C(NC=O)C(Cl)(Cl)Cl)C=C1)C(Cl)(Cl)Cl (Also very symmetrical, espc. Ns, Cls and Os in similar positions interesting to compare attention)\n",
        "\n",
        "3) c1ccc(-c2ccc(-c3ccccc3)cc2)cc1 (three benzol rings in a chain)\n",
        "\n",
        "4) c1ccc2c(c1)sc1ccccc12 (2 benzol rings, one five-ring )\n",
        "\n",
        "### Looking into differences in hydrophobicity:\n",
        "\n",
        "5) C1=CC=CC=C1 (Benzol, Solubility in water: 1.84 g/L (30 °C) (see: https://en.wikipedia.org/wiki/Benzene))\n",
        "\n",
        "6) CC(OC1=C(C(=O)O)C=CC=C1)=O CC(=O)OC1C=CC=CC=1C(O)=O (Aspirin, Solubility in water 3g/L (see: https://en.wikipedia.org/wiki/Aspirin))\n",
        "\n",
        "7) C1=CC(=CC=C1C(=O)O)O (PHBA (found in: https://www.sciencedirect.com/science/article/pii/S095965262030247X#fig1), Solubility in Water 5g/L at 25 °C (https://pubchem.ncbi.nlm.nih.gov/compound/135#section=Melting-Point))\n",
        "\n",
        "8) CCCCOC(=O)C1=CC=C(C=C1)N (Butyl 4-aminobenzoate (see: https://pubchem.ncbi.nlm.nih.gov/compound/2482#section=Melting-Point), Solubility in Water: 0.14g/L (no temperature stated))"
      ]
    },
    {
      "cell_type": "markdown",
      "metadata": {},
      "source": [
        "## Symmetry within molecules"
      ]
    },
    {
      "cell_type": "code",
      "execution_count": 13,
      "metadata": {},
      "outputs": [
        {
          "name": "stderr",
          "output_type": "stream",
          "text": [
            "2024-06-12 18:15:56 | INFO | fairseq.file_utils | loading archive file /data/jgut/SMILES_or_SELFIES/prediction_models/smiles_atom_isomers_bart\n",
            "2024-06-12 18:15:56 | INFO | fairseq.file_utils | loading archive file /data/jgut/SMILES_or_SELFIES/task/bbbp/smiles_atom_isomers\n"
          ]
        },
        {
          "name": "stdout",
          "output_type": "stream",
          "text": [
            "SMILES_tok:  ['c', '1', 'c', 'c', '2', 'c', 'c', 'c', '3', 'c', 'c', 'c', 'c', '4', 'c', 'c', 'c', '(', 'c', '1', ')', 'c', '2', 'c', '3', '4']\n",
            "posToKeep:  [0, 2, 3, 5, 6, 7, 9, 10, 11, 12, 14, 15, 16, 18, 21, 23]\n",
            "SMILES_tok_prep:  ['c', 'c', 'c', 'c', 'c', 'c', 'c', 'c', 'c', 'c', 'c', 'c', 'c', 'c', 'c', 'c']\n"
          ]
        },
        {
          "name": "stderr",
          "output_type": "stream",
          "text": [
            "2024-06-12 18:15:57 | INFO | fairseq.tasks.sentence_prediction | [input] dictionary: 433 types\n",
            "/home/ifender/miniconda3/envs/attentionviz2/lib/python3.10/site-packages/torch/cuda/__init__.py:118: UserWarning: CUDA initialization: The NVIDIA driver on your system is too old (found version 11080). Please update your GPU driver by downloading and installing a new version from the URL: http://www.nvidia.com/Download/index.aspx Alternatively, go to: https://pytorch.org to install a PyTorch version that has been compiled with your version of the CUDA driver. (Triggered internally at ../c10/cuda/CUDAFunctions.cpp:108.)\n",
            "  return torch._C._cuda_getDeviceCount() > 0\n",
            "2024-06-12 18:15:58 | INFO | fairseq.models.bart.model | Registering classification head: sentence_classification_head\n"
          ]
        },
        {
          "name": "stdout",
          "output_type": "stream",
          "text": [
            "16\n",
            "before normalisation:  [0.01732512 0.0463205  0.07805961 0.05226177 0.04052735 0.04309419\n",
            " 0.02633271 0.02514527 0.02384851 0.02334529 0.02311009 0.06307255\n",
            " 0.03149052 0.0223051  0.02169168 0.0207397 ]\n",
            "normalized means where all values fall between 0 and 1:  [0.         0.47741206 1.         0.57523576 0.38202719 0.42429057\n",
            " 0.14831088 0.12875958 0.10740833 0.09912276 0.09525017 0.75323653\n",
            " 0.23323482 0.08199591 0.07189586 0.0562213 ]\n",
            "Minimum and maximum attention values: 0.0, 1.0\n"
          ]
        },
        {
          "data": {
            "image/svg+xml": [
              "<svg xmlns=\"http://www.w3.org/2000/svg\" xmlns:rdkit=\"http://www.rdkit.org/xml\" xmlns:xlink=\"http://www.w3.org/1999/xlink\" version=\"1.1\" baseProfile=\"full\" xml:space=\"preserve\" width=\"400px\" height=\"400px\" viewBox=\"0 0 400 400\">\n",
              "<!-- END OF HEADER -->\n",
              "<rect style=\"opacity:1.0;fill:#FFFFFF;stroke:none\" width=\"400.0\" height=\"400.0\" x=\"0.0\" y=\"0.0\"> </rect>\n",
              "<ellipse cx=\"366.7\" cy=\"200.0\" rx=\"13.3\" ry=\"13.3\" class=\"atom-0\" style=\"fill:#440154;fill-rule:evenodd;stroke:#440154;stroke-width:1.0px;stroke-linecap:butt;stroke-linejoin:miter;stroke-opacity:1\"/>\n",
              "<ellipse cx=\"333.3\" cy=\"257.7\" rx=\"13.3\" ry=\"13.3\" class=\"atom-1\" style=\"fill:#228A8D;fill-rule:evenodd;stroke:#228A8D;stroke-width:1.0px;stroke-linecap:butt;stroke-linejoin:miter;stroke-opacity:1\"/>\n",
              "<ellipse cx=\"266.7\" cy=\"257.7\" rx=\"13.3\" ry=\"13.3\" class=\"atom-2\" style=\"fill:#FDE724;fill-rule:evenodd;stroke:#FDE724;stroke-width:1.0px;stroke-linecap:butt;stroke-linejoin:miter;stroke-opacity:1\"/>\n",
              "<ellipse cx=\"233.3\" cy=\"315.5\" rx=\"13.3\" ry=\"13.3\" class=\"atom-3\" style=\"fill:#1FA286;fill-rule:evenodd;stroke:#1FA286;stroke-width:1.0px;stroke-linecap:butt;stroke-linejoin:miter;stroke-opacity:1\"/>\n",
              "<ellipse cx=\"166.7\" cy=\"315.5\" rx=\"13.3\" ry=\"13.3\" class=\"atom-4\" style=\"fill:#2B738E;fill-rule:evenodd;stroke:#2B738E;stroke-width:1.0px;stroke-linecap:butt;stroke-linejoin:miter;stroke-opacity:1\"/>\n",
              "<ellipse cx=\"133.3\" cy=\"257.7\" rx=\"13.3\" ry=\"13.3\" class=\"atom-5\" style=\"fill:#277D8E;fill-rule:evenodd;stroke:#277D8E;stroke-width:1.0px;stroke-linecap:butt;stroke-linejoin:miter;stroke-opacity:1\"/>\n",
              "<ellipse cx=\"66.7\" cy=\"257.7\" rx=\"13.3\" ry=\"13.3\" class=\"atom-6\" style=\"fill:#45327F;fill-rule:evenodd;stroke:#45327F;stroke-width:1.0px;stroke-linecap:butt;stroke-linejoin:miter;stroke-opacity:1\"/>\n",
              "<ellipse cx=\"33.3\" cy=\"200.0\" rx=\"13.3\" ry=\"13.3\" class=\"atom-7\" style=\"fill:#472C7B;fill-rule:evenodd;stroke:#472C7B;stroke-width:1.0px;stroke-linecap:butt;stroke-linejoin:miter;stroke-opacity:1\"/>\n",
              "<ellipse cx=\"66.7\" cy=\"142.3\" rx=\"13.3\" ry=\"13.3\" class=\"atom-8\" style=\"fill:#472676;fill-rule:evenodd;stroke:#472676;stroke-width:1.0px;stroke-linecap:butt;stroke-linejoin:miter;stroke-opacity:1\"/>\n",
              "<ellipse cx=\"133.3\" cy=\"142.3\" rx=\"13.3\" ry=\"13.3\" class=\"atom-9\" style=\"fill:#482374;fill-rule:evenodd;stroke:#482374;stroke-width:1.0px;stroke-linecap:butt;stroke-linejoin:miter;stroke-opacity:1\"/>\n",
              "<ellipse cx=\"166.7\" cy=\"84.5\" rx=\"13.3\" ry=\"13.3\" class=\"atom-10\" style=\"fill:#482273;fill-rule:evenodd;stroke:#482273;stroke-width:1.0px;stroke-linecap:butt;stroke-linejoin:miter;stroke-opacity:1\"/>\n",
              "<ellipse cx=\"233.3\" cy=\"84.5\" rx=\"13.3\" ry=\"13.3\" class=\"atom-11\" style=\"fill:#5EC961;fill-rule:evenodd;stroke:#5EC961;stroke-width:1.0px;stroke-linecap:butt;stroke-linejoin:miter;stroke-opacity:1\"/>\n",
              "<ellipse cx=\"266.7\" cy=\"142.3\" rx=\"13.3\" ry=\"13.3\" class=\"atom-12\" style=\"fill:#3D4C89;fill-rule:evenodd;stroke:#3D4C89;stroke-width:1.0px;stroke-linecap:butt;stroke-linejoin:miter;stroke-opacity:1\"/>\n",
              "<ellipse cx=\"333.3\" cy=\"142.3\" rx=\"13.3\" ry=\"13.3\" class=\"atom-13\" style=\"fill:#481D6F;fill-rule:evenodd;stroke:#481D6F;stroke-width:1.0px;stroke-linecap:butt;stroke-linejoin:miter;stroke-opacity:1\"/>\n",
              "<ellipse cx=\"233.3\" cy=\"200.0\" rx=\"13.3\" ry=\"13.3\" class=\"atom-14\" style=\"fill:#481A6C;fill-rule:evenodd;stroke:#481A6C;stroke-width:1.0px;stroke-linecap:butt;stroke-linejoin:miter;stroke-opacity:1\"/>\n",
              "<ellipse cx=\"166.7\" cy=\"200.0\" rx=\"13.3\" ry=\"13.3\" class=\"atom-15\" style=\"fill:#471567;fill-rule:evenodd;stroke:#471567;stroke-width:1.0px;stroke-linecap:butt;stroke-linejoin:miter;stroke-opacity:1\"/>\n",
              "<path class=\"bond-0 atom-0 atom-1\" d=\"M 366.7,200.0 L 333.3,257.7\" style=\"fill:none;fill-rule:evenodd;stroke:#000000;stroke-width:2.0px;stroke-linecap:butt;stroke-linejoin:miter;stroke-opacity:1\"/>\n",
              "<path class=\"bond-0 atom-0 atom-1\" d=\"M 355.1,200.0 L 327.6,247.7\" style=\"fill:none;fill-rule:evenodd;stroke:#000000;stroke-width:2.0px;stroke-linecap:butt;stroke-linejoin:miter;stroke-opacity:1\"/>\n",
              "<path class=\"bond-1 atom-1 atom-2\" d=\"M 333.3,257.7 L 266.7,257.7\" style=\"fill:none;fill-rule:evenodd;stroke:#000000;stroke-width:2.0px;stroke-linecap:butt;stroke-linejoin:miter;stroke-opacity:1\"/>\n",
              "<path class=\"bond-2 atom-2 atom-3\" d=\"M 266.7,257.7 L 233.3,315.5\" style=\"fill:none;fill-rule:evenodd;stroke:#000000;stroke-width:2.0px;stroke-linecap:butt;stroke-linejoin:miter;stroke-opacity:1\"/>\n",
              "<path class=\"bond-2 atom-2 atom-3\" d=\"M 255.1,257.7 L 227.6,305.5\" style=\"fill:none;fill-rule:evenodd;stroke:#000000;stroke-width:2.0px;stroke-linecap:butt;stroke-linejoin:miter;stroke-opacity:1\"/>\n",
              "<path class=\"bond-3 atom-3 atom-4\" d=\"M 233.3,315.5 L 166.7,315.5\" style=\"fill:none;fill-rule:evenodd;stroke:#000000;stroke-width:2.0px;stroke-linecap:butt;stroke-linejoin:miter;stroke-opacity:1\"/>\n",
              "<path class=\"bond-4 atom-4 atom-5\" d=\"M 166.7,315.5 L 133.3,257.7\" style=\"fill:none;fill-rule:evenodd;stroke:#000000;stroke-width:2.0px;stroke-linecap:butt;stroke-linejoin:miter;stroke-opacity:1\"/>\n",
              "<path class=\"bond-4 atom-4 atom-5\" d=\"M 172.4,305.5 L 144.9,257.7\" style=\"fill:none;fill-rule:evenodd;stroke:#000000;stroke-width:2.0px;stroke-linecap:butt;stroke-linejoin:miter;stroke-opacity:1\"/>\n",
              "<path class=\"bond-5 atom-5 atom-6\" d=\"M 133.3,257.7 L 66.7,257.7\" style=\"fill:none;fill-rule:evenodd;stroke:#000000;stroke-width:2.0px;stroke-linecap:butt;stroke-linejoin:miter;stroke-opacity:1\"/>\n",
              "<path class=\"bond-6 atom-6 atom-7\" d=\"M 66.7,257.7 L 33.3,200.0\" style=\"fill:none;fill-rule:evenodd;stroke:#000000;stroke-width:2.0px;stroke-linecap:butt;stroke-linejoin:miter;stroke-opacity:1\"/>\n",
              "<path class=\"bond-6 atom-6 atom-7\" d=\"M 72.4,247.7 L 44.9,200.0\" style=\"fill:none;fill-rule:evenodd;stroke:#000000;stroke-width:2.0px;stroke-linecap:butt;stroke-linejoin:miter;stroke-opacity:1\"/>\n",
              "<path class=\"bond-7 atom-7 atom-8\" d=\"M 33.3,200.0 L 66.7,142.3\" style=\"fill:none;fill-rule:evenodd;stroke:#000000;stroke-width:2.0px;stroke-linecap:butt;stroke-linejoin:miter;stroke-opacity:1\"/>\n",
              "<path class=\"bond-8 atom-8 atom-9\" d=\"M 66.7,142.3 L 133.3,142.3\" style=\"fill:none;fill-rule:evenodd;stroke:#000000;stroke-width:2.0px;stroke-linecap:butt;stroke-linejoin:miter;stroke-opacity:1\"/>\n",
              "<path class=\"bond-8 atom-8 atom-9\" d=\"M 72.4,152.3 L 127.6,152.3\" style=\"fill:none;fill-rule:evenodd;stroke:#000000;stroke-width:2.0px;stroke-linecap:butt;stroke-linejoin:miter;stroke-opacity:1\"/>\n",
              "<path class=\"bond-9 atom-9 atom-10\" d=\"M 133.3,142.3 L 166.7,84.5\" style=\"fill:none;fill-rule:evenodd;stroke:#000000;stroke-width:2.0px;stroke-linecap:butt;stroke-linejoin:miter;stroke-opacity:1\"/>\n",
              "<path class=\"bond-10 atom-10 atom-11\" d=\"M 166.7,84.5 L 233.3,84.5\" style=\"fill:none;fill-rule:evenodd;stroke:#000000;stroke-width:2.0px;stroke-linecap:butt;stroke-linejoin:miter;stroke-opacity:1\"/>\n",
              "<path class=\"bond-10 atom-10 atom-11\" d=\"M 172.4,94.5 L 227.6,94.5\" style=\"fill:none;fill-rule:evenodd;stroke:#000000;stroke-width:2.0px;stroke-linecap:butt;stroke-linejoin:miter;stroke-opacity:1\"/>\n",
              "<path class=\"bond-11 atom-11 atom-12\" d=\"M 233.3,84.5 L 266.7,142.3\" style=\"fill:none;fill-rule:evenodd;stroke:#000000;stroke-width:2.0px;stroke-linecap:butt;stroke-linejoin:miter;stroke-opacity:1\"/>\n",
              "<path class=\"bond-12 atom-12 atom-13\" d=\"M 266.7,142.3 L 333.3,142.3\" style=\"fill:none;fill-rule:evenodd;stroke:#000000;stroke-width:2.0px;stroke-linecap:butt;stroke-linejoin:miter;stroke-opacity:1\"/>\n",
              "<path class=\"bond-12 atom-12 atom-13\" d=\"M 272.4,152.3 L 327.6,152.3\" style=\"fill:none;fill-rule:evenodd;stroke:#000000;stroke-width:2.0px;stroke-linecap:butt;stroke-linejoin:miter;stroke-opacity:1\"/>\n",
              "<path class=\"bond-13 atom-12 atom-14\" d=\"M 266.7,142.3 L 233.3,200.0\" style=\"fill:none;fill-rule:evenodd;stroke:#000000;stroke-width:2.0px;stroke-linecap:butt;stroke-linejoin:miter;stroke-opacity:1\"/>\n",
              "<path class=\"bond-14 atom-14 atom-15\" d=\"M 233.3,200.0 L 166.7,200.0\" style=\"fill:none;fill-rule:evenodd;stroke:#000000;stroke-width:2.0px;stroke-linecap:butt;stroke-linejoin:miter;stroke-opacity:1\"/>\n",
              "<path class=\"bond-14 atom-14 atom-15\" d=\"M 227.6,210.0 L 172.4,210.0\" style=\"fill:none;fill-rule:evenodd;stroke:#000000;stroke-width:2.0px;stroke-linecap:butt;stroke-linejoin:miter;stroke-opacity:1\"/>\n",
              "<path class=\"bond-15 atom-13 atom-0\" d=\"M 333.3,142.3 L 366.7,200.0\" style=\"fill:none;fill-rule:evenodd;stroke:#000000;stroke-width:2.0px;stroke-linecap:butt;stroke-linejoin:miter;stroke-opacity:1\"/>\n",
              "<path class=\"bond-16 atom-14 atom-2\" d=\"M 233.3,200.0 L 266.7,257.7\" style=\"fill:none;fill-rule:evenodd;stroke:#000000;stroke-width:2.0px;stroke-linecap:butt;stroke-linejoin:miter;stroke-opacity:1\"/>\n",
              "<path class=\"bond-17 atom-15 atom-5\" d=\"M 166.7,200.0 L 133.3,257.7\" style=\"fill:none;fill-rule:evenodd;stroke:#000000;stroke-width:2.0px;stroke-linecap:butt;stroke-linejoin:miter;stroke-opacity:1\"/>\n",
              "<path class=\"bond-18 atom-15 atom-9\" d=\"M 166.7,200.0 L 133.3,142.3\" style=\"fill:none;fill-rule:evenodd;stroke:#000000;stroke-width:2.0px;stroke-linecap:butt;stroke-linejoin:miter;stroke-opacity:1\"/>\n",
              "<path d=\"M 365.0,202.9 L 366.7,200.0 L 365.0,197.1\" style=\"fill:none;stroke:#000000;stroke-width:2.0px;stroke-linecap:butt;stroke-linejoin:miter;stroke-opacity:1;\"/>\n",
              "<path d=\"M 335.0,254.8 L 333.3,257.7 L 330.0,257.7\" style=\"fill:none;stroke:#000000;stroke-width:2.0px;stroke-linecap:butt;stroke-linejoin:miter;stroke-opacity:1;\"/>\n",
              "<path d=\"M 235.0,312.6 L 233.3,315.5 L 230.0,315.5\" style=\"fill:none;stroke:#000000;stroke-width:2.0px;stroke-linecap:butt;stroke-linejoin:miter;stroke-opacity:1;\"/>\n",
              "<path d=\"M 170.0,315.5 L 166.7,315.5 L 165.0,312.6\" style=\"fill:none;stroke:#000000;stroke-width:2.0px;stroke-linecap:butt;stroke-linejoin:miter;stroke-opacity:1;\"/>\n",
              "<path d=\"M 70.0,257.7 L 66.7,257.7 L 65.0,254.8\" style=\"fill:none;stroke:#000000;stroke-width:2.0px;stroke-linecap:butt;stroke-linejoin:miter;stroke-opacity:1;\"/>\n",
              "<path d=\"M 35.0,202.9 L 33.3,200.0 L 35.0,197.1\" style=\"fill:none;stroke:#000000;stroke-width:2.0px;stroke-linecap:butt;stroke-linejoin:miter;stroke-opacity:1;\"/>\n",
              "<path d=\"M 65.0,145.2 L 66.7,142.3 L 70.0,142.3\" style=\"fill:none;stroke:#000000;stroke-width:2.0px;stroke-linecap:butt;stroke-linejoin:miter;stroke-opacity:1;\"/>\n",
              "<path d=\"M 165.0,87.4 L 166.7,84.5 L 170.0,84.5\" style=\"fill:none;stroke:#000000;stroke-width:2.0px;stroke-linecap:butt;stroke-linejoin:miter;stroke-opacity:1;\"/>\n",
              "<path d=\"M 230.0,84.5 L 233.3,84.5 L 235.0,87.4\" style=\"fill:none;stroke:#000000;stroke-width:2.0px;stroke-linecap:butt;stroke-linejoin:miter;stroke-opacity:1;\"/>\n",
              "<path d=\"M 330.0,142.3 L 333.3,142.3 L 335.0,145.2\" style=\"fill:none;stroke:#000000;stroke-width:2.0px;stroke-linecap:butt;stroke-linejoin:miter;stroke-opacity:1;\"/>\n",
              "</svg>"
            ],
            "text/plain": [
              "<IPython.core.display.SVG object>"
            ]
          },
          "metadata": {},
          "output_type": "display_data"
        },
        {
          "data": {
            "image/png": "[encoded data removed]",
            "text/plain": [
              "<Figure size 450x50 with 2 Axes>"
            ]
          },
          "metadata": {},
          "output_type": "display_data"
        }
      ],
      "source": [
        "#1. c1cc2ccc3cccc4ccc(c1)c2c34\n",
        "smiles=\"c1cc2ccc3cccc4ccc(c1)c2c34\"\n",
        "colorAtomsByAttention(smiles)"
      ]
    },
    {
      "cell_type": "code",
      "execution_count": 14,
      "metadata": {},
      "outputs": [
        {
          "name": "stderr",
          "output_type": "stream",
          "text": [
            "2024-06-12 18:16:03 | INFO | fairseq.file_utils | loading archive file /data/jgut/SMILES_or_SELFIES/prediction_models/smiles_atom_isomers_bart\n",
            "2024-06-12 18:16:03 | INFO | fairseq.file_utils | loading archive file /data/jgut/SMILES_or_SELFIES/task/bbbp/smiles_atom_isomers\n"
          ]
        },
        {
          "name": "stdout",
          "output_type": "stream",
          "text": [
            "SMILES_tok:  ['O', '=', 'C', 'N', 'C', '(', 'N', '1', 'C', '=', 'C', 'N', '(', 'C', '(', 'N', 'C', '=', 'O', ')', 'C', '(', 'Cl', ')', '(', 'Cl', ')', 'Cl', ')', 'C', '=', 'C', '1', ')', 'C', '(', 'Cl', ')', '(', 'Cl', ')', 'Cl']\n",
            "posToKeep:  [0, 2, 3, 4, 6, 8, 10, 11, 13, 15, 16, 18, 20, 22, 25, 27, 29, 31, 34, 36, 39, 41]\n",
            "SMILES_tok_prep:  ['O', 'C', 'N', 'C', 'N', 'C', 'C', 'N', 'C', 'N', 'C', 'O', 'C', 'Cl', 'Cl', 'Cl', 'C', 'C', 'C', 'Cl', 'Cl', 'Cl']\n"
          ]
        },
        {
          "name": "stderr",
          "output_type": "stream",
          "text": [
            "2024-06-12 18:16:03 | INFO | fairseq.tasks.sentence_prediction | [input] dictionary: 433 types\n",
            "2024-06-12 18:16:04 | INFO | fairseq.models.bart.model | Registering classification head: sentence_classification_head\n"
          ]
        },
        {
          "name": "stdout",
          "output_type": "stream",
          "text": [
            "22\n",
            "before normalisation:  [0.01173684 0.02129836 0.01428813 0.02295421 0.01746172 0.05337209\n",
            " 0.02118052 0.01629077 0.0405372  0.01986378 0.16847746 0.02538118\n",
            " 0.02308554 0.01964906 0.02146365 0.02257605 0.02203605 0.02063477\n",
            " 0.01993121 0.02378906 0.02182006 0.02197297]\n",
            "normalized means where all values fall between 0 and 1:  [0.         0.06100218 0.01627717 0.07156649 0.03652454 0.26563153\n",
            " 0.06025039 0.02905398 0.1837454  0.05184965 1.         0.08705045\n",
            " 0.07240438 0.05047974 0.06205677 0.06915385 0.06570865 0.05676854\n",
            " 0.05227986 0.07689282 0.06433064 0.0653062 ]\n",
            "Minimum and maximum attention values: 0.0, 1.0\n"
          ]
        },
        {
          "data": {
            "image/svg+xml": [
              "<svg xmlns=\"http://www.w3.org/2000/svg\" xmlns:rdkit=\"http://www.rdkit.org/xml\" xmlns:xlink=\"http://www.w3.org/1999/xlink\" version=\"1.1\" baseProfile=\"full\" xml:space=\"preserve\" width=\"400px\" height=\"400px\" viewBox=\"0 0 400 400\">\n",
              "<!-- END OF HEADER -->\n",
              "<rect style=\"opacity:1.0;fill:#FFFFFF;stroke:none\" width=\"400.0\" height=\"400.0\" x=\"0.0\" y=\"0.0\"> </rect>\n",
              "<ellipse cx=\"371.4\" cy=\"127.6\" rx=\"8.6\" ry=\"8.9\" class=\"atom-0\" style=\"fill:#440154;fill-rule:evenodd;stroke:#440154;stroke-width:1.0px;stroke-linecap:butt;stroke-linejoin:miter;stroke-opacity:1\"/>\n",
              "<ellipse cx=\"351.7\" cy=\"166.0\" rx=\"8.6\" ry=\"8.6\" class=\"atom-1\" style=\"fill:#471669;fill-rule:evenodd;stroke:#471669;stroke-width:1.0px;stroke-linecap:butt;stroke-linejoin:miter;stroke-opacity:1\"/>\n",
              "<ellipse cx=\"302.6\" cy=\"165.0\" rx=\"15.0\" ry=\"8.6\" class=\"atom-2\" style=\"fill:#45065A;fill-rule:evenodd;stroke:#45065A;stroke-width:1.0px;stroke-linecap:butt;stroke-linejoin:miter;stroke-opacity:1\"/>\n",
              "<ellipse cx=\"286.2\" cy=\"201.9\" rx=\"8.6\" ry=\"8.6\" class=\"atom-3\" style=\"fill:#481A6C;fill-rule:evenodd;stroke:#481A6C;stroke-width:1.0px;stroke-linecap:butt;stroke-linejoin:miter;stroke-opacity:1\"/>\n",
              "<ellipse cx=\"243.1\" cy=\"200.9\" rx=\"8.6\" ry=\"8.6\" class=\"atom-4\" style=\"fill:#460E61;fill-rule:evenodd;stroke:#460E61;stroke-width:1.0px;stroke-linecap:butt;stroke-linejoin:miter;stroke-opacity:1\"/>\n",
              "<ellipse cx=\"220.7\" cy=\"237.7\" rx=\"8.6\" ry=\"8.6\" class=\"atom-5\" style=\"fill:#38568B;fill-rule:evenodd;stroke:#38568B;stroke-width:1.0px;stroke-linecap:butt;stroke-linejoin:miter;stroke-opacity:1\"/>\n",
              "<ellipse cx=\"177.6\" cy=\"236.8\" rx=\"8.6\" ry=\"8.6\" class=\"atom-6\" style=\"fill:#471669;fill-rule:evenodd;stroke:#471669;stroke-width:1.0px;stroke-linecap:butt;stroke-linejoin:miter;stroke-opacity:1\"/>\n",
              "<ellipse cx=\"156.9\" cy=\"198.9\" rx=\"8.6\" ry=\"8.6\" class=\"atom-7\" style=\"fill:#460B5E;fill-rule:evenodd;stroke:#460B5E;stroke-width:1.0px;stroke-linecap:butt;stroke-linejoin:miter;stroke-opacity:1\"/>\n",
              "<ellipse cx=\"113.8\" cy=\"198.0\" rx=\"8.6\" ry=\"8.6\" class=\"atom-8\" style=\"fill:#423E85;fill-rule:evenodd;stroke:#423E85;stroke-width:1.0px;stroke-linecap:butt;stroke-linejoin:miter;stroke-opacity:1\"/>\n",
              "<ellipse cx=\"97.3\" cy=\"234.8\" rx=\"15.0\" ry=\"8.6\" class=\"atom-9\" style=\"fill:#471466;fill-rule:evenodd;stroke:#471466;stroke-width:1.0px;stroke-linecap:butt;stroke-linejoin:miter;stroke-opacity:1\"/>\n",
              "<ellipse cx=\"48.3\" cy=\"233.9\" rx=\"8.6\" ry=\"8.6\" class=\"atom-10\" style=\"fill:#FDE724;fill-rule:evenodd;stroke:#FDE724;stroke-width:1.0px;stroke-linecap:butt;stroke-linejoin:miter;stroke-opacity:1\"/>\n",
              "<ellipse cx=\"28.6\" cy=\"272.5\" rx=\"8.6\" ry=\"8.9\" class=\"atom-11\" style=\"fill:#482071;fill-rule:evenodd;stroke:#482071;stroke-width:1.0px;stroke-linecap:butt;stroke-linejoin:miter;stroke-opacity:1\"/>\n",
              "<ellipse cx=\"93.1\" cy=\"160.2\" rx=\"8.6\" ry=\"8.6\" class=\"atom-12\" style=\"fill:#481A6C;fill-rule:evenodd;stroke:#481A6C;stroke-width:1.0px;stroke-linecap:butt;stroke-linejoin:miter;stroke-opacity:1\"/>\n",
              "<ellipse cx=\"67.0\" cy=\"122.4\" rx=\"8.7\" ry=\"9.4\" class=\"atom-13\" style=\"fill:#471265;fill-rule:evenodd;stroke:#471265;stroke-width:1.0px;stroke-linecap:butt;stroke-linejoin:miter;stroke-opacity:1\"/>\n",
              "<ellipse cx=\"49.9\" cy=\"180.9\" rx=\"8.7\" ry=\"9.4\" class=\"atom-14\" style=\"fill:#471669;fill-rule:evenodd;stroke:#471669;stroke-width:1.0px;stroke-linecap:butt;stroke-linejoin:miter;stroke-opacity:1\"/>\n",
              "<ellipse cx=\"132.3\" cy=\"139.5\" rx=\"8.7\" ry=\"9.4\" class=\"atom-15\" style=\"fill:#48196B;fill-rule:evenodd;stroke:#48196B;stroke-width:1.0px;stroke-linecap:butt;stroke-linejoin:miter;stroke-opacity:1\"/>\n",
              "<ellipse cx=\"179.3\" cy=\"162.1\" rx=\"8.6\" ry=\"8.6\" class=\"atom-16\" style=\"fill:#47186A;fill-rule:evenodd;stroke:#47186A;stroke-width:1.0px;stroke-linecap:butt;stroke-linejoin:miter;stroke-opacity:1\"/>\n",
              "<ellipse cx=\"222.4\" cy=\"163.1\" rx=\"8.6\" ry=\"8.6\" class=\"atom-17\" style=\"fill:#471567;fill-rule:evenodd;stroke:#471567;stroke-width:1.0px;stroke-linecap:butt;stroke-linejoin:miter;stroke-opacity:1\"/>\n",
              "<ellipse cx=\"306.9\" cy=\"239.7\" rx=\"8.6\" ry=\"8.6\" class=\"atom-18\" style=\"fill:#471466;fill-rule:evenodd;stroke:#471466;stroke-width:1.0px;stroke-linecap:butt;stroke-linejoin:miter;stroke-opacity:1\"/>\n",
              "<ellipse cx=\"329.1\" cy=\"277.6\" rx=\"8.7\" ry=\"9.4\" class=\"atom-19\" style=\"fill:#481C6E;fill-rule:evenodd;stroke:#481C6E;stroke-width:1.0px;stroke-linecap:butt;stroke-linejoin:miter;stroke-opacity:1\"/>\n",
              "<ellipse cx=\"346.2\" cy=\"219.1\" rx=\"8.7\" ry=\"9.4\" class=\"atom-20\" style=\"fill:#47186A;fill-rule:evenodd;stroke:#47186A;stroke-width:1.0px;stroke-linecap:butt;stroke-linejoin:miter;stroke-opacity:1\"/>\n",
              "<ellipse cx=\"263.8\" cy=\"260.5\" rx=\"8.7\" ry=\"9.4\" class=\"atom-21\" style=\"fill:#47186A;fill-rule:evenodd;stroke:#47186A;stroke-width:1.0px;stroke-linecap:butt;stroke-linejoin:miter;stroke-opacity:1\"/>\n",
              "<path class=\"bond-0 atom-0 atom-1\" d=\"M 369.4,136.9 L 360.6,151.5\" style=\"fill:none;fill-rule:evenodd;stroke:#FF0000;stroke-width:2.0px;stroke-linecap:butt;stroke-linejoin:miter;stroke-opacity:1\"/>\n",
              "<path class=\"bond-0 atom-0 atom-1\" d=\"M 360.6,151.5 L 351.7,166.0\" style=\"fill:none;fill-rule:evenodd;stroke:#000000;stroke-width:2.0px;stroke-linecap:butt;stroke-linejoin:miter;stroke-opacity:1\"/>\n",
              "<path class=\"bond-0 atom-0 atom-1\" d=\"M 363.9,133.6 L 355.0,148.1\" style=\"fill:none;fill-rule:evenodd;stroke:#FF0000;stroke-width:2.0px;stroke-linecap:butt;stroke-linejoin:miter;stroke-opacity:1\"/>\n",
              "<path class=\"bond-0 atom-0 atom-1\" d=\"M 355.0,148.1 L 348.2,159.4\" style=\"fill:none;fill-rule:evenodd;stroke:#000000;stroke-width:2.0px;stroke-linecap:butt;stroke-linejoin:miter;stroke-opacity:1\"/>\n",
              "<path class=\"bond-1 atom-1 atom-2\" d=\"M 351.7,166.0 L 333.2,165.6\" style=\"fill:none;fill-rule:evenodd;stroke:#000000;stroke-width:2.0px;stroke-linecap:butt;stroke-linejoin:miter;stroke-opacity:1\"/>\n",
              "<path class=\"bond-1 atom-1 atom-2\" d=\"M 333.2,165.6 L 314.7,165.2\" style=\"fill:none;fill-rule:evenodd;stroke:#0000FF;stroke-width:2.0px;stroke-linecap:butt;stroke-linejoin:miter;stroke-opacity:1\"/>\n",
              "<path class=\"bond-2 atom-2 atom-3\" d=\"M 304.0,172.5 L 295.1,187.2\" style=\"fill:none;fill-rule:evenodd;stroke:#0000FF;stroke-width:2.0px;stroke-linecap:butt;stroke-linejoin:miter;stroke-opacity:1\"/>\n",
              "<path class=\"bond-2 atom-2 atom-3\" d=\"M 295.1,187.2 L 286.2,201.9\" style=\"fill:none;fill-rule:evenodd;stroke:#000000;stroke-width:2.0px;stroke-linecap:butt;stroke-linejoin:miter;stroke-opacity:1\"/>\n",
              "<path class=\"bond-3 atom-3 atom-4\" d=\"M 286.2,201.9 L 267.7,201.5\" style=\"fill:none;fill-rule:evenodd;stroke:#000000;stroke-width:2.0px;stroke-linecap:butt;stroke-linejoin:miter;stroke-opacity:1\"/>\n",
              "<path class=\"bond-3 atom-3 atom-4\" d=\"M 267.7,201.5 L 249.2,201.0\" style=\"fill:none;fill-rule:evenodd;stroke:#0000FF;stroke-width:2.0px;stroke-linecap:butt;stroke-linejoin:miter;stroke-opacity:1\"/>\n",
              "<path class=\"bond-4 atom-4 atom-5\" d=\"M 238.5,208.4 L 229.6,223.1\" style=\"fill:none;fill-rule:evenodd;stroke:#0000FF;stroke-width:2.0px;stroke-linecap:butt;stroke-linejoin:miter;stroke-opacity:1\"/>\n",
              "<path class=\"bond-4 atom-4 atom-5\" d=\"M 229.6,223.1 L 220.7,237.7\" style=\"fill:none;fill-rule:evenodd;stroke:#000000;stroke-width:2.0px;stroke-linecap:butt;stroke-linejoin:miter;stroke-opacity:1\"/>\n",
              "<path class=\"bond-5 atom-5 atom-6\" d=\"M 220.7,237.7 L 177.6,236.8\" style=\"fill:none;fill-rule:evenodd;stroke:#000000;stroke-width:2.0px;stroke-linecap:butt;stroke-linejoin:miter;stroke-opacity:1\"/>\n",
              "<path class=\"bond-5 atom-5 atom-6\" d=\"M 217.1,231.2 L 181.5,230.4\" style=\"fill:none;fill-rule:evenodd;stroke:#000000;stroke-width:2.0px;stroke-linecap:butt;stroke-linejoin:miter;stroke-opacity:1\"/>\n",
              "<path class=\"bond-6 atom-6 atom-7\" d=\"M 177.6,236.8 L 169.3,221.6\" style=\"fill:none;fill-rule:evenodd;stroke:#000000;stroke-width:2.0px;stroke-linecap:butt;stroke-linejoin:miter;stroke-opacity:1\"/>\n",
              "<path class=\"bond-6 atom-6 atom-7\" d=\"M 169.3,221.6 L 161.0,206.5\" style=\"fill:none;fill-rule:evenodd;stroke:#0000FF;stroke-width:2.0px;stroke-linecap:butt;stroke-linejoin:miter;stroke-opacity:1\"/>\n",
              "<path class=\"bond-7 atom-7 atom-8\" d=\"M 150.8,198.8 L 132.3,198.4\" style=\"fill:none;fill-rule:evenodd;stroke:#0000FF;stroke-width:2.0px;stroke-linecap:butt;stroke-linejoin:miter;stroke-opacity:1\"/>\n",
              "<path class=\"bond-7 atom-7 atom-8\" d=\"M 132.3,198.4 L 113.8,198.0\" style=\"fill:none;fill-rule:evenodd;stroke:#000000;stroke-width:2.0px;stroke-linecap:butt;stroke-linejoin:miter;stroke-opacity:1\"/>\n",
              "<path class=\"bond-8 atom-8 atom-9\" d=\"M 113.8,198.0 L 104.9,212.6\" style=\"fill:none;fill-rule:evenodd;stroke:#000000;stroke-width:2.0px;stroke-linecap:butt;stroke-linejoin:miter;stroke-opacity:1\"/>\n",
              "<path class=\"bond-8 atom-8 atom-9\" d=\"M 104.9,212.6 L 96.0,227.3\" style=\"fill:none;fill-rule:evenodd;stroke:#0000FF;stroke-width:2.0px;stroke-linecap:butt;stroke-linejoin:miter;stroke-opacity:1\"/>\n",
              "<path class=\"bond-9 atom-9 atom-10\" d=\"M 85.3,234.7 L 66.8,234.3\" style=\"fill:none;fill-rule:evenodd;stroke:#0000FF;stroke-width:2.0px;stroke-linecap:butt;stroke-linejoin:miter;stroke-opacity:1\"/>\n",
              "<path class=\"bond-9 atom-9 atom-10\" d=\"M 66.8,234.3 L 48.3,233.9\" style=\"fill:none;fill-rule:evenodd;stroke:#000000;stroke-width:2.0px;stroke-linecap:butt;stroke-linejoin:miter;stroke-opacity:1\"/>\n",
              "<path class=\"bond-10 atom-10 atom-11\" d=\"M 48.3,233.9 L 39.4,248.5\" style=\"fill:none;fill-rule:evenodd;stroke:#000000;stroke-width:2.0px;stroke-linecap:butt;stroke-linejoin:miter;stroke-opacity:1\"/>\n",
              "<path class=\"bond-10 atom-10 atom-11\" d=\"M 39.4,248.5 L 30.5,263.1\" style=\"fill:none;fill-rule:evenodd;stroke:#FF0000;stroke-width:2.0px;stroke-linecap:butt;stroke-linejoin:miter;stroke-opacity:1\"/>\n",
              "<path class=\"bond-10 atom-10 atom-11\" d=\"M 51.8,240.4 L 44.9,251.8\" style=\"fill:none;fill-rule:evenodd;stroke:#000000;stroke-width:2.0px;stroke-linecap:butt;stroke-linejoin:miter;stroke-opacity:1\"/>\n",
              "<path class=\"bond-10 atom-10 atom-11\" d=\"M 44.9,251.8 L 36.0,266.5\" style=\"fill:none;fill-rule:evenodd;stroke:#FF0000;stroke-width:2.0px;stroke-linecap:butt;stroke-linejoin:miter;stroke-opacity:1\"/>\n",
              "<path class=\"bond-11 atom-8 atom-12\" d=\"M 113.8,198.0 L 93.1,160.2\" style=\"fill:none;fill-rule:evenodd;stroke:#000000;stroke-width:2.0px;stroke-linecap:butt;stroke-linejoin:miter;stroke-opacity:1\"/>\n",
              "<path class=\"bond-12 atom-12 atom-13\" d=\"M 93.1,160.2 L 83.8,143.3\" style=\"fill:none;fill-rule:evenodd;stroke:#000000;stroke-width:2.0px;stroke-linecap:butt;stroke-linejoin:miter;stroke-opacity:1\"/>\n",
              "<path class=\"bond-12 atom-12 atom-13\" d=\"M 83.8,143.3 L 74.6,126.4\" style=\"fill:none;fill-rule:evenodd;stroke:#00CC00;stroke-width:2.0px;stroke-linecap:butt;stroke-linejoin:miter;stroke-opacity:1\"/>\n",
              "<path class=\"bond-13 atom-12 atom-14\" d=\"M 93.1,160.2 L 75.3,169.9\" style=\"fill:none;fill-rule:evenodd;stroke:#000000;stroke-width:2.0px;stroke-linecap:butt;stroke-linejoin:miter;stroke-opacity:1\"/>\n",
              "<path class=\"bond-13 atom-12 atom-14\" d=\"M 75.3,169.9 L 57.5,179.7\" style=\"fill:none;fill-rule:evenodd;stroke:#00CC00;stroke-width:2.0px;stroke-linecap:butt;stroke-linejoin:miter;stroke-opacity:1\"/>\n",
              "<path class=\"bond-14 atom-12 atom-15\" d=\"M 93.1,160.2 L 108.9,151.5\" style=\"fill:none;fill-rule:evenodd;stroke:#000000;stroke-width:2.0px;stroke-linecap:butt;stroke-linejoin:miter;stroke-opacity:1\"/>\n",
              "<path class=\"bond-14 atom-12 atom-15\" d=\"M 108.9,151.5 L 124.8,142.8\" style=\"fill:none;fill-rule:evenodd;stroke:#00CC00;stroke-width:2.0px;stroke-linecap:butt;stroke-linejoin:miter;stroke-opacity:1\"/>\n",
              "<path class=\"bond-15 atom-7 atom-16\" d=\"M 161.5,191.4 L 170.4,176.8\" style=\"fill:none;fill-rule:evenodd;stroke:#0000FF;stroke-width:2.0px;stroke-linecap:butt;stroke-linejoin:miter;stroke-opacity:1\"/>\n",
              "<path class=\"bond-15 atom-7 atom-16\" d=\"M 170.4,176.8 L 179.3,162.1\" style=\"fill:none;fill-rule:evenodd;stroke:#000000;stroke-width:2.0px;stroke-linecap:butt;stroke-linejoin:miter;stroke-opacity:1\"/>\n",
              "<path class=\"bond-16 atom-16 atom-17\" d=\"M 179.3,162.1 L 222.4,163.1\" style=\"fill:none;fill-rule:evenodd;stroke:#000000;stroke-width:2.0px;stroke-linecap:butt;stroke-linejoin:miter;stroke-opacity:1\"/>\n",
              "<path class=\"bond-16 atom-16 atom-17\" d=\"M 182.9,168.6 L 218.5,169.5\" style=\"fill:none;fill-rule:evenodd;stroke:#000000;stroke-width:2.0px;stroke-linecap:butt;stroke-linejoin:miter;stroke-opacity:1\"/>\n",
              "<path class=\"bond-17 atom-3 atom-18\" d=\"M 286.2,201.9 L 306.9,239.7\" style=\"fill:none;fill-rule:evenodd;stroke:#000000;stroke-width:2.0px;stroke-linecap:butt;stroke-linejoin:miter;stroke-opacity:1\"/>\n",
              "<path class=\"bond-18 atom-18 atom-19\" d=\"M 306.9,239.7 L 315.3,255.0\" style=\"fill:none;fill-rule:evenodd;stroke:#000000;stroke-width:2.0px;stroke-linecap:butt;stroke-linejoin:miter;stroke-opacity:1\"/>\n",
              "<path class=\"bond-18 atom-18 atom-19\" d=\"M 315.3,255.0 L 323.7,270.3\" style=\"fill:none;fill-rule:evenodd;stroke:#00CC00;stroke-width:2.0px;stroke-linecap:butt;stroke-linejoin:miter;stroke-opacity:1\"/>\n",
              "<path class=\"bond-19 atom-18 atom-20\" d=\"M 306.9,239.7 L 322.8,231.0\" style=\"fill:none;fill-rule:evenodd;stroke:#000000;stroke-width:2.0px;stroke-linecap:butt;stroke-linejoin:miter;stroke-opacity:1\"/>\n",
              "<path class=\"bond-19 atom-18 atom-20\" d=\"M 322.8,231.0 L 338.6,222.3\" style=\"fill:none;fill-rule:evenodd;stroke:#00CC00;stroke-width:2.0px;stroke-linecap:butt;stroke-linejoin:miter;stroke-opacity:1\"/>\n",
              "<path class=\"bond-20 atom-18 atom-21\" d=\"M 306.9,239.7 L 289.1,249.4\" style=\"fill:none;fill-rule:evenodd;stroke:#000000;stroke-width:2.0px;stroke-linecap:butt;stroke-linejoin:miter;stroke-opacity:1\"/>\n",
              "<path class=\"bond-20 atom-18 atom-21\" d=\"M 289.1,249.4 L 271.3,259.2\" style=\"fill:none;fill-rule:evenodd;stroke:#00CC00;stroke-width:2.0px;stroke-linecap:butt;stroke-linejoin:miter;stroke-opacity:1\"/>\n",
              "<path class=\"bond-21 atom-17 atom-4\" d=\"M 222.4,163.1 L 230.7,178.2\" style=\"fill:none;fill-rule:evenodd;stroke:#000000;stroke-width:2.0px;stroke-linecap:butt;stroke-linejoin:miter;stroke-opacity:1\"/>\n",
              "<path class=\"bond-21 atom-17 atom-4\" d=\"M 230.7,178.2 L 239.0,193.4\" style=\"fill:none;fill-rule:evenodd;stroke:#0000FF;stroke-width:2.0px;stroke-linecap:butt;stroke-linejoin:miter;stroke-opacity:1\"/>\n",
              "<path d=\"M 352.2,165.3 L 351.7,166.0 L 350.8,166.0\" style=\"fill:none;stroke:#000000;stroke-width:2.0px;stroke-linecap:butt;stroke-linejoin:miter;stroke-opacity:1;\"/>\n",
              "<path d=\"M 221.2,237.0 L 220.7,237.7 L 218.6,237.7\" style=\"fill:none;stroke:#000000;stroke-width:2.0px;stroke-linecap:butt;stroke-linejoin:miter;stroke-opacity:1;\"/>\n",
              "<path d=\"M 179.8,236.8 L 177.6,236.8 L 177.2,236.0\" style=\"fill:none;stroke:#000000;stroke-width:2.0px;stroke-linecap:butt;stroke-linejoin:miter;stroke-opacity:1;\"/>\n",
              "<path d=\"M 49.2,233.9 L 48.3,233.9 L 47.8,234.6\" style=\"fill:none;stroke:#000000;stroke-width:2.0px;stroke-linecap:butt;stroke-linejoin:miter;stroke-opacity:1;\"/>\n",
              "<path d=\"M 178.8,162.8 L 179.3,162.1 L 181.4,162.1\" style=\"fill:none;stroke:#000000;stroke-width:2.0px;stroke-linecap:butt;stroke-linejoin:miter;stroke-opacity:1;\"/>\n",
              "<path d=\"M 220.2,163.0 L 222.4,163.1 L 222.8,163.8\" style=\"fill:none;stroke:#000000;stroke-width:2.0px;stroke-linecap:butt;stroke-linejoin:miter;stroke-opacity:1;\"/>\n",
              "<path class=\"atom-0\" d=\"M 365.8 127.5 Q 365.8 124.6, 367.2 122.9 Q 368.7 121.3, 371.4 121.3 Q 374.1 121.3, 375.5 122.9 Q 377.0 124.6, 377.0 127.5 Q 377.0 130.5, 375.5 132.2 Q 374.0 133.8, 371.4 133.8 Q 368.7 133.8, 367.2 132.2 Q 365.8 130.5, 365.8 127.5 M 371.4 132.4 Q 373.2 132.4, 374.2 131.2 Q 375.3 129.9, 375.3 127.5 Q 375.3 125.1, 374.2 123.9 Q 373.2 122.7, 371.4 122.7 Q 369.5 122.7, 368.5 123.9 Q 367.5 125.1, 367.5 127.5 Q 367.5 130.0, 368.5 131.2 Q 369.5 132.4, 371.4 132.4 \" fill=\"#FF0000\"/>\n",
              "<path class=\"atom-2\" d=\"M 292.0 158.9 L 293.7 158.9 L 293.7 164.1 L 299.9 164.1 L 299.9 158.9 L 301.6 158.9 L 301.6 171.1 L 299.9 171.1 L 299.9 165.5 L 293.7 165.5 L 293.7 171.1 L 292.0 171.1 L 292.0 158.9 \" fill=\"#0000FF\"/>\n",
              "<path class=\"atom-2\" d=\"M 305.9 158.9 L 309.9 165.4 Q 310.3 166.0, 311.0 167.2 Q 311.6 168.3, 311.6 168.4 L 311.6 158.9 L 313.3 158.9 L 313.3 171.1 L 311.6 171.1 L 307.3 164.1 Q 306.8 163.2, 306.3 162.3 Q 305.7 161.3, 305.6 161.0 L 305.6 171.1 L 304.0 171.1 L 304.0 158.9 L 305.9 158.9 \" fill=\"#0000FF\"/>\n",
              "<path class=\"atom-4\" d=\"M 240.4 194.8 L 244.4 201.3 Q 244.8 201.9, 245.5 203.1 Q 246.1 204.2, 246.1 204.3 L 246.1 194.8 L 247.7 194.8 L 247.7 207.0 L 246.1 207.0 L 241.8 199.9 Q 241.3 199.1, 240.7 198.2 Q 240.2 197.2, 240.1 196.9 L 240.1 207.0 L 238.5 207.0 L 238.5 194.8 L 240.4 194.8 \" fill=\"#0000FF\"/>\n",
              "<path class=\"atom-7\" d=\"M 154.2 192.8 L 158.2 199.3 Q 158.6 199.9, 159.2 201.1 Q 159.9 202.3, 159.9 202.3 L 159.9 192.8 L 161.5 192.8 L 161.5 205.1 L 159.8 205.1 L 155.5 198.0 Q 155.0 197.2, 154.5 196.2 Q 154.0 195.3, 153.8 195.0 L 153.8 205.1 L 152.3 205.1 L 152.3 192.8 L 154.2 192.8 \" fill=\"#0000FF\"/>\n",
              "<path class=\"atom-9\" d=\"M 88.7 228.7 L 92.7 235.2 Q 93.1 235.8, 93.7 237.0 Q 94.3 238.1, 94.4 238.2 L 94.4 228.7 L 96.0 228.7 L 96.0 240.9 L 94.3 240.9 L 90.0 233.9 Q 89.5 233.0, 89.0 232.1 Q 88.5 231.1, 88.3 230.8 L 88.3 240.9 L 86.7 240.9 L 86.7 228.7 L 88.7 228.7 \" fill=\"#0000FF\"/>\n",
              "<path class=\"atom-9\" d=\"M 98.4 228.7 L 100.0 228.7 L 100.0 233.9 L 106.3 233.9 L 106.3 228.7 L 107.9 228.7 L 107.9 240.9 L 106.3 240.9 L 106.3 235.3 L 100.0 235.3 L 100.0 240.9 L 98.4 240.9 L 98.4 228.7 \" fill=\"#0000FF\"/>\n",
              "<path class=\"atom-11\" d=\"M 23.0 272.4 Q 23.0 269.5, 24.5 267.8 Q 25.9 266.2, 28.6 266.2 Q 31.3 266.2, 32.8 267.8 Q 34.2 269.5, 34.2 272.4 Q 34.2 275.4, 32.8 277.1 Q 31.3 278.7, 28.6 278.7 Q 25.9 278.7, 24.5 277.1 Q 23.0 275.4, 23.0 272.4 M 28.6 277.4 Q 30.5 277.4, 31.5 276.1 Q 32.5 274.9, 32.5 272.4 Q 32.5 270.0, 31.5 268.8 Q 30.5 267.6, 28.6 267.6 Q 26.8 267.6, 25.7 268.8 Q 24.7 270.0, 24.7 272.4 Q 24.7 274.9, 25.7 276.1 Q 26.8 277.4, 28.6 277.4 \" fill=\"#FF0000\"/>\n",
              "<path class=\"atom-13\" d=\"M 60.9 122.8 Q 60.9 119.7, 62.3 118.1 Q 63.7 116.5, 66.4 116.5 Q 69.0 116.5, 70.3 118.3 L 69.2 119.2 Q 68.2 117.9, 66.4 117.9 Q 64.6 117.9, 63.6 119.2 Q 62.7 120.4, 62.7 122.8 Q 62.7 125.2, 63.7 126.4 Q 64.7 127.6, 66.6 127.6 Q 68.0 127.6, 69.6 126.8 L 70.0 128.1 Q 69.4 128.5, 68.4 128.8 Q 67.5 129.0, 66.4 129.0 Q 63.7 129.0, 62.3 127.4 Q 60.9 125.8, 60.9 122.8 \" fill=\"#00CC00\"/>\n",
              "<path class=\"atom-13\" d=\"M 71.6 115.8 L 73.1 115.8 L 73.1 128.9 L 71.6 128.9 L 71.6 115.8 \" fill=\"#00CC00\"/>\n",
              "<path class=\"atom-14\" d=\"M 43.8 181.3 Q 43.8 178.3, 45.2 176.7 Q 46.6 175.1, 49.3 175.1 Q 51.9 175.1, 53.2 176.8 L 52.1 177.8 Q 51.1 176.5, 49.3 176.5 Q 47.5 176.5, 46.5 177.7 Q 45.5 178.9, 45.5 181.3 Q 45.5 183.7, 46.5 184.9 Q 47.6 186.2, 49.5 186.2 Q 50.9 186.2, 52.4 185.4 L 52.9 186.7 Q 52.3 187.1, 51.3 187.3 Q 50.4 187.6, 49.3 187.6 Q 46.6 187.6, 45.2 185.9 Q 43.8 184.3, 43.8 181.3 \" fill=\"#00CC00\"/>\n",
              "<path class=\"atom-14\" d=\"M 54.4 174.3 L 56.0 174.3 L 56.0 187.4 L 54.4 187.4 L 54.4 174.3 \" fill=\"#00CC00\"/>\n",
              "<path class=\"atom-15\" d=\"M 126.2 139.9 Q 126.2 136.8, 127.6 135.2 Q 129.0 133.6, 131.7 133.6 Q 134.2 133.6, 135.6 135.4 L 134.5 136.3 Q 133.5 135.0, 131.7 135.0 Q 129.9 135.0, 128.9 136.3 Q 127.9 137.5, 127.9 139.9 Q 127.9 142.3, 128.9 143.5 Q 130.0 144.8, 131.9 144.8 Q 133.3 144.8, 134.8 143.9 L 135.3 145.2 Q 134.7 145.7, 133.7 145.9 Q 132.7 146.1, 131.7 146.1 Q 129.0 146.1, 127.6 144.5 Q 126.2 142.9, 126.2 139.9 \" fill=\"#00CC00\"/>\n",
              "<path class=\"atom-15\" d=\"M 136.8 132.9 L 138.4 132.9 L 138.4 146.0 L 136.8 146.0 L 136.8 132.9 \" fill=\"#00CC00\"/>\n",
              "<path class=\"atom-19\" d=\"M 322.9 277.9 Q 322.9 274.9, 324.4 273.3 Q 325.8 271.7, 328.5 271.7 Q 331.0 271.7, 332.4 273.5 L 331.2 274.4 Q 330.2 273.1, 328.5 273.1 Q 326.7 273.1, 325.7 274.4 Q 324.7 275.6, 324.7 277.9 Q 324.7 280.4, 325.7 281.6 Q 326.7 282.8, 328.7 282.8 Q 330.0 282.8, 331.6 282.0 L 332.1 283.3 Q 331.4 283.7, 330.5 284.0 Q 329.5 284.2, 328.4 284.2 Q 325.8 284.2, 324.4 282.6 Q 322.9 281.0, 322.9 277.9 \" fill=\"#00CC00\"/>\n",
              "<path class=\"atom-19\" d=\"M 333.6 271.0 L 335.2 271.0 L 335.2 284.1 L 333.6 284.1 L 333.6 271.0 \" fill=\"#00CC00\"/>\n",
              "<path class=\"atom-20\" d=\"M 340.1 219.4 Q 340.1 216.4, 341.5 214.8 Q 342.9 213.2, 345.6 213.2 Q 348.1 213.2, 349.5 215.0 L 348.3 215.9 Q 347.4 214.6, 345.6 214.6 Q 343.8 214.6, 342.8 215.8 Q 341.8 217.1, 341.8 219.4 Q 341.8 221.8, 342.8 223.1 Q 343.8 224.3, 345.8 224.3 Q 347.1 224.3, 348.7 223.5 L 349.2 224.8 Q 348.6 225.2, 347.6 225.4 Q 346.6 225.7, 345.6 225.7 Q 342.9 225.7, 341.5 224.1 Q 340.1 222.4, 340.1 219.4 \" fill=\"#00CC00\"/>\n",
              "<path class=\"atom-20\" d=\"M 350.7 212.4 L 352.3 212.4 L 352.3 225.5 L 350.7 225.5 L 350.7 212.4 \" fill=\"#00CC00\"/>\n",
              "<path class=\"atom-21\" d=\"M 257.7 260.8 Q 257.7 257.8, 259.1 256.2 Q 260.5 254.6, 263.2 254.6 Q 265.7 254.6, 267.1 256.4 L 265.9 257.3 Q 265.0 256.0, 263.2 256.0 Q 261.4 256.0, 260.4 257.3 Q 259.4 258.5, 259.4 260.8 Q 259.4 263.2, 260.4 264.5 Q 261.4 265.7, 263.4 265.7 Q 264.8 265.7, 266.3 264.9 L 266.8 266.2 Q 266.2 266.6, 265.2 266.9 Q 264.2 267.1, 263.2 267.1 Q 260.5 267.1, 259.1 265.5 Q 257.7 263.9, 257.7 260.8 \" fill=\"#00CC00\"/>\n",
              "<path class=\"atom-21\" d=\"M 268.3 253.9 L 269.9 253.9 L 269.9 267.0 L 268.3 267.0 L 268.3 253.9 \" fill=\"#00CC00\"/>\n",
              "</svg>"
            ],
            "text/plain": [
              "<IPython.core.display.SVG object>"
            ]
          },
          "metadata": {},
          "output_type": "display_data"
        },
        {
          "data": {
            "image/png": "[encoded data removed]",
            "text/plain": [
              "<Figure size 450x50 with 2 Axes>"
            ]
          },
          "metadata": {},
          "output_type": "display_data"
        }
      ],
      "source": [
        "#2. O=CNC(N1C=CN(C(NC=O)C(Cl)(Cl)Cl)C=C1)C(Cl)(Cl)Cl\n",
        "smiles=\"O=CNC(N1C=CN(C(NC=O)C(Cl)(Cl)Cl)C=C1)C(Cl)(Cl)Cl\"\n",
        "colorAtomsByAttention(smiles)"
      ]
    },
    {
      "cell_type": "code",
      "execution_count": 15,
      "metadata": {},
      "outputs": [
        {
          "name": "stderr",
          "output_type": "stream",
          "text": [
            "2024-06-12 18:16:10 | INFO | fairseq.file_utils | loading archive file /data/jgut/SMILES_or_SELFIES/prediction_models/smiles_atom_isomers_bart\n",
            "2024-06-12 18:16:10 | INFO | fairseq.file_utils | loading archive file /data/jgut/SMILES_or_SELFIES/task/bbbp/smiles_atom_isomers\n"
          ]
        },
        {
          "name": "stdout",
          "output_type": "stream",
          "text": [
            "SMILES_tok:  ['c', '1', 'c', 'c', 'c', '(', '-', 'c', '2', 'c', 'c', 'c', '(', '-', 'c', '3', 'c', 'c', 'c', 'c', 'c', '3', ')', 'c', 'c', '2', ')', 'c', 'c', '1']\n",
            "posToKeep:  [0, 2, 3, 4, 7, 9, 10, 11, 14, 16, 17, 18, 19, 20, 23, 24, 27, 28]\n",
            "SMILES_tok_prep:  ['c', 'c', 'c', 'c', 'c', 'c', 'c', 'c', 'c', 'c', 'c', 'c', 'c', 'c', 'c', 'c', 'c', 'c']\n"
          ]
        },
        {
          "name": "stderr",
          "output_type": "stream",
          "text": [
            "2024-06-12 18:16:10 | INFO | fairseq.tasks.sentence_prediction | [input] dictionary: 433 types\n",
            "2024-06-12 18:16:12 | INFO | fairseq.models.bart.model | Registering classification head: sentence_classification_head\n"
          ]
        },
        {
          "name": "stdout",
          "output_type": "stream",
          "text": [
            "18\n",
            "before normalisation:  [0.01297912 0.04334458 0.06802297 0.11349978 0.06073381 0.03111555\n",
            " 0.02986206 0.02397736 0.01561408 0.02546553 0.021467   0.01703729\n",
            " 0.01650503 0.01588189 0.01616044 0.01646642 0.0142598  0.01443379]\n",
            "normalized means where all values fall between 0 and 1:  [0.         0.30208176 0.54758747 1.         0.47507335 0.18042489\n",
            " 0.16795491 0.10941276 0.02621317 0.12421734 0.08443919 0.04037153\n",
            " 0.03507653 0.02887741 0.03164843 0.03469243 0.01274054 0.01447139]\n",
            "Minimum and maximum attention values: 0.0, 1.0\n"
          ]
        },
        {
          "data": {
            "image/svg+xml": [
              "<svg xmlns=\"http://www.w3.org/2000/svg\" xmlns:rdkit=\"http://www.rdkit.org/xml\" xmlns:xlink=\"http://www.w3.org/1999/xlink\" version=\"1.1\" baseProfile=\"full\" xml:space=\"preserve\" width=\"400px\" height=\"400px\" viewBox=\"0 0 400 400\">\n",
              "<!-- END OF HEADER -->\n",
              "<rect style=\"opacity:1.0;fill:#FFFFFF;stroke:none\" width=\"400.0\" height=\"400.0\" x=\"0.0\" y=\"0.0\"> </rect>\n",
              "<ellipse cx=\"371.4\" cy=\"200.0\" rx=\"8.6\" ry=\"8.6\" class=\"atom-0\" style=\"fill:#440154;fill-rule:evenodd;stroke:#440154;stroke-width:1.0px;stroke-linecap:butt;stroke-linejoin:miter;stroke-opacity:1\"/>\n",
              "<ellipse cx=\"350.0\" cy=\"237.1\" rx=\"8.6\" ry=\"8.6\" class=\"atom-1\" style=\"fill:#345F8D;fill-rule:evenodd;stroke:#345F8D;stroke-width:1.0px;stroke-linecap:butt;stroke-linejoin:miter;stroke-opacity:1\"/>\n",
              "<ellipse cx=\"307.1\" cy=\"237.1\" rx=\"8.6\" ry=\"8.6\" class=\"atom-2\" style=\"fill:#1E9B89;fill-rule:evenodd;stroke:#1E9B89;stroke-width:1.0px;stroke-linecap:butt;stroke-linejoin:miter;stroke-opacity:1\"/>\n",
              "<ellipse cx=\"285.7\" cy=\"200.0\" rx=\"8.6\" ry=\"8.6\" class=\"atom-3\" style=\"fill:#FDE724;fill-rule:evenodd;stroke:#FDE724;stroke-width:1.0px;stroke-linecap:butt;stroke-linejoin:miter;stroke-opacity:1\"/>\n",
              "<ellipse cx=\"242.9\" cy=\"200.0\" rx=\"8.6\" ry=\"8.6\" class=\"atom-4\" style=\"fill:#22898D;fill-rule:evenodd;stroke:#22898D;stroke-width:1.0px;stroke-linecap:butt;stroke-linejoin:miter;stroke-opacity:1\"/>\n",
              "<ellipse cx=\"221.4\" cy=\"162.9\" rx=\"8.6\" ry=\"8.6\" class=\"atom-5\" style=\"fill:#423D84;fill-rule:evenodd;stroke:#423D84;stroke-width:1.0px;stroke-linecap:butt;stroke-linejoin:miter;stroke-opacity:1\"/>\n",
              "<ellipse cx=\"178.6\" cy=\"162.9\" rx=\"8.6\" ry=\"8.6\" class=\"atom-6\" style=\"fill:#443982;fill-rule:evenodd;stroke:#443982;stroke-width:1.0px;stroke-linecap:butt;stroke-linejoin:miter;stroke-opacity:1\"/>\n",
              "<ellipse cx=\"157.1\" cy=\"200.0\" rx=\"8.6\" ry=\"8.6\" class=\"atom-7\" style=\"fill:#472777;fill-rule:evenodd;stroke:#472777;stroke-width:1.0px;stroke-linecap:butt;stroke-linejoin:miter;stroke-opacity:1\"/>\n",
              "<ellipse cx=\"114.3\" cy=\"200.0\" rx=\"8.6\" ry=\"8.6\" class=\"atom-8\" style=\"fill:#46095C;fill-rule:evenodd;stroke:#46095C;stroke-width:1.0px;stroke-linecap:butt;stroke-linejoin:miter;stroke-opacity:1\"/>\n",
              "<ellipse cx=\"92.9\" cy=\"162.9\" rx=\"8.6\" ry=\"8.6\" class=\"atom-9\" style=\"fill:#472B7A;fill-rule:evenodd;stroke:#472B7A;stroke-width:1.0px;stroke-linecap:butt;stroke-linejoin:miter;stroke-opacity:1\"/>\n",
              "<ellipse cx=\"50.0\" cy=\"162.9\" rx=\"8.6\" ry=\"8.6\" class=\"atom-10\" style=\"fill:#481E70;fill-rule:evenodd;stroke:#481E70;stroke-width:1.0px;stroke-linecap:butt;stroke-linejoin:miter;stroke-opacity:1\"/>\n",
              "<ellipse cx=\"28.6\" cy=\"200.0\" rx=\"8.6\" ry=\"8.6\" class=\"atom-11\" style=\"fill:#470F62;fill-rule:evenodd;stroke:#470F62;stroke-width:1.0px;stroke-linecap:butt;stroke-linejoin:miter;stroke-opacity:1\"/>\n",
              "<ellipse cx=\"50.0\" cy=\"237.1\" rx=\"8.6\" ry=\"8.6\" class=\"atom-12\" style=\"fill:#460C5F;fill-rule:evenodd;stroke:#460C5F;stroke-width:1.0px;stroke-linecap:butt;stroke-linejoin:miter;stroke-opacity:1\"/>\n",
              "<ellipse cx=\"92.9\" cy=\"237.1\" rx=\"8.6\" ry=\"8.6\" class=\"atom-13\" style=\"fill:#460B5E;fill-rule:evenodd;stroke:#460B5E;stroke-width:1.0px;stroke-linecap:butt;stroke-linejoin:miter;stroke-opacity:1\"/>\n",
              "<ellipse cx=\"178.6\" cy=\"237.1\" rx=\"8.6\" ry=\"8.6\" class=\"atom-14\" style=\"fill:#460C5F;fill-rule:evenodd;stroke:#460C5F;stroke-width:1.0px;stroke-linecap:butt;stroke-linejoin:miter;stroke-opacity:1\"/>\n",
              "<ellipse cx=\"221.4\" cy=\"237.1\" rx=\"8.6\" ry=\"8.6\" class=\"atom-15\" style=\"fill:#460C5F;fill-rule:evenodd;stroke:#460C5F;stroke-width:1.0px;stroke-linecap:butt;stroke-linejoin:miter;stroke-opacity:1\"/>\n",
              "<ellipse cx=\"307.1\" cy=\"162.9\" rx=\"8.6\" ry=\"8.6\" class=\"atom-16\" style=\"fill:#450558;fill-rule:evenodd;stroke:#450558;stroke-width:1.0px;stroke-linecap:butt;stroke-linejoin:miter;stroke-opacity:1\"/>\n",
              "<ellipse cx=\"350.0\" cy=\"162.9\" rx=\"8.6\" ry=\"8.6\" class=\"atom-17\" style=\"fill:#450558;fill-rule:evenodd;stroke:#450558;stroke-width:1.0px;stroke-linecap:butt;stroke-linejoin:miter;stroke-opacity:1\"/>\n",
              "<path class=\"bond-0 atom-0 atom-1\" d=\"M 371.4,200.0 L 350.0,237.1\" style=\"fill:none;fill-rule:evenodd;stroke:#000000;stroke-width:2.0px;stroke-linecap:butt;stroke-linejoin:miter;stroke-opacity:1\"/>\n",
              "<path class=\"bond-0 atom-0 atom-1\" d=\"M 364.0,200.0 L 346.3,230.7\" style=\"fill:none;fill-rule:evenodd;stroke:#000000;stroke-width:2.0px;stroke-linecap:butt;stroke-linejoin:miter;stroke-opacity:1\"/>\n",
              "<path class=\"bond-1 atom-1 atom-2\" d=\"M 350.0,237.1 L 307.1,237.1\" style=\"fill:none;fill-rule:evenodd;stroke:#000000;stroke-width:2.0px;stroke-linecap:butt;stroke-linejoin:miter;stroke-opacity:1\"/>\n",
              "<path class=\"bond-2 atom-2 atom-3\" d=\"M 307.1,237.1 L 285.7,200.0\" style=\"fill:none;fill-rule:evenodd;stroke:#000000;stroke-width:2.0px;stroke-linecap:butt;stroke-linejoin:miter;stroke-opacity:1\"/>\n",
              "<path class=\"bond-2 atom-2 atom-3\" d=\"M 310.9,230.7 L 293.1,200.0\" style=\"fill:none;fill-rule:evenodd;stroke:#000000;stroke-width:2.0px;stroke-linecap:butt;stroke-linejoin:miter;stroke-opacity:1\"/>\n",
              "<path class=\"bond-3 atom-3 atom-4\" d=\"M 285.7,200.0 L 242.9,200.0\" style=\"fill:none;fill-rule:evenodd;stroke:#000000;stroke-width:2.0px;stroke-linecap:butt;stroke-linejoin:miter;stroke-opacity:1\"/>\n",
              "<path class=\"bond-4 atom-4 atom-5\" d=\"M 242.9,200.0 L 221.4,162.9\" style=\"fill:none;fill-rule:evenodd;stroke:#000000;stroke-width:2.0px;stroke-linecap:butt;stroke-linejoin:miter;stroke-opacity:1\"/>\n",
              "<path class=\"bond-4 atom-4 atom-5\" d=\"M 235.4,200.0 L 217.7,169.3\" style=\"fill:none;fill-rule:evenodd;stroke:#000000;stroke-width:2.0px;stroke-linecap:butt;stroke-linejoin:miter;stroke-opacity:1\"/>\n",
              "<path class=\"bond-5 atom-5 atom-6\" d=\"M 221.4,162.9 L 178.6,162.9\" style=\"fill:none;fill-rule:evenodd;stroke:#000000;stroke-width:2.0px;stroke-linecap:butt;stroke-linejoin:miter;stroke-opacity:1\"/>\n",
              "<path class=\"bond-6 atom-6 atom-7\" d=\"M 178.6,162.9 L 157.1,200.0\" style=\"fill:none;fill-rule:evenodd;stroke:#000000;stroke-width:2.0px;stroke-linecap:butt;stroke-linejoin:miter;stroke-opacity:1\"/>\n",
              "<path class=\"bond-6 atom-6 atom-7\" d=\"M 182.3,169.3 L 164.6,200.0\" style=\"fill:none;fill-rule:evenodd;stroke:#000000;stroke-width:2.0px;stroke-linecap:butt;stroke-linejoin:miter;stroke-opacity:1\"/>\n",
              "<path class=\"bond-7 atom-7 atom-8\" d=\"M 157.1,200.0 L 114.3,200.0\" style=\"fill:none;fill-rule:evenodd;stroke:#000000;stroke-width:2.0px;stroke-linecap:butt;stroke-linejoin:miter;stroke-opacity:1\"/>\n",
              "<path class=\"bond-8 atom-8 atom-9\" d=\"M 114.3,200.0 L 92.9,162.9\" style=\"fill:none;fill-rule:evenodd;stroke:#000000;stroke-width:2.0px;stroke-linecap:butt;stroke-linejoin:miter;stroke-opacity:1\"/>\n",
              "<path class=\"bond-8 atom-8 atom-9\" d=\"M 106.9,200.0 L 89.1,169.3\" style=\"fill:none;fill-rule:evenodd;stroke:#000000;stroke-width:2.0px;stroke-linecap:butt;stroke-linejoin:miter;stroke-opacity:1\"/>\n",
              "<path class=\"bond-9 atom-9 atom-10\" d=\"M 92.9,162.9 L 50.0,162.9\" style=\"fill:none;fill-rule:evenodd;stroke:#000000;stroke-width:2.0px;stroke-linecap:butt;stroke-linejoin:miter;stroke-opacity:1\"/>\n",
              "<path class=\"bond-10 atom-10 atom-11\" d=\"M 50.0,162.9 L 28.6,200.0\" style=\"fill:none;fill-rule:evenodd;stroke:#000000;stroke-width:2.0px;stroke-linecap:butt;stroke-linejoin:miter;stroke-opacity:1\"/>\n",
              "<path class=\"bond-10 atom-10 atom-11\" d=\"M 53.7,169.3 L 36.0,200.0\" style=\"fill:none;fill-rule:evenodd;stroke:#000000;stroke-width:2.0px;stroke-linecap:butt;stroke-linejoin:miter;stroke-opacity:1\"/>\n",
              "<path class=\"bond-11 atom-11 atom-12\" d=\"M 28.6,200.0 L 50.0,237.1\" style=\"fill:none;fill-rule:evenodd;stroke:#000000;stroke-width:2.0px;stroke-linecap:butt;stroke-linejoin:miter;stroke-opacity:1\"/>\n",
              "<path class=\"bond-12 atom-12 atom-13\" d=\"M 50.0,237.1 L 92.9,237.1\" style=\"fill:none;fill-rule:evenodd;stroke:#000000;stroke-width:2.0px;stroke-linecap:butt;stroke-linejoin:miter;stroke-opacity:1\"/>\n",
              "<path class=\"bond-12 atom-12 atom-13\" d=\"M 53.7,230.7 L 89.1,230.7\" style=\"fill:none;fill-rule:evenodd;stroke:#000000;stroke-width:2.0px;stroke-linecap:butt;stroke-linejoin:miter;stroke-opacity:1\"/>\n",
              "<path class=\"bond-13 atom-7 atom-14\" d=\"M 157.1,200.0 L 178.6,237.1\" style=\"fill:none;fill-rule:evenodd;stroke:#000000;stroke-width:2.0px;stroke-linecap:butt;stroke-linejoin:miter;stroke-opacity:1\"/>\n",
              "<path class=\"bond-14 atom-14 atom-15\" d=\"M 178.6,237.1 L 221.4,237.1\" style=\"fill:none;fill-rule:evenodd;stroke:#000000;stroke-width:2.0px;stroke-linecap:butt;stroke-linejoin:miter;stroke-opacity:1\"/>\n",
              "<path class=\"bond-14 atom-14 atom-15\" d=\"M 182.3,230.7 L 217.7,230.7\" style=\"fill:none;fill-rule:evenodd;stroke:#000000;stroke-width:2.0px;stroke-linecap:butt;stroke-linejoin:miter;stroke-opacity:1\"/>\n",
              "<path class=\"bond-15 atom-3 atom-16\" d=\"M 285.7,200.0 L 307.1,162.9\" style=\"fill:none;fill-rule:evenodd;stroke:#000000;stroke-width:2.0px;stroke-linecap:butt;stroke-linejoin:miter;stroke-opacity:1\"/>\n",
              "<path class=\"bond-16 atom-16 atom-17\" d=\"M 307.1,162.9 L 350.0,162.9\" style=\"fill:none;fill-rule:evenodd;stroke:#000000;stroke-width:2.0px;stroke-linecap:butt;stroke-linejoin:miter;stroke-opacity:1\"/>\n",
              "<path class=\"bond-16 atom-16 atom-17\" d=\"M 310.9,169.3 L 346.3,169.3\" style=\"fill:none;fill-rule:evenodd;stroke:#000000;stroke-width:2.0px;stroke-linecap:butt;stroke-linejoin:miter;stroke-opacity:1\"/>\n",
              "<path class=\"bond-17 atom-17 atom-0\" d=\"M 350.0,162.9 L 371.4,200.0\" style=\"fill:none;fill-rule:evenodd;stroke:#000000;stroke-width:2.0px;stroke-linecap:butt;stroke-linejoin:miter;stroke-opacity:1\"/>\n",
              "<path class=\"bond-18 atom-15 atom-4\" d=\"M 221.4,237.1 L 242.9,200.0\" style=\"fill:none;fill-rule:evenodd;stroke:#000000;stroke-width:2.0px;stroke-linecap:butt;stroke-linejoin:miter;stroke-opacity:1\"/>\n",
              "<path class=\"bond-19 atom-13 atom-8\" d=\"M 92.9,237.1 L 114.3,200.0\" style=\"fill:none;fill-rule:evenodd;stroke:#000000;stroke-width:2.0px;stroke-linecap:butt;stroke-linejoin:miter;stroke-opacity:1\"/>\n",
              "<path d=\"M 370.4,201.9 L 371.4,200.0 L 370.4,198.1\" style=\"fill:none;stroke:#000000;stroke-width:2.0px;stroke-linecap:butt;stroke-linejoin:miter;stroke-opacity:1;\"/>\n",
              "<path d=\"M 351.1,235.3 L 350.0,237.1 L 347.9,237.1\" style=\"fill:none;stroke:#000000;stroke-width:2.0px;stroke-linecap:butt;stroke-linejoin:miter;stroke-opacity:1;\"/>\n",
              "<path d=\"M 309.3,237.1 L 307.1,237.1 L 306.1,235.3\" style=\"fill:none;stroke:#000000;stroke-width:2.0px;stroke-linecap:butt;stroke-linejoin:miter;stroke-opacity:1;\"/>\n",
              "<path d=\"M 222.5,164.7 L 221.4,162.9 L 219.3,162.9\" style=\"fill:none;stroke:#000000;stroke-width:2.0px;stroke-linecap:butt;stroke-linejoin:miter;stroke-opacity:1;\"/>\n",
              "<path d=\"M 180.7,162.9 L 178.6,162.9 L 177.5,164.7\" style=\"fill:none;stroke:#000000;stroke-width:2.0px;stroke-linecap:butt;stroke-linejoin:miter;stroke-opacity:1;\"/>\n",
              "<path d=\"M 93.9,164.7 L 92.9,162.9 L 90.7,162.9\" style=\"fill:none;stroke:#000000;stroke-width:2.0px;stroke-linecap:butt;stroke-linejoin:miter;stroke-opacity:1;\"/>\n",
              "<path d=\"M 52.1,162.9 L 50.0,162.9 L 48.9,164.7\" style=\"fill:none;stroke:#000000;stroke-width:2.0px;stroke-linecap:butt;stroke-linejoin:miter;stroke-opacity:1;\"/>\n",
              "<path d=\"M 29.6,198.1 L 28.6,200.0 L 29.6,201.9\" style=\"fill:none;stroke:#000000;stroke-width:2.0px;stroke-linecap:butt;stroke-linejoin:miter;stroke-opacity:1;\"/>\n",
              "<path d=\"M 48.9,235.3 L 50.0,237.1 L 52.1,237.1\" style=\"fill:none;stroke:#000000;stroke-width:2.0px;stroke-linecap:butt;stroke-linejoin:miter;stroke-opacity:1;\"/>\n",
              "<path d=\"M 90.7,237.1 L 92.9,237.1 L 93.9,235.3\" style=\"fill:none;stroke:#000000;stroke-width:2.0px;stroke-linecap:butt;stroke-linejoin:miter;stroke-opacity:1;\"/>\n",
              "<path d=\"M 177.5,235.3 L 178.6,237.1 L 180.7,237.1\" style=\"fill:none;stroke:#000000;stroke-width:2.0px;stroke-linecap:butt;stroke-linejoin:miter;stroke-opacity:1;\"/>\n",
              "<path d=\"M 219.3,237.1 L 221.4,237.1 L 222.5,235.3\" style=\"fill:none;stroke:#000000;stroke-width:2.0px;stroke-linecap:butt;stroke-linejoin:miter;stroke-opacity:1;\"/>\n",
              "<path d=\"M 306.1,164.7 L 307.1,162.9 L 309.3,162.9\" style=\"fill:none;stroke:#000000;stroke-width:2.0px;stroke-linecap:butt;stroke-linejoin:miter;stroke-opacity:1;\"/>\n",
              "<path d=\"M 347.9,162.9 L 350.0,162.9 L 351.1,164.7\" style=\"fill:none;stroke:#000000;stroke-width:2.0px;stroke-linecap:butt;stroke-linejoin:miter;stroke-opacity:1;\"/>\n",
              "</svg>"
            ],
            "text/plain": [
              "<IPython.core.display.SVG object>"
            ]
          },
          "metadata": {},
          "output_type": "display_data"
        },
        {
          "data": {
            "image/png": "[encoded data removed]",
            "text/plain": [
              "<Figure size 450x50 with 2 Axes>"
            ]
          },
          "metadata": {},
          "output_type": "display_data"
        }
      ],
      "source": [
        "#3. c1ccc(-c2ccc(-c3ccccc3)cc2)cc1\n",
        "smiles=\"c1ccc(-c2ccc(-c3ccccc3)cc2)cc1\"\n",
        "colorAtomsByAttention(smiles)"
      ]
    },
    {
      "cell_type": "code",
      "execution_count": 16,
      "metadata": {},
      "outputs": [
        {
          "name": "stderr",
          "output_type": "stream",
          "text": [
            "2024-06-12 18:16:14 | INFO | fairseq.file_utils | loading archive file /data/jgut/SMILES_or_SELFIES/prediction_models/smiles_atom_isomers_bart\n",
            "2024-06-12 18:16:14 | INFO | fairseq.file_utils | loading archive file /data/jgut/SMILES_or_SELFIES/task/bbbp/smiles_atom_isomers\n"
          ]
        },
        {
          "name": "stdout",
          "output_type": "stream",
          "text": [
            "SMILES_tok:  ['c', '1', 'c', 'c', 'c', '2', 'c', '(', 'c', '1', ')', 's', 'c', '1', 'c', 'c', 'c', 'c', 'c', '1', '2']\n",
            "posToKeep:  [0, 2, 3, 4, 6, 8, 11, 12, 14, 15, 16, 17, 18]\n",
            "SMILES_tok_prep:  ['c', 'c', 'c', 'c', 'c', 'c', 's', 'c', 'c', 'c', 'c', 'c', 'c']\n"
          ]
        },
        {
          "name": "stderr",
          "output_type": "stream",
          "text": [
            "2024-06-12 18:16:14 | INFO | fairseq.tasks.sentence_prediction | [input] dictionary: 433 types\n",
            "2024-06-12 18:16:16 | INFO | fairseq.models.bart.model | Registering classification head: sentence_classification_head\n"
          ]
        },
        {
          "name": "stdout",
          "output_type": "stream",
          "text": [
            "13\n",
            "before normalisation:  [0.01846222 0.03847004 0.03993772 0.03986602 0.04589249 0.03350832\n",
            " 0.04742512 0.03087555 0.02533346 0.05050772 0.0346674  0.02755889\n",
            " 0.02632621]\n",
            "normalized means where all values fall between 0 and 1:  [0.         0.62435672 0.67015643 0.66791897 0.85597869 0.46952288\n",
            " 0.90380545 0.38736593 0.21442138 1.         0.50569279 0.28386745\n",
            " 0.24540073]\n",
            "Minimum and maximum attention values: 0.0, 1.0\n"
          ]
        },
        {
          "data": {
            "image/svg+xml": [
              "<svg xmlns=\"http://www.w3.org/2000/svg\" xmlns:rdkit=\"http://www.rdkit.org/xml\" xmlns:xlink=\"http://www.w3.org/1999/xlink\" version=\"1.1\" baseProfile=\"full\" xml:space=\"preserve\" width=\"400px\" height=\"400px\" viewBox=\"0 0 400 400\">\n",
              "<!-- END OF HEADER -->\n",
              "<rect style=\"opacity:1.0;fill:#FFFFFF;stroke:none\" width=\"400.0\" height=\"400.0\" x=\"0.0\" y=\"0.0\"> </rect>\n",
              "<ellipse cx=\"33.6\" cy=\"200.9\" rx=\"13.6\" ry=\"13.6\" class=\"atom-0\" style=\"fill:#440154;fill-rule:evenodd;stroke:#440154;stroke-width:1.0px;stroke-linecap:butt;stroke-linejoin:miter;stroke-opacity:1\"/>\n",
              "<ellipse cx=\"54.5\" cy=\"136.5\" rx=\"13.6\" ry=\"13.6\" class=\"atom-1\" style=\"fill:#27AD80;fill-rule:evenodd;stroke:#27AD80;stroke-width:1.0px;stroke-linecap:butt;stroke-linejoin:miter;stroke-opacity:1\"/>\n",
              "<ellipse cx=\"120.8\" cy=\"122.4\" rx=\"13.6\" ry=\"13.6\" class=\"atom-2\" style=\"fill:#36B877;fill-rule:evenodd;stroke:#36B877;stroke-width:1.0px;stroke-linecap:butt;stroke-linejoin:miter;stroke-opacity:1\"/>\n",
              "<ellipse cx=\"166.1\" cy=\"172.7\" rx=\"13.6\" ry=\"13.6\" class=\"atom-3\" style=\"fill:#35B778;fill-rule:evenodd;stroke:#35B778;stroke-width:1.0px;stroke-linecap:butt;stroke-linejoin:miter;stroke-opacity:1\"/>\n",
              "<ellipse cx=\"145.2\" cy=\"237.2\" rx=\"13.6\" ry=\"13.6\" class=\"atom-4\" style=\"fill:#9FD938;fill-rule:evenodd;stroke:#9FD938;stroke-width:1.0px;stroke-linecap:butt;stroke-linejoin:miter;stroke-opacity:1\"/>\n",
              "<ellipse cx=\"78.9\" cy=\"251.3\" rx=\"13.6\" ry=\"13.6\" class=\"atom-5\" style=\"fill:#23898D;fill-rule:evenodd;stroke:#23898D;stroke-width:1.0px;stroke-linecap:butt;stroke-linejoin:miter;stroke-opacity:1\"/>\n",
              "<ellipse cx=\"200.0\" cy=\"277.3\" rx=\"13.6\" ry=\"13.9\" class=\"atom-6\" style=\"fill:#BFDF24;fill-rule:evenodd;stroke:#BFDF24;stroke-width:1.0px;stroke-linecap:butt;stroke-linejoin:miter;stroke-opacity:1\"/>\n",
              "<ellipse cx=\"254.8\" cy=\"237.2\" rx=\"13.6\" ry=\"13.6\" class=\"atom-7\" style=\"fill:#2A758E;fill-rule:evenodd;stroke:#2A758E;stroke-width:1.0px;stroke-linecap:butt;stroke-linejoin:miter;stroke-opacity:1\"/>\n",
              "<ellipse cx=\"321.1\" cy=\"251.3\" rx=\"13.6\" ry=\"13.6\" class=\"atom-8\" style=\"fill:#3F4788;fill-rule:evenodd;stroke:#3F4788;stroke-width:1.0px;stroke-linecap:butt;stroke-linejoin:miter;stroke-opacity:1\"/>\n",
              "<ellipse cx=\"366.4\" cy=\"200.9\" rx=\"13.6\" ry=\"13.6\" class=\"atom-9\" style=\"fill:#FDE724;fill-rule:evenodd;stroke:#FDE724;stroke-width:1.0px;stroke-linecap:butt;stroke-linejoin:miter;stroke-opacity:1\"/>\n",
              "<ellipse cx=\"345.5\" cy=\"136.5\" rx=\"13.6\" ry=\"13.6\" class=\"atom-10\" style=\"fill:#20918C;fill-rule:evenodd;stroke:#20918C;stroke-width:1.0px;stroke-linecap:butt;stroke-linejoin:miter;stroke-opacity:1\"/>\n",
              "<ellipse cx=\"279.2\" cy=\"122.4\" rx=\"13.6\" ry=\"13.6\" class=\"atom-11\" style=\"fill:#365A8C;fill-rule:evenodd;stroke:#365A8C;stroke-width:1.0px;stroke-linecap:butt;stroke-linejoin:miter;stroke-opacity:1\"/>\n",
              "<ellipse cx=\"233.9\" cy=\"172.7\" rx=\"13.6\" ry=\"13.6\" class=\"atom-12\" style=\"fill:#3B508A;fill-rule:evenodd;stroke:#3B508A;stroke-width:1.0px;stroke-linecap:butt;stroke-linejoin:miter;stroke-opacity:1\"/>\n",
              "<path class=\"bond-0 atom-0 atom-1\" d=\"M 33.6,200.9 L 54.5,136.5\" style=\"fill:none;fill-rule:evenodd;stroke:#000000;stroke-width:2.0px;stroke-linecap:butt;stroke-linejoin:miter;stroke-opacity:1\"/>\n",
              "<path class=\"bond-0 atom-0 atom-1\" d=\"M 45.0,198.5 L 62.3,145.2\" style=\"fill:none;fill-rule:evenodd;stroke:#000000;stroke-width:2.0px;stroke-linecap:butt;stroke-linejoin:miter;stroke-opacity:1\"/>\n",
              "<path class=\"bond-1 atom-1 atom-2\" d=\"M 54.5,136.5 L 120.8,122.4\" style=\"fill:none;fill-rule:evenodd;stroke:#000000;stroke-width:2.0px;stroke-linecap:butt;stroke-linejoin:miter;stroke-opacity:1\"/>\n",
              "<path class=\"bond-2 atom-2 atom-3\" d=\"M 120.8,122.4 L 166.1,172.7\" style=\"fill:none;fill-rule:evenodd;stroke:#000000;stroke-width:2.0px;stroke-linecap:butt;stroke-linejoin:miter;stroke-opacity:1\"/>\n",
              "<path class=\"bond-2 atom-2 atom-3\" d=\"M 117.1,133.5 L 154.6,175.2\" style=\"fill:none;fill-rule:evenodd;stroke:#000000;stroke-width:2.0px;stroke-linecap:butt;stroke-linejoin:miter;stroke-opacity:1\"/>\n",
              "<path class=\"bond-3 atom-3 atom-4\" d=\"M 166.1,172.7 L 145.2,237.2\" style=\"fill:none;fill-rule:evenodd;stroke:#000000;stroke-width:2.0px;stroke-linecap:butt;stroke-linejoin:miter;stroke-opacity:1\"/>\n",
              "<path class=\"bond-4 atom-4 atom-5\" d=\"M 145.2,237.2 L 78.9,251.3\" style=\"fill:none;fill-rule:evenodd;stroke:#000000;stroke-width:2.0px;stroke-linecap:butt;stroke-linejoin:miter;stroke-opacity:1\"/>\n",
              "<path class=\"bond-4 atom-4 atom-5\" d=\"M 137.3,228.5 L 82.5,240.1\" style=\"fill:none;fill-rule:evenodd;stroke:#000000;stroke-width:2.0px;stroke-linecap:butt;stroke-linejoin:miter;stroke-opacity:1\"/>\n",
              "<path class=\"bond-5 atom-4 atom-6\" d=\"M 145.2,237.2 L 168.4,254.1\" style=\"fill:none;fill-rule:evenodd;stroke:#000000;stroke-width:2.0px;stroke-linecap:butt;stroke-linejoin:miter;stroke-opacity:1\"/>\n",
              "<path class=\"bond-5 atom-4 atom-6\" d=\"M 168.4,254.1 L 191.6,270.9\" style=\"fill:none;fill-rule:evenodd;stroke:#CCCC00;stroke-width:2.0px;stroke-linecap:butt;stroke-linejoin:miter;stroke-opacity:1\"/>\n",
              "<path class=\"bond-6 atom-6 atom-7\" d=\"M 208.4,270.9 L 231.6,254.1\" style=\"fill:none;fill-rule:evenodd;stroke:#CCCC00;stroke-width:2.0px;stroke-linecap:butt;stroke-linejoin:miter;stroke-opacity:1\"/>\n",
              "<path class=\"bond-6 atom-6 atom-7\" d=\"M 231.6,254.1 L 254.8,237.2\" style=\"fill:none;fill-rule:evenodd;stroke:#000000;stroke-width:2.0px;stroke-linecap:butt;stroke-linejoin:miter;stroke-opacity:1\"/>\n",
              "<path class=\"bond-7 atom-7 atom-8\" d=\"M 254.8,237.2 L 321.1,251.3\" style=\"fill:none;fill-rule:evenodd;stroke:#000000;stroke-width:2.0px;stroke-linecap:butt;stroke-linejoin:miter;stroke-opacity:1\"/>\n",
              "<path class=\"bond-7 atom-7 atom-8\" d=\"M 262.7,228.5 L 317.5,240.1\" style=\"fill:none;fill-rule:evenodd;stroke:#000000;stroke-width:2.0px;stroke-linecap:butt;stroke-linejoin:miter;stroke-opacity:1\"/>\n",
              "<path class=\"bond-8 atom-8 atom-9\" d=\"M 321.1,251.3 L 366.4,200.9\" style=\"fill:none;fill-rule:evenodd;stroke:#000000;stroke-width:2.0px;stroke-linecap:butt;stroke-linejoin:miter;stroke-opacity:1\"/>\n",
              "<path class=\"bond-9 atom-9 atom-10\" d=\"M 366.4,200.9 L 345.5,136.5\" style=\"fill:none;fill-rule:evenodd;stroke:#000000;stroke-width:2.0px;stroke-linecap:butt;stroke-linejoin:miter;stroke-opacity:1\"/>\n",
              "<path class=\"bond-9 atom-9 atom-10\" d=\"M 355.0,198.5 L 337.7,145.2\" style=\"fill:none;fill-rule:evenodd;stroke:#000000;stroke-width:2.0px;stroke-linecap:butt;stroke-linejoin:miter;stroke-opacity:1\"/>\n",
              "<path class=\"bond-10 atom-10 atom-11\" d=\"M 345.5,136.5 L 279.2,122.4\" style=\"fill:none;fill-rule:evenodd;stroke:#000000;stroke-width:2.0px;stroke-linecap:butt;stroke-linejoin:miter;stroke-opacity:1\"/>\n",
              "<path class=\"bond-11 atom-11 atom-12\" d=\"M 279.2,122.4 L 233.9,172.7\" style=\"fill:none;fill-rule:evenodd;stroke:#000000;stroke-width:2.0px;stroke-linecap:butt;stroke-linejoin:miter;stroke-opacity:1\"/>\n",
              "<path class=\"bond-11 atom-11 atom-12\" d=\"M 282.9,133.5 L 245.4,175.2\" style=\"fill:none;fill-rule:evenodd;stroke:#000000;stroke-width:2.0px;stroke-linecap:butt;stroke-linejoin:miter;stroke-opacity:1\"/>\n",
              "<path class=\"bond-12 atom-5 atom-0\" d=\"M 78.9,251.3 L 33.6,200.9\" style=\"fill:none;fill-rule:evenodd;stroke:#000000;stroke-width:2.0px;stroke-linecap:butt;stroke-linejoin:miter;stroke-opacity:1\"/>\n",
              "<path class=\"bond-13 atom-12 atom-7\" d=\"M 233.9,172.7 L 254.8,237.2\" style=\"fill:none;fill-rule:evenodd;stroke:#000000;stroke-width:2.0px;stroke-linecap:butt;stroke-linejoin:miter;stroke-opacity:1\"/>\n",
              "<path class=\"bond-14 atom-12 atom-3\" d=\"M 233.9,172.7 L 166.1,172.7\" style=\"fill:none;fill-rule:evenodd;stroke:#000000;stroke-width:2.0px;stroke-linecap:butt;stroke-linejoin:miter;stroke-opacity:1\"/>\n",
              "<path d=\"M 34.6,197.7 L 33.6,200.9 L 35.8,203.4\" style=\"fill:none;stroke:#000000;stroke-width:2.0px;stroke-linecap:butt;stroke-linejoin:miter;stroke-opacity:1;\"/>\n",
              "<path d=\"M 53.4,139.7 L 54.5,136.5 L 57.8,135.8\" style=\"fill:none;stroke:#000000;stroke-width:2.0px;stroke-linecap:butt;stroke-linejoin:miter;stroke-opacity:1;\"/>\n",
              "<path d=\"M 117.5,123.1 L 120.8,122.4 L 123.0,124.9\" style=\"fill:none;stroke:#000000;stroke-width:2.0px;stroke-linecap:butt;stroke-linejoin:miter;stroke-opacity:1;\"/>\n",
              "<path d=\"M 82.2,250.6 L 78.9,251.3 L 76.6,248.8\" style=\"fill:none;stroke:#000000;stroke-width:2.0px;stroke-linecap:butt;stroke-linejoin:miter;stroke-opacity:1;\"/>\n",
              "<path d=\"M 317.8,250.6 L 321.1,251.3 L 323.4,248.8\" style=\"fill:none;stroke:#000000;stroke-width:2.0px;stroke-linecap:butt;stroke-linejoin:miter;stroke-opacity:1;\"/>\n",
              "<path d=\"M 364.2,203.4 L 366.4,200.9 L 365.4,197.7\" style=\"fill:none;stroke:#000000;stroke-width:2.0px;stroke-linecap:butt;stroke-linejoin:miter;stroke-opacity:1;\"/>\n",
              "<path d=\"M 346.6,139.7 L 345.5,136.5 L 342.2,135.8\" style=\"fill:none;stroke:#000000;stroke-width:2.0px;stroke-linecap:butt;stroke-linejoin:miter;stroke-opacity:1;\"/>\n",
              "<path d=\"M 282.5,123.1 L 279.2,122.4 L 277.0,124.9\" style=\"fill:none;stroke:#000000;stroke-width:2.0px;stroke-linecap:butt;stroke-linejoin:miter;stroke-opacity:1;\"/>\n",
              "<path class=\"atom-6\" d=\"M 194.6 283.6 Q 194.8 283.7, 195.7 284.1 Q 196.6 284.4, 197.6 284.7 Q 198.6 284.9, 199.5 284.9 Q 201.4 284.9, 202.4 284.0 Q 203.5 283.1, 203.5 281.6 Q 203.5 280.5, 202.9 279.9 Q 202.4 279.2, 201.6 278.9 Q 200.8 278.5, 199.4 278.1 Q 197.7 277.6, 196.7 277.1 Q 195.7 276.6, 195.0 275.6 Q 194.3 274.6, 194.3 272.8 Q 194.3 270.4, 195.9 268.9 Q 197.5 267.4, 200.8 267.4 Q 203.0 267.4, 205.5 268.5 L 204.9 270.6 Q 202.6 269.6, 200.9 269.6 Q 199.0 269.6, 198.0 270.4 Q 196.9 271.2, 197.0 272.5 Q 197.0 273.5, 197.5 274.2 Q 198.0 274.8, 198.8 275.1 Q 199.6 275.5, 200.9 275.9 Q 202.6 276.4, 203.6 277.0 Q 204.7 277.5, 205.4 278.6 Q 206.2 279.7, 206.2 281.6 Q 206.2 284.3, 204.4 285.7 Q 202.6 287.1, 199.6 287.1 Q 197.9 287.1, 196.6 286.7 Q 195.4 286.4, 193.8 285.7 L 194.6 283.6 \" fill=\"#CCCC00\"/>\n",
              "</svg>"
            ],
            "text/plain": [
              "<IPython.core.display.SVG object>"
            ]
          },
          "metadata": {},
          "output_type": "display_data"
        },
        {
          "data": {
            "image/png": "[encoded data removed]",
            "text/plain": [
              "<Figure size 450x50 with 2 Axes>"
            ]
          },
          "metadata": {},
          "output_type": "display_data"
        }
      ],
      "source": [
        "#4. c1ccc2c(c1)sc1ccccc12\n",
        "smiles=\"c1ccc2c(c1)sc1ccccc12\"\n",
        "colorAtomsByAttention(smiles)"
      ]
    },
    {
      "cell_type": "markdown",
      "metadata": {},
      "source": [
        "## Looking into different attention in hydrophobicity"
      ]
    },
    {
      "cell_type": "code",
      "execution_count": 17,
      "metadata": {},
      "outputs": [
        {
          "name": "stderr",
          "output_type": "stream",
          "text": [
            "2024-06-12 18:16:19 | INFO | fairseq.file_utils | loading archive file /data/jgut/SMILES_or_SELFIES/prediction_models/smiles_atom_isomers_bart\n",
            "2024-06-12 18:16:19 | INFO | fairseq.file_utils | loading archive file /data/jgut/SMILES_or_SELFIES/task/bbbp/smiles_atom_isomers\n"
          ]
        },
        {
          "name": "stdout",
          "output_type": "stream",
          "text": [
            "SMILES_tok:  ['C', '1', '=', 'C', 'C', '=', 'C', 'C', '=', 'C', '1']\n",
            "posToKeep:  [0, 3, 4, 6, 7, 9]\n",
            "SMILES_tok_prep:  ['C', 'C', 'C', 'C', 'C', 'C']\n"
          ]
        },
        {
          "name": "stderr",
          "output_type": "stream",
          "text": [
            "2024-06-12 18:16:19 | INFO | fairseq.tasks.sentence_prediction | [input] dictionary: 433 types\n",
            "2024-06-12 18:16:20 | INFO | fairseq.models.bart.model | Registering classification head: sentence_classification_head\n"
          ]
        },
        {
          "name": "stdout",
          "output_type": "stream",
          "text": [
            "6\n",
            "before normalisation:  [0.04784407 0.10753348 0.10106575 0.19432621 0.12248549 0.06644734]\n",
            "normalized means where all values fall between 0 and 1:  [0.         0.40748591 0.36333225 1.         0.50955987 0.12700026]\n",
            "Minimum and maximum attention values: 0.0, 1.0\n"
          ]
        },
        {
          "data": {
            "image/svg+xml": [
              "<svg xmlns=\"http://www.w3.org/2000/svg\" xmlns:rdkit=\"http://www.rdkit.org/xml\" xmlns:xlink=\"http://www.w3.org/1999/xlink\" version=\"1.1\" baseProfile=\"full\" xml:space=\"preserve\" width=\"400px\" height=\"400px\" viewBox=\"0 0 400 400\">\n",
              "<!-- END OF HEADER -->\n",
              "<rect style=\"opacity:1.0;fill:#FFFFFF;stroke:none\" width=\"400.0\" height=\"400.0\" x=\"0.0\" y=\"0.0\"> </rect>\n",
              "<ellipse cx=\"350.0\" cy=\"200.0\" rx=\"30.0\" ry=\"30.0\" class=\"atom-0\" style=\"fill:#440154;fill-rule:evenodd;stroke:#440154;stroke-width:1.0px;stroke-linecap:butt;stroke-linejoin:miter;stroke-opacity:1\"/>\n",
              "<ellipse cx=\"275.0\" cy=\"329.9\" rx=\"30.0\" ry=\"30.0\" class=\"atom-1\" style=\"fill:#287A8E;fill-rule:evenodd;stroke:#287A8E;stroke-width:1.0px;stroke-linecap:butt;stroke-linejoin:miter;stroke-opacity:1\"/>\n",
              "<ellipse cx=\"125.0\" cy=\"329.9\" rx=\"30.0\" ry=\"30.0\" class=\"atom-2\" style=\"fill:#2D6F8E;fill-rule:evenodd;stroke:#2D6F8E;stroke-width:1.0px;stroke-linecap:butt;stroke-linejoin:miter;stroke-opacity:1\"/>\n",
              "<ellipse cx=\"50.0\" cy=\"200.0\" rx=\"30.0\" ry=\"30.0\" class=\"atom-3\" style=\"fill:#FDE724;fill-rule:evenodd;stroke:#FDE724;stroke-width:1.0px;stroke-linecap:butt;stroke-linejoin:miter;stroke-opacity:1\"/>\n",
              "<ellipse cx=\"125.0\" cy=\"70.1\" rx=\"30.0\" ry=\"30.0\" class=\"atom-4\" style=\"fill:#1F928C;fill-rule:evenodd;stroke:#1F928C;stroke-width:1.0px;stroke-linecap:butt;stroke-linejoin:miter;stroke-opacity:1\"/>\n",
              "<ellipse cx=\"275.0\" cy=\"70.1\" rx=\"30.0\" ry=\"30.0\" class=\"atom-5\" style=\"fill:#472C7B;fill-rule:evenodd;stroke:#472C7B;stroke-width:1.0px;stroke-linecap:butt;stroke-linejoin:miter;stroke-opacity:1\"/>\n",
              "<path class=\"bond-0 atom-0 atom-1\" d=\"M 350.0,200.0 L 275.0,329.9\" style=\"fill:none;fill-rule:evenodd;stroke:#000000;stroke-width:2.0px;stroke-linecap:butt;stroke-linejoin:miter;stroke-opacity:1\"/>\n",
              "<path class=\"bond-0 atom-0 atom-1\" d=\"M 324.0,200.0 L 262.0,307.4\" style=\"fill:none;fill-rule:evenodd;stroke:#000000;stroke-width:2.0px;stroke-linecap:butt;stroke-linejoin:miter;stroke-opacity:1\"/>\n",
              "<path class=\"bond-1 atom-1 atom-2\" d=\"M 275.0,329.9 L 125.0,329.9\" style=\"fill:none;fill-rule:evenodd;stroke:#000000;stroke-width:2.0px;stroke-linecap:butt;stroke-linejoin:miter;stroke-opacity:1\"/>\n",
              "<path class=\"bond-2 atom-2 atom-3\" d=\"M 125.0,329.9 L 50.0,200.0\" style=\"fill:none;fill-rule:evenodd;stroke:#000000;stroke-width:2.0px;stroke-linecap:butt;stroke-linejoin:miter;stroke-opacity:1\"/>\n",
              "<path class=\"bond-2 atom-2 atom-3\" d=\"M 138.0,307.4 L 76.0,200.0\" style=\"fill:none;fill-rule:evenodd;stroke:#000000;stroke-width:2.0px;stroke-linecap:butt;stroke-linejoin:miter;stroke-opacity:1\"/>\n",
              "<path class=\"bond-3 atom-3 atom-4\" d=\"M 50.0,200.0 L 125.0,70.1\" style=\"fill:none;fill-rule:evenodd;stroke:#000000;stroke-width:2.0px;stroke-linecap:butt;stroke-linejoin:miter;stroke-opacity:1\"/>\n",
              "<path class=\"bond-4 atom-4 atom-5\" d=\"M 125.0,70.1 L 275.0,70.1\" style=\"fill:none;fill-rule:evenodd;stroke:#000000;stroke-width:2.0px;stroke-linecap:butt;stroke-linejoin:miter;stroke-opacity:1\"/>\n",
              "<path class=\"bond-4 atom-4 atom-5\" d=\"M 138.0,92.6 L 262.0,92.6\" style=\"fill:none;fill-rule:evenodd;stroke:#000000;stroke-width:2.0px;stroke-linecap:butt;stroke-linejoin:miter;stroke-opacity:1\"/>\n",
              "<path class=\"bond-5 atom-5 atom-0\" d=\"M 275.0,70.1 L 350.0,200.0\" style=\"fill:none;fill-rule:evenodd;stroke:#000000;stroke-width:2.0px;stroke-linecap:butt;stroke-linejoin:miter;stroke-opacity:1\"/>\n",
              "<path d=\"M 346.2,206.5 L 350.0,200.0 L 346.2,193.5\" style=\"fill:none;stroke:#000000;stroke-width:2.0px;stroke-linecap:butt;stroke-linejoin:miter;stroke-opacity:1;\"/>\n",
              "<path d=\"M 278.7,323.4 L 275.0,329.9 L 267.5,329.9\" style=\"fill:none;stroke:#000000;stroke-width:2.0px;stroke-linecap:butt;stroke-linejoin:miter;stroke-opacity:1;\"/>\n",
              "<path d=\"M 132.5,329.9 L 125.0,329.9 L 121.2,323.4\" style=\"fill:none;stroke:#000000;stroke-width:2.0px;stroke-linecap:butt;stroke-linejoin:miter;stroke-opacity:1;\"/>\n",
              "<path d=\"M 53.7,206.5 L 50.0,200.0 L 53.8,193.5\" style=\"fill:none;stroke:#000000;stroke-width:2.0px;stroke-linecap:butt;stroke-linejoin:miter;stroke-opacity:1;\"/>\n",
              "<path d=\"M 121.3,76.6 L 125.0,70.1 L 132.5,70.1\" style=\"fill:none;stroke:#000000;stroke-width:2.0px;stroke-linecap:butt;stroke-linejoin:miter;stroke-opacity:1;\"/>\n",
              "<path d=\"M 267.5,70.1 L 275.0,70.1 L 278.8,76.6\" style=\"fill:none;stroke:#000000;stroke-width:2.0px;stroke-linecap:butt;stroke-linejoin:miter;stroke-opacity:1;\"/>\n",
              "</svg>"
            ],
            "text/plain": [
              "<IPython.core.display.SVG object>"
            ]
          },
          "metadata": {},
          "output_type": "display_data"
        },
        {
          "data": {
            "image/png": "[encoded data removed]",
            "text/plain": [
              "<Figure size 450x50 with 2 Axes>"
            ]
          },
          "metadata": {},
          "output_type": "display_data"
        }
      ],
      "source": [
        "#5. C1=CC=CC=C1\n",
        "smiles=\"C1=CC=CC=C1\"\n",
        "colorAtomsByAttention(smiles)"
      ]
    },
    {
      "cell_type": "code",
      "execution_count": 18,
      "metadata": {},
      "outputs": [
        {
          "name": "stderr",
          "output_type": "stream",
          "text": [
            "2024-06-12 18:16:23 | ERROR | root | failed to parse input\n",
            "\tSMILES: CC(OC1=C(C(=O)O)C=CC=C1)=O CC(=O)OC1C=CC=CC=1C(O)=O\n",
            "2024-06-12 18:16:23 | INFO | fairseq.file_utils | loading archive file /data/jgut/SMILES_or_SELFIES/prediction_models/smiles_atom_isomers_bart\n",
            "2024-06-12 18:16:23 | INFO | fairseq.file_utils | loading archive file /data/jgut/SMILES_or_SELFIES/task/bbbp/smiles_atom_isomers\n"
          ]
        },
        {
          "name": "stdout",
          "output_type": "stream",
          "text": [
            "SMILES_tok:  ['C', 'C', '(', 'O', 'C', '1', '=', 'C', '(', 'C', '(', '=', 'O', ')', 'O', ')', 'C', '=', 'C', 'C', '=', 'C', '1', ')', '=', 'O', ' ', 'C', 'C', '(', '=', 'O', ')', 'O', 'C', '1', 'C', '=', 'C', 'C', '=', 'C', 'C', '=', '1', 'C', '(', 'O', ')', '=', 'O']\n",
            "posToKeep:  [0, 1, 3, 4, 7, 9, 12, 14, 16, 18, 19, 21, 25, 27, 28, 31, 33, 34, 36, 38, 39, 41, 42, 45, 47, 50]\n",
            "SMILES_tok_prep:  ['C', 'C', 'O', 'C', 'C', 'C', 'O', 'O', 'C', 'C', 'C', 'C', 'O', 'C', 'C', 'O', 'O', 'C', 'C', 'C', 'C', 'C', 'C', 'C', 'O', 'O']\n"
          ]
        },
        {
          "name": "stderr",
          "output_type": "stream",
          "text": [
            "2024-06-12 18:16:23 | INFO | fairseq.tasks.sentence_prediction | [input] dictionary: 433 types\n",
            "2024-06-12 18:16:25 | INFO | fairseq.models.bart.model | Registering classification head: sentence_classification_head\n"
          ]
        },
        {
          "name": "stdout",
          "output_type": "stream",
          "text": [
            "26\n",
            "before normalisation:  [0.01028921 0.01944921 0.01433563 0.01545835 0.00943689 0.01189919\n",
            " 0.02670688 0.02783264 0.02156472 0.01743331 0.01227448 0.04016934\n",
            " 0.04941792 0.03227781 0.03348265 0.01824608 0.01571381 0.01874536\n",
            " 0.01562136 0.01472175 0.01496103 0.01355485 0.01391437 0.01423884\n",
            " 0.01952189 0.0145347 ]\n",
            "normalized means where all values fall between 0 and 1:  [0.02131819 0.25042671 0.12252646 0.15060779 0.         0.06158678\n",
            " 0.43195454 0.46011199 0.30333965 0.20000539 0.07097331 0.76867579\n",
            " 1.         0.57129389 0.60142921 0.22033407 0.15699748 0.23282223\n",
            " 0.15468514 0.1321842  0.13816908 0.1029978  0.11198995 0.12010574\n",
            " 0.25224449 0.1275056 ]\n",
            "Minimum and maximum attention values: 0.0, 1.0\n"
          ]
        },
        {
          "data": {
            "image/svg+xml": [
              "<svg xmlns=\"http://www.w3.org/2000/svg\" xmlns:rdkit=\"http://www.rdkit.org/xml\" xmlns:xlink=\"http://www.w3.org/1999/xlink\" version=\"1.1\" baseProfile=\"full\" xml:space=\"preserve\" width=\"400px\" height=\"400px\" viewBox=\"0 0 400 400\">\n",
              "<!-- END OF HEADER -->\n",
              "<rect style=\"opacity:1.0;fill:#FFFFFF;stroke:none\" width=\"400.0\" height=\"400.0\" x=\"0.0\" y=\"0.0\"> </rect>\n",
              "<ellipse cx=\"366.3\" cy=\"259.7\" rx=\"13.7\" ry=\"13.7\" class=\"atom-0\" style=\"fill:#45085B;fill-rule:evenodd;stroke:#45085B;stroke-width:1.0px;stroke-linecap:butt;stroke-linejoin:miter;stroke-opacity:1\"/>\n",
              "<ellipse cx=\"315.6\" cy=\"213.9\" rx=\"13.7\" ry=\"13.7\" class=\"atom-1\" style=\"fill:#3A528B;fill-rule:evenodd;stroke:#3A528B;stroke-width:1.0px;stroke-linecap:butt;stroke-linejoin:miter;stroke-opacity:1\"/>\n",
              "<ellipse cx=\"250.6\" cy=\"235.1\" rx=\"13.7\" ry=\"14.0\" class=\"atom-2\" style=\"fill:#472B7A;fill-rule:evenodd;stroke:#472B7A;stroke-width:1.0px;stroke-linecap:butt;stroke-linejoin:miter;stroke-opacity:1\"/>\n",
              "<ellipse cx=\"199.9\" cy=\"189.2\" rx=\"13.7\" ry=\"13.7\" class=\"atom-3\" style=\"fill:#45347F;fill-rule:evenodd;stroke:#45347F;stroke-width:1.0px;stroke-linecap:butt;stroke-linejoin:miter;stroke-opacity:1\"/>\n",
              "<ellipse cx=\"134.9\" cy=\"210.3\" rx=\"13.7\" ry=\"13.7\" class=\"atom-4\" style=\"fill:#440154;fill-rule:evenodd;stroke:#440154;stroke-width:1.0px;stroke-linecap:butt;stroke-linejoin:miter;stroke-opacity:1\"/>\n",
              "<ellipse cx=\"120.6\" cy=\"277.1\" rx=\"13.7\" ry=\"13.7\" class=\"atom-5\" style=\"fill:#471669;fill-rule:evenodd;stroke:#471669;stroke-width:1.0px;stroke-linecap:butt;stroke-linejoin:miter;stroke-opacity:1\"/>\n",
              "<ellipse cx=\"171.3\" cy=\"323.0\" rx=\"13.7\" ry=\"14.0\" class=\"atom-6\" style=\"fill:#267F8E;fill-rule:evenodd;stroke:#267F8E;stroke-width:1.0px;stroke-linecap:butt;stroke-linejoin:miter;stroke-opacity:1\"/>\n",
              "<ellipse cx=\"46.1\" cy=\"298.2\" rx=\"26.1\" ry=\"14.0\" class=\"atom-7\" style=\"fill:#24868D;fill-rule:evenodd;stroke:#24868D;stroke-width:1.0px;stroke-linecap:butt;stroke-linejoin:miter;stroke-opacity:1\"/>\n",
              "<ellipse cx=\"84.2\" cy=\"164.5\" rx=\"13.7\" ry=\"13.7\" class=\"atom-8\" style=\"fill:#345F8D;fill-rule:evenodd;stroke:#345F8D;stroke-width:1.0px;stroke-linecap:butt;stroke-linejoin:miter;stroke-opacity:1\"/>\n",
              "<ellipse cx=\"98.5\" cy=\"97.7\" rx=\"13.7\" ry=\"13.7\" class=\"atom-9\" style=\"fill:#404387;fill-rule:evenodd;stroke:#404387;stroke-width:1.0px;stroke-linecap:butt;stroke-linejoin:miter;stroke-opacity:1\"/>\n",
              "<ellipse cx=\"163.5\" cy=\"76.6\" rx=\"13.7\" ry=\"13.7\" class=\"atom-10\" style=\"fill:#481A6C;fill-rule:evenodd;stroke:#481A6C;stroke-width:1.0px;stroke-linecap:butt;stroke-linejoin:miter;stroke-opacity:1\"/>\n",
              "<ellipse cx=\"214.2\" cy=\"122.4\" rx=\"13.7\" ry=\"13.7\" class=\"atom-11\" style=\"fill:#67CC5C;fill-rule:evenodd;stroke:#67CC5C;stroke-width:1.0px;stroke-linecap:butt;stroke-linejoin:miter;stroke-opacity:1\"/>\n",
              "<ellipse cx=\"329.9\" cy=\"147.3\" rx=\"13.7\" ry=\"14.0\" class=\"atom-12\" style=\"fill:#FDE724;fill-rule:evenodd;stroke:#FDE724;stroke-width:1.0px;stroke-linecap:butt;stroke-linejoin:miter;stroke-opacity:1\"/>\n",
              "<path class=\"bond-0 atom-0 atom-1\" d=\"M 366.3,259.7 L 315.6,213.9\" style=\"fill:none;fill-rule:evenodd;stroke:#000000;stroke-width:2.0px;stroke-linecap:butt;stroke-linejoin:miter;stroke-opacity:1\"/>\n",
              "<path class=\"bond-1 atom-1 atom-2\" d=\"M 315.6,213.9 L 288.7,222.7\" style=\"fill:none;fill-rule:evenodd;stroke:#000000;stroke-width:2.0px;stroke-linecap:butt;stroke-linejoin:miter;stroke-opacity:1\"/>\n",
              "<path class=\"bond-1 atom-1 atom-2\" d=\"M 288.7,222.7 L 261.8,231.4\" style=\"fill:none;fill-rule:evenodd;stroke:#FF0000;stroke-width:2.0px;stroke-linecap:butt;stroke-linejoin:miter;stroke-opacity:1\"/>\n",
              "<path class=\"bond-2 atom-2 atom-3\" d=\"M 239.5,224.9 L 219.7,207.1\" style=\"fill:none;fill-rule:evenodd;stroke:#FF0000;stroke-width:2.0px;stroke-linecap:butt;stroke-linejoin:miter;stroke-opacity:1\"/>\n",
              "<path class=\"bond-2 atom-2 atom-3\" d=\"M 219.7,207.1 L 199.9,189.2\" style=\"fill:none;fill-rule:evenodd;stroke:#000000;stroke-width:2.0px;stroke-linecap:butt;stroke-linejoin:miter;stroke-opacity:1\"/>\n",
              "<path class=\"bond-3 atom-3 atom-4\" d=\"M 199.9,189.2 L 134.9,210.3\" style=\"fill:none;fill-rule:evenodd;stroke:#000000;stroke-width:2.0px;stroke-linecap:butt;stroke-linejoin:miter;stroke-opacity:1\"/>\n",
              "<path class=\"bond-3 atom-3 atom-4\" d=\"M 191.1,181.3 L 137.4,198.7\" style=\"fill:none;fill-rule:evenodd;stroke:#000000;stroke-width:2.0px;stroke-linecap:butt;stroke-linejoin:miter;stroke-opacity:1\"/>\n",
              "<path class=\"bond-4 atom-4 atom-5\" d=\"M 134.9,210.3 L 120.6,277.1\" style=\"fill:none;fill-rule:evenodd;stroke:#000000;stroke-width:2.0px;stroke-linecap:butt;stroke-linejoin:miter;stroke-opacity:1\"/>\n",
              "<path class=\"bond-5 atom-5 atom-6\" d=\"M 115.0,278.9 L 135.9,297.7\" style=\"fill:none;fill-rule:evenodd;stroke:#000000;stroke-width:2.0px;stroke-linecap:butt;stroke-linejoin:miter;stroke-opacity:1\"/>\n",
              "<path class=\"bond-5 atom-5 atom-6\" d=\"M 135.9,297.7 L 156.8,316.6\" style=\"fill:none;fill-rule:evenodd;stroke:#FF0000;stroke-width:2.0px;stroke-linecap:butt;stroke-linejoin:miter;stroke-opacity:1\"/>\n",
              "<path class=\"bond-5 atom-5 atom-6\" d=\"M 121.9,271.3 L 142.7,290.1\" style=\"fill:none;fill-rule:evenodd;stroke:#000000;stroke-width:2.0px;stroke-linecap:butt;stroke-linejoin:miter;stroke-opacity:1\"/>\n",
              "<path class=\"bond-5 atom-5 atom-6\" d=\"M 142.7,290.1 L 163.6,309.0\" style=\"fill:none;fill-rule:evenodd;stroke:#FF0000;stroke-width:2.0px;stroke-linecap:butt;stroke-linejoin:miter;stroke-opacity:1\"/>\n",
              "<path class=\"bond-6 atom-5 atom-7\" d=\"M 120.6,277.1 L 93.7,285.8\" style=\"fill:none;fill-rule:evenodd;stroke:#000000;stroke-width:2.0px;stroke-linecap:butt;stroke-linejoin:miter;stroke-opacity:1\"/>\n",
              "<path class=\"bond-6 atom-5 atom-7\" d=\"M 93.7,285.8 L 66.8,294.5\" style=\"fill:none;fill-rule:evenodd;stroke:#FF0000;stroke-width:2.0px;stroke-linecap:butt;stroke-linejoin:miter;stroke-opacity:1\"/>\n",
              "<path class=\"bond-7 atom-4 atom-8\" d=\"M 134.9,210.3 L 84.2,164.5\" style=\"fill:none;fill-rule:evenodd;stroke:#000000;stroke-width:2.0px;stroke-linecap:butt;stroke-linejoin:miter;stroke-opacity:1\"/>\n",
              "<path class=\"bond-8 atom-8 atom-9\" d=\"M 84.2,164.5 L 98.5,97.7\" style=\"fill:none;fill-rule:evenodd;stroke:#000000;stroke-width:2.0px;stroke-linecap:butt;stroke-linejoin:miter;stroke-opacity:1\"/>\n",
              "<path class=\"bond-8 atom-8 atom-9\" d=\"M 95.4,160.8 L 107.2,105.6\" style=\"fill:none;fill-rule:evenodd;stroke:#000000;stroke-width:2.0px;stroke-linecap:butt;stroke-linejoin:miter;stroke-opacity:1\"/>\n",
              "<path class=\"bond-9 atom-9 atom-10\" d=\"M 98.5,97.7 L 163.5,76.6\" style=\"fill:none;fill-rule:evenodd;stroke:#000000;stroke-width:2.0px;stroke-linecap:butt;stroke-linejoin:miter;stroke-opacity:1\"/>\n",
              "<path class=\"bond-10 atom-10 atom-11\" d=\"M 163.5,76.6 L 214.2,122.4\" style=\"fill:none;fill-rule:evenodd;stroke:#000000;stroke-width:2.0px;stroke-linecap:butt;stroke-linejoin:miter;stroke-opacity:1\"/>\n",
              "<path class=\"bond-10 atom-10 atom-11\" d=\"M 161.0,88.2 L 202.9,126.0\" style=\"fill:none;fill-rule:evenodd;stroke:#000000;stroke-width:2.0px;stroke-linecap:butt;stroke-linejoin:miter;stroke-opacity:1\"/>\n",
              "<path class=\"bond-11 atom-1 atom-12\" d=\"M 320.0,217.9 L 326.1,189.2\" style=\"fill:none;fill-rule:evenodd;stroke:#000000;stroke-width:2.0px;stroke-linecap:butt;stroke-linejoin:miter;stroke-opacity:1\"/>\n",
              "<path class=\"bond-11 atom-1 atom-12\" d=\"M 326.1,189.2 L 332.3,160.5\" style=\"fill:none;fill-rule:evenodd;stroke:#FF0000;stroke-width:2.0px;stroke-linecap:butt;stroke-linejoin:miter;stroke-opacity:1\"/>\n",
              "<path class=\"bond-11 atom-1 atom-12\" d=\"M 310.0,215.8 L 316.1,187.1\" style=\"fill:none;fill-rule:evenodd;stroke:#000000;stroke-width:2.0px;stroke-linecap:butt;stroke-linejoin:miter;stroke-opacity:1\"/>\n",
              "<path class=\"bond-11 atom-1 atom-12\" d=\"M 316.1,187.1 L 322.2,158.4\" style=\"fill:none;fill-rule:evenodd;stroke:#FF0000;stroke-width:2.0px;stroke-linecap:butt;stroke-linejoin:miter;stroke-opacity:1\"/>\n",
              "<path class=\"bond-12 atom-11 atom-3\" d=\"M 214.2,122.4 L 199.9,189.2\" style=\"fill:none;fill-rule:evenodd;stroke:#000000;stroke-width:2.0px;stroke-linecap:butt;stroke-linejoin:miter;stroke-opacity:1\"/>\n",
              "<path d=\"M 318.2,216.2 L 315.6,213.9 L 314.3,214.4\" style=\"fill:none;stroke:#000000;stroke-width:2.0px;stroke-linecap:butt;stroke-linejoin:miter;stroke-opacity:1;\"/>\n",
              "<path d=\"M 121.3,273.7 L 120.6,277.1 L 119.3,277.5\" style=\"fill:none;stroke:#000000;stroke-width:2.0px;stroke-linecap:butt;stroke-linejoin:miter;stroke-opacity:1;\"/>\n",
              "<path d=\"M 86.7,166.8 L 84.2,164.5 L 84.9,161.1\" style=\"fill:none;stroke:#000000;stroke-width:2.0px;stroke-linecap:butt;stroke-linejoin:miter;stroke-opacity:1;\"/>\n",
              "<path d=\"M 97.7,101.0 L 98.5,97.7 L 101.7,96.6\" style=\"fill:none;stroke:#000000;stroke-width:2.0px;stroke-linecap:butt;stroke-linejoin:miter;stroke-opacity:1;\"/>\n",
              "<path d=\"M 160.2,77.7 L 163.5,76.6 L 166.0,78.9\" style=\"fill:none;stroke:#000000;stroke-width:2.0px;stroke-linecap:butt;stroke-linejoin:miter;stroke-opacity:1;\"/>\n",
              "<path d=\"M 211.6,120.1 L 214.2,122.4 L 213.5,125.7\" style=\"fill:none;stroke:#000000;stroke-width:2.0px;stroke-linecap:butt;stroke-linejoin:miter;stroke-opacity:1;\"/>\n",
              "<path class=\"atom-2\" d=\"M 241.7 235.0 Q 241.7 230.4, 244.0 227.8 Q 246.3 225.2, 250.6 225.2 Q 254.9 225.2, 257.2 227.8 Q 259.5 230.4, 259.5 235.0 Q 259.5 239.7, 257.2 242.4 Q 254.9 245.1, 250.6 245.1 Q 246.4 245.1, 244.0 242.4 Q 241.7 239.8, 241.7 235.0 M 250.6 242.9 Q 253.6 242.9, 255.2 240.9 Q 256.8 238.9, 256.8 235.0 Q 256.8 231.2, 255.2 229.3 Q 253.6 227.4, 250.6 227.4 Q 247.7 227.4, 246.1 229.3 Q 244.5 231.2, 244.5 235.0 Q 244.5 238.9, 246.1 240.9 Q 247.7 242.9, 250.6 242.9 \" fill=\"#FF0000\"/>\n",
              "<path class=\"atom-6\" d=\"M 162.5 322.9 Q 162.5 318.2, 164.8 315.6 Q 167.1 313.0, 171.3 313.0 Q 175.6 313.0, 177.9 315.6 Q 180.2 318.2, 180.2 322.9 Q 180.2 327.6, 177.9 330.3 Q 175.6 332.9, 171.3 332.9 Q 167.1 332.9, 164.8 330.3 Q 162.5 327.6, 162.5 322.9 M 171.3 330.7 Q 174.3 330.7, 175.9 328.8 Q 177.5 326.8, 177.5 322.9 Q 177.5 319.1, 175.9 317.2 Q 174.3 315.2, 171.3 315.2 Q 168.4 315.2, 166.8 317.1 Q 165.2 319.1, 165.2 322.9 Q 165.2 326.8, 166.8 328.8 Q 168.4 330.7, 171.3 330.7 \" fill=\"#FF0000\"/>\n",
              "<path class=\"atom-7\" d=\"M 27.6 288.5 L 30.3 288.5 L 30.3 296.8 L 40.2 296.8 L 40.2 288.5 L 42.8 288.5 L 42.8 307.9 L 40.2 307.9 L 40.2 298.9 L 30.3 298.9 L 30.3 307.9 L 27.6 307.9 L 27.6 288.5 \" fill=\"#FF0000\"/>\n",
              "<path class=\"atom-7\" d=\"M 46.7 298.2 Q 46.7 293.5, 49.0 290.9 Q 51.3 288.3, 55.6 288.3 Q 59.9 288.3, 62.2 290.9 Q 64.5 293.5, 64.5 298.2 Q 64.5 302.9, 62.2 305.5 Q 59.9 308.2, 55.6 308.2 Q 51.4 308.2, 49.0 305.5 Q 46.7 302.9, 46.7 298.2 M 55.6 306.0 Q 58.6 306.0, 60.2 304.0 Q 61.8 302.0, 61.8 298.2 Q 61.8 294.4, 60.2 292.4 Q 58.6 290.5, 55.6 290.5 Q 52.7 290.5, 51.1 292.4 Q 49.5 294.3, 49.5 298.2 Q 49.5 302.1, 51.1 304.0 Q 52.7 306.0, 55.6 306.0 \" fill=\"#FF0000\"/>\n",
              "<path class=\"atom-12\" d=\"M 321.0 147.2 Q 321.0 142.5, 323.3 140.0 Q 325.6 137.4, 329.9 137.4 Q 334.2 137.4, 336.5 140.0 Q 338.8 142.5, 338.8 147.2 Q 338.8 151.9, 336.5 154.6 Q 334.1 157.2, 329.9 157.2 Q 325.6 157.2, 323.3 154.6 Q 321.0 151.9, 321.0 147.2 M 329.9 155.0 Q 332.8 155.0, 334.4 153.1 Q 336.0 151.1, 336.0 147.2 Q 336.0 143.4, 334.4 141.5 Q 332.8 139.5, 329.9 139.5 Q 326.9 139.5, 325.3 141.5 Q 323.7 143.4, 323.7 147.2 Q 323.7 151.1, 325.3 153.1 Q 326.9 155.0, 329.9 155.0 \" fill=\"#FF0000\"/>\n",
              "</svg>"
            ],
            "text/plain": [
              "<IPython.core.display.SVG object>"
            ]
          },
          "metadata": {},
          "output_type": "display_data"
        },
        {
          "data": {
            "image/png": "[encoded data removed]",
            "text/plain": [
              "<Figure size 450x50 with 2 Axes>"
            ]
          },
          "metadata": {},
          "output_type": "display_data"
        }
      ],
      "source": [
        "#6. CC(OC1=C(C(=O)O)C=CC=C1)=O CC(=O)OC1C=CC=CC=1C(O)=O\n",
        "smiles=\"CC(OC1=C(C(=O)O)C=CC=C1)=O CC(=O)OC1C=CC=CC=1C(O)=O\"\n",
        "colorAtomsByAttention(smiles)"
      ]
    },
    {
      "cell_type": "code",
      "execution_count": 19,
      "metadata": {},
      "outputs": [
        {
          "name": "stderr",
          "output_type": "stream",
          "text": [
            "2024-06-12 18:16:29 | INFO | fairseq.file_utils | loading archive file /data/jgut/SMILES_or_SELFIES/prediction_models/smiles_atom_isomers_bart\n",
            "2024-06-12 18:16:29 | INFO | fairseq.file_utils | loading archive file /data/jgut/SMILES_or_SELFIES/task/bbbp/smiles_atom_isomers\n"
          ]
        },
        {
          "name": "stdout",
          "output_type": "stream",
          "text": [
            "SMILES_tok:  ['C', '1', '=', 'C', 'C', '(', '=', 'C', 'C', '=', 'C', '1', 'C', '(', '=', 'O', ')', 'O', ')', 'O']\n",
            "posToKeep:  [0, 3, 4, 7, 8, 10, 12, 15, 17, 19]\n",
            "SMILES_tok_prep:  ['C', 'C', 'C', 'C', 'C', 'C', 'C', 'O', 'O', 'O']\n"
          ]
        },
        {
          "name": "stderr",
          "output_type": "stream",
          "text": [
            "2024-06-12 18:16:29 | INFO | fairseq.tasks.sentence_prediction | [input] dictionary: 433 types\n",
            "2024-06-12 18:16:31 | INFO | fairseq.models.bart.model | Registering classification head: sentence_classification_head\n"
          ]
        },
        {
          "name": "stdout",
          "output_type": "stream",
          "text": [
            "10\n",
            "before normalisation:  [0.01973738 0.0321122  0.04703133 0.10620853 0.06679316 0.0284362\n",
            " 0.0369487  0.04438213 0.08234593 0.04063097]\n",
            "normalized means where all values fall between 0 and 1:  [0.         0.14310926 0.31564228 1.         0.54417898 0.10059794\n",
            " 0.19904117 0.28500544 0.72403974 0.24162497]\n",
            "Minimum and maximum attention values: 0.0, 1.0\n"
          ]
        },
        {
          "data": {
            "image/svg+xml": [
              "<svg xmlns=\"http://www.w3.org/2000/svg\" xmlns:rdkit=\"http://www.rdkit.org/xml\" xmlns:xlink=\"http://www.w3.org/1999/xlink\" version=\"1.1\" baseProfile=\"full\" xml:space=\"preserve\" width=\"400px\" height=\"400px\" viewBox=\"0 0 400 400\">\n",
              "<!-- END OF HEADER -->\n",
              "<rect style=\"opacity:1.0;fill:#FFFFFF;stroke:none\" width=\"400.0\" height=\"400.0\" x=\"0.0\" y=\"0.0\"> </rect>\n",
              "<ellipse cx=\"216.8\" cy=\"256.3\" rx=\"13.0\" ry=\"13.0\" class=\"atom-0\" style=\"fill:#440154;fill-rule:evenodd;stroke:#440154;stroke-width:1.0px;stroke-linecap:butt;stroke-linejoin:miter;stroke-opacity:1\"/>\n",
              "<ellipse cx=\"151.7\" cy=\"256.3\" rx=\"13.0\" ry=\"13.0\" class=\"atom-1\" style=\"fill:#46317E;fill-rule:evenodd;stroke:#46317E;stroke-width:1.0px;stroke-linecap:butt;stroke-linejoin:miter;stroke-opacity:1\"/>\n",
              "<ellipse cx=\"119.1\" cy=\"199.9\" rx=\"13.0\" ry=\"13.0\" class=\"atom-2\" style=\"fill:#32628D;fill-rule:evenodd;stroke:#32628D;stroke-width:1.0px;stroke-linecap:butt;stroke-linejoin:miter;stroke-opacity:1\"/>\n",
              "<ellipse cx=\"151.7\" cy=\"143.4\" rx=\"13.0\" ry=\"13.0\" class=\"atom-3\" style=\"fill:#FDE724;fill-rule:evenodd;stroke:#FDE724;stroke-width:1.0px;stroke-linecap:butt;stroke-linejoin:miter;stroke-opacity:1\"/>\n",
              "<ellipse cx=\"216.8\" cy=\"143.4\" rx=\"13.0\" ry=\"13.0\" class=\"atom-4\" style=\"fill:#1E9A89;fill-rule:evenodd;stroke:#1E9A89;stroke-width:1.0px;stroke-linecap:butt;stroke-linejoin:miter;stroke-opacity:1\"/>\n",
              "<ellipse cx=\"249.4\" cy=\"199.9\" rx=\"13.0\" ry=\"13.0\" class=\"atom-5\" style=\"fill:#482374;fill-rule:evenodd;stroke:#482374;stroke-width:1.0px;stroke-linecap:butt;stroke-linejoin:miter;stroke-opacity:1\"/>\n",
              "<ellipse cx=\"314.6\" cy=\"199.9\" rx=\"13.0\" ry=\"13.0\" class=\"atom-6\" style=\"fill:#414286;fill-rule:evenodd;stroke:#414286;stroke-width:1.0px;stroke-linecap:butt;stroke-linejoin:miter;stroke-opacity:1\"/>\n",
              "<ellipse cx=\"347.1\" cy=\"143.6\" rx=\"13.0\" ry=\"13.4\" class=\"atom-7\" style=\"fill:#365A8C;fill-rule:evenodd;stroke:#365A8C;stroke-width:1.0px;stroke-linecap:butt;stroke-linejoin:miter;stroke-opacity:1\"/>\n",
              "<ellipse cx=\"355.8\" cy=\"256.4\" rx=\"24.2\" ry=\"13.4\" class=\"atom-8\" style=\"fill:#4FC369;fill-rule:evenodd;stroke:#4FC369;stroke-width:1.0px;stroke-linecap:butt;stroke-linejoin:miter;stroke-opacity:1\"/>\n",
              "<ellipse cx=\"44.9\" cy=\"200.0\" rx=\"24.9\" ry=\"13.4\" class=\"atom-9\" style=\"fill:#3C4E8A;fill-rule:evenodd;stroke:#3C4E8A;stroke-width:1.0px;stroke-linecap:butt;stroke-linejoin:miter;stroke-opacity:1\"/>\n",
              "<path class=\"bond-0 atom-0 atom-1\" d=\"M 216.8,256.3 L 151.7,256.3\" style=\"fill:none;fill-rule:evenodd;stroke:#000000;stroke-width:2.0px;stroke-linecap:butt;stroke-linejoin:miter;stroke-opacity:1\"/>\n",
              "<path class=\"bond-0 atom-0 atom-1\" d=\"M 211.2,246.5 L 157.3,246.5\" style=\"fill:none;fill-rule:evenodd;stroke:#000000;stroke-width:2.0px;stroke-linecap:butt;stroke-linejoin:miter;stroke-opacity:1\"/>\n",
              "<path class=\"bond-1 atom-1 atom-2\" d=\"M 151.7,256.3 L 119.1,199.9\" style=\"fill:none;fill-rule:evenodd;stroke:#000000;stroke-width:2.0px;stroke-linecap:butt;stroke-linejoin:miter;stroke-opacity:1\"/>\n",
              "<path class=\"bond-2 atom-2 atom-3\" d=\"M 119.1,199.9 L 151.7,143.4\" style=\"fill:none;fill-rule:evenodd;stroke:#000000;stroke-width:2.0px;stroke-linecap:butt;stroke-linejoin:miter;stroke-opacity:1\"/>\n",
              "<path class=\"bond-2 atom-2 atom-3\" d=\"M 130.4,199.9 L 157.3,153.2\" style=\"fill:none;fill-rule:evenodd;stroke:#000000;stroke-width:2.0px;stroke-linecap:butt;stroke-linejoin:miter;stroke-opacity:1\"/>\n",
              "<path class=\"bond-3 atom-3 atom-4\" d=\"M 151.7,143.4 L 216.8,143.4\" style=\"fill:none;fill-rule:evenodd;stroke:#000000;stroke-width:2.0px;stroke-linecap:butt;stroke-linejoin:miter;stroke-opacity:1\"/>\n",
              "<path class=\"bond-4 atom-4 atom-5\" d=\"M 216.8,143.4 L 249.4,199.9\" style=\"fill:none;fill-rule:evenodd;stroke:#000000;stroke-width:2.0px;stroke-linecap:butt;stroke-linejoin:miter;stroke-opacity:1\"/>\n",
              "<path class=\"bond-4 atom-4 atom-5\" d=\"M 211.2,153.2 L 238.1,199.9\" style=\"fill:none;fill-rule:evenodd;stroke:#000000;stroke-width:2.0px;stroke-linecap:butt;stroke-linejoin:miter;stroke-opacity:1\"/>\n",
              "<path class=\"bond-5 atom-5 atom-6\" d=\"M 249.4,199.9 L 314.6,199.9\" style=\"fill:none;fill-rule:evenodd;stroke:#000000;stroke-width:2.0px;stroke-linecap:butt;stroke-linejoin:miter;stroke-opacity:1\"/>\n",
              "<path class=\"bond-6 atom-6 atom-7\" d=\"M 317.4,204.7 L 331.0,181.2\" style=\"fill:none;fill-rule:evenodd;stroke:#000000;stroke-width:2.0px;stroke-linecap:butt;stroke-linejoin:miter;stroke-opacity:1\"/>\n",
              "<path class=\"bond-6 atom-6 atom-7\" d=\"M 331.0,181.2 L 344.6,157.6\" style=\"fill:none;fill-rule:evenodd;stroke:#FF0000;stroke-width:2.0px;stroke-linecap:butt;stroke-linejoin:miter;stroke-opacity:1\"/>\n",
              "<path class=\"bond-6 atom-6 atom-7\" d=\"M 308.9,199.9 L 322.5,176.3\" style=\"fill:none;fill-rule:evenodd;stroke:#000000;stroke-width:2.0px;stroke-linecap:butt;stroke-linejoin:miter;stroke-opacity:1\"/>\n",
              "<path class=\"bond-6 atom-6 atom-7\" d=\"M 322.5,176.3 L 336.1,152.8\" style=\"fill:none;fill-rule:evenodd;stroke:#FF0000;stroke-width:2.0px;stroke-linecap:butt;stroke-linejoin:miter;stroke-opacity:1\"/>\n",
              "<path class=\"bond-7 atom-6 atom-8\" d=\"M 314.6,199.9 L 327.5,222.3\" style=\"fill:none;fill-rule:evenodd;stroke:#000000;stroke-width:2.0px;stroke-linecap:butt;stroke-linejoin:miter;stroke-opacity:1\"/>\n",
              "<path class=\"bond-7 atom-6 atom-8\" d=\"M 327.5,222.3 L 340.5,244.8\" style=\"fill:none;fill-rule:evenodd;stroke:#FF0000;stroke-width:2.0px;stroke-linecap:butt;stroke-linejoin:miter;stroke-opacity:1\"/>\n",
              "<path class=\"bond-8 atom-2 atom-9\" d=\"M 119.1,199.9 L 91.9,199.9\" style=\"fill:none;fill-rule:evenodd;stroke:#000000;stroke-width:2.0px;stroke-linecap:butt;stroke-linejoin:miter;stroke-opacity:1\"/>\n",
              "<path class=\"bond-8 atom-2 atom-9\" d=\"M 91.9,199.9 L 64.6,199.9\" style=\"fill:none;fill-rule:evenodd;stroke:#FF0000;stroke-width:2.0px;stroke-linecap:butt;stroke-linejoin:miter;stroke-opacity:1\"/>\n",
              "<path class=\"bond-9 atom-5 atom-0\" d=\"M 249.4,199.9 L 216.8,256.3\" style=\"fill:none;fill-rule:evenodd;stroke:#000000;stroke-width:2.0px;stroke-linecap:butt;stroke-linejoin:miter;stroke-opacity:1\"/>\n",
              "<path d=\"M 213.6,256.3 L 216.8,256.3 L 218.5,253.5\" style=\"fill:none;stroke:#000000;stroke-width:2.0px;stroke-linecap:butt;stroke-linejoin:miter;stroke-opacity:1;\"/>\n",
              "<path d=\"M 154.9,256.3 L 151.7,256.3 L 150.1,253.5\" style=\"fill:none;stroke:#000000;stroke-width:2.0px;stroke-linecap:butt;stroke-linejoin:miter;stroke-opacity:1;\"/>\n",
              "<path d=\"M 150.1,146.3 L 151.7,143.4 L 154.9,143.4\" style=\"fill:none;stroke:#000000;stroke-width:2.0px;stroke-linecap:butt;stroke-linejoin:miter;stroke-opacity:1;\"/>\n",
              "<path d=\"M 213.6,143.4 L 216.8,143.4 L 218.5,146.3\" style=\"fill:none;stroke:#000000;stroke-width:2.0px;stroke-linecap:butt;stroke-linejoin:miter;stroke-opacity:1;\"/>\n",
              "<path d=\"M 311.3,199.9 L 314.6,199.9 L 315.2,201.0\" style=\"fill:none;stroke:#000000;stroke-width:2.0px;stroke-linecap:butt;stroke-linejoin:miter;stroke-opacity:1;\"/>\n",
              "<path class=\"atom-7\" d=\"M 338.7 143.5 Q 338.7 139.1, 340.9 136.6 Q 343.0 134.1, 347.1 134.1 Q 351.2 134.1, 353.4 136.6 Q 355.6 139.1, 355.6 143.5 Q 355.6 148.0, 353.4 150.5 Q 351.2 153.1, 347.1 153.1 Q 343.1 153.1, 340.9 150.5 Q 338.7 148.0, 338.7 143.5 M 347.1 151.0 Q 349.9 151.0, 351.5 149.1 Q 353.0 147.2, 353.0 143.5 Q 353.0 139.9, 351.5 138.0 Q 349.9 136.2, 347.1 136.2 Q 344.3 136.2, 342.8 138.0 Q 341.3 139.8, 341.3 143.5 Q 341.3 147.2, 342.8 149.1 Q 344.3 151.0, 347.1 151.0 \" fill=\"#FF0000\"/>\n",
              "<path class=\"atom-8\" d=\"M 338.7 256.3 Q 338.7 251.9, 340.9 249.4 Q 343.0 246.9, 347.1 246.9 Q 351.2 246.9, 353.4 249.4 Q 355.6 251.9, 355.6 256.3 Q 355.6 260.8, 353.4 263.4 Q 351.2 265.9, 347.1 265.9 Q 343.1 265.9, 340.9 263.4 Q 338.7 260.8, 338.7 256.3 M 347.1 263.8 Q 349.9 263.8, 351.5 261.9 Q 353.0 260.0, 353.0 256.3 Q 353.0 252.7, 351.5 250.9 Q 349.9 249.0, 347.1 249.0 Q 344.3 249.0, 342.8 250.9 Q 341.3 252.7, 341.3 256.3 Q 341.3 260.1, 342.8 261.9 Q 344.3 263.8, 347.1 263.8 \" fill=\"#FF0000\"/>\n",
              "<path class=\"atom-8\" d=\"M 358.5 247.2 L 361.0 247.2 L 361.0 255.0 L 370.4 255.0 L 370.4 247.2 L 372.9 247.2 L 372.9 265.6 L 370.4 265.6 L 370.4 257.1 L 361.0 257.1 L 361.0 265.6 L 358.5 265.6 L 358.5 247.2 \" fill=\"#FF0000\"/>\n",
              "<path class=\"atom-9\" d=\"M 27.3 190.7 L 29.8 190.7 L 29.8 198.6 L 39.2 198.6 L 39.2 190.7 L 41.7 190.7 L 41.7 209.2 L 39.2 209.2 L 39.2 200.7 L 29.8 200.7 L 29.8 209.2 L 27.3 209.2 L 27.3 190.7 \" fill=\"#FF0000\"/>\n",
              "<path class=\"atom-9\" d=\"M 45.5 199.9 Q 45.5 195.5, 47.7 193.0 Q 49.9 190.5, 54.0 190.5 Q 58.1 190.5, 60.3 193.0 Q 62.4 195.5, 62.4 199.9 Q 62.4 204.4, 60.2 206.9 Q 58.0 209.5, 54.0 209.5 Q 49.9 209.5, 47.7 206.9 Q 45.5 204.4, 45.5 199.9 M 54.0 207.4 Q 56.8 207.4, 58.3 205.5 Q 59.8 203.6, 59.8 199.9 Q 59.8 196.3, 58.3 194.5 Q 56.8 192.6, 54.0 192.6 Q 51.2 192.6, 49.6 194.4 Q 48.1 196.3, 48.1 199.9 Q 48.1 203.6, 49.6 205.5 Q 51.2 207.4, 54.0 207.4 \" fill=\"#FF0000\"/>\n",
              "</svg>"
            ],
            "text/plain": [
              "<IPython.core.display.SVG object>"
            ]
          },
          "metadata": {},
          "output_type": "display_data"
        },
        {
          "data": {
            "image/png": "[encoded data removed]",
            "text/plain": [
              "<Figure size 450x50 with 2 Axes>"
            ]
          },
          "metadata": {},
          "output_type": "display_data"
        }
      ],
      "source": [
        "#7. C1=CC(=CC=C1C(=O)O)O\n",
        "smiles=\"C1=CC(=CC=C1C(=O)O)O\"\n",
        "colorAtomsByAttention(smiles)"
      ]
    },
    {
      "cell_type": "code",
      "execution_count": 20,
      "metadata": {},
      "outputs": [
        {
          "name": "stderr",
          "output_type": "stream",
          "text": [
            "2024-06-12 18:16:33 | INFO | fairseq.file_utils | loading archive file /data/jgut/SMILES_or_SELFIES/prediction_models/smiles_atom_isomers_bart\n",
            "2024-06-12 18:16:33 | INFO | fairseq.file_utils | loading archive file /data/jgut/SMILES_or_SELFIES/task/bbbp/smiles_atom_isomers\n"
          ]
        },
        {
          "name": "stdout",
          "output_type": "stream",
          "text": [
            "SMILES_tok:  ['C', 'C', 'C', 'C', 'O', 'C', '(', '=', 'O', ')', 'C', '1', '=', 'C', 'C', '=', 'C', '(', 'C', '=', 'C', '1', ')', 'N']\n",
            "posToKeep:  [0, 1, 2, 3, 4, 5, 8, 10, 13, 14, 16, 18, 20, 23]\n",
            "SMILES_tok_prep:  ['C', 'C', 'C', 'C', 'O', 'C', 'O', 'C', 'C', 'C', 'C', 'C', 'C', 'N']\n"
          ]
        },
        {
          "name": "stderr",
          "output_type": "stream",
          "text": [
            "2024-06-12 18:16:34 | INFO | fairseq.tasks.sentence_prediction | [input] dictionary: 433 types\n",
            "2024-06-12 18:16:35 | INFO | fairseq.models.bart.model | Registering classification head: sentence_classification_head\n"
          ]
        },
        {
          "name": "stdout",
          "output_type": "stream",
          "text": [
            "14\n",
            "before normalisation:  [0.01743455 0.04222485 0.04936155 0.08491496 0.03505463 0.11920572\n",
            " 0.03120195 0.03007838 0.02873138 0.02946542 0.0221295  0.02902189\n",
            " 0.02806564 0.03785704]\n",
            "normalized means where all values fall between 0 and 1:  [0.         0.24358864 0.3137136  0.66306016 0.17313428 1.\n",
            " 0.13527792 0.12423783 0.11100226 0.11821484 0.04613236 0.11385681\n",
            " 0.10446067 0.20067062]\n",
            "Minimum and maximum attention values: 0.0, 1.0\n"
          ]
        },
        {
          "data": {
            "image/svg+xml": [
              "<svg xmlns=\"http://www.w3.org/2000/svg\" xmlns:rdkit=\"http://www.rdkit.org/xml\" xmlns:xlink=\"http://www.w3.org/1999/xlink\" version=\"1.1\" baseProfile=\"full\" xml:space=\"preserve\" width=\"400px\" height=\"400px\" viewBox=\"0 0 400 400\">\n",
              "<!-- END OF HEADER -->\n",
              "<rect style=\"opacity:1.0;fill:#FFFFFF;stroke:none\" width=\"400.0\" height=\"400.0\" x=\"0.0\" y=\"0.0\"> </rect>\n",
              "<ellipse cx=\"28.1\" cy=\"159.9\" rx=\"8.1\" ry=\"8.1\" class=\"atom-0\" style=\"fill:#440154;fill-rule:evenodd;stroke:#440154;stroke-width:1.0px;stroke-linecap:butt;stroke-linejoin:miter;stroke-opacity:1\"/>\n",
              "<ellipse cx=\"58.9\" cy=\"186.5\" rx=\"8.1\" ry=\"8.1\" class=\"atom-1\" style=\"fill:#3B508A;fill-rule:evenodd;stroke:#3B508A;stroke-width:1.0px;stroke-linecap:butt;stroke-linejoin:miter;stroke-opacity:1\"/>\n",
              "<ellipse cx=\"97.4\" cy=\"173.2\" rx=\"8.1\" ry=\"8.1\" class=\"atom-2\" style=\"fill:#32628D;fill-rule:evenodd;stroke:#32628D;stroke-width:1.0px;stroke-linecap:butt;stroke-linejoin:miter;stroke-opacity:1\"/>\n",
              "<ellipse cx=\"128.2\" cy=\"199.9\" rx=\"8.1\" ry=\"8.1\" class=\"atom-3\" style=\"fill:#33B679;fill-rule:evenodd;stroke:#33B679;stroke-width:1.0px;stroke-linecap:butt;stroke-linejoin:miter;stroke-opacity:1\"/>\n",
              "<ellipse cx=\"166.7\" cy=\"186.6\" rx=\"8.1\" ry=\"8.4\" class=\"atom-4\" style=\"fill:#433B83;fill-rule:evenodd;stroke:#433B83;stroke-width:1.0px;stroke-linecap:butt;stroke-linejoin:miter;stroke-opacity:1\"/>\n",
              "<ellipse cx=\"197.5\" cy=\"213.2\" rx=\"8.1\" ry=\"8.1\" class=\"atom-5\" style=\"fill:#FDE724;fill-rule:evenodd;stroke:#FDE724;stroke-width:1.0px;stroke-linecap:butt;stroke-linejoin:miter;stroke-opacity:1\"/>\n",
              "<ellipse cx=\"189.8\" cy=\"253.3\" rx=\"8.1\" ry=\"8.4\" class=\"atom-6\" style=\"fill:#462F7C;fill-rule:evenodd;stroke:#462F7C;stroke-width:1.0px;stroke-linecap:butt;stroke-linejoin:miter;stroke-opacity:1\"/>\n",
              "<ellipse cx=\"235.9\" cy=\"199.8\" rx=\"8.1\" ry=\"8.1\" class=\"atom-7\" style=\"fill:#472B7A;fill-rule:evenodd;stroke:#472B7A;stroke-width:1.0px;stroke-linecap:butt;stroke-linejoin:miter;stroke-opacity:1\"/>\n",
              "<ellipse cx=\"243.6\" cy=\"159.9\" rx=\"8.1\" ry=\"8.1\" class=\"atom-8\" style=\"fill:#472777;fill-rule:evenodd;stroke:#472777;stroke-width:1.0px;stroke-linecap:butt;stroke-linejoin:miter;stroke-opacity:1\"/>\n",
              "<ellipse cx=\"282.1\" cy=\"146.5\" rx=\"8.1\" ry=\"8.1\" class=\"atom-9\" style=\"fill:#472A79;fill-rule:evenodd;stroke:#472A79;stroke-width:1.0px;stroke-linecap:butt;stroke-linejoin:miter;stroke-opacity:1\"/>\n",
              "<ellipse cx=\"312.9\" cy=\"173.2\" rx=\"8.1\" ry=\"8.1\" class=\"atom-10\" style=\"fill:#471163;fill-rule:evenodd;stroke:#471163;stroke-width:1.0px;stroke-linecap:butt;stroke-linejoin:miter;stroke-opacity:1\"/>\n",
              "<ellipse cx=\"305.2\" cy=\"213.2\" rx=\"8.1\" ry=\"8.1\" class=\"atom-11\" style=\"fill:#472878;fill-rule:evenodd;stroke:#472878;stroke-width:1.0px;stroke-linecap:butt;stroke-linejoin:miter;stroke-opacity:1\"/>\n",
              "<ellipse cx=\"266.7\" cy=\"226.5\" rx=\"8.1\" ry=\"8.1\" class=\"atom-12\" style=\"fill:#472575;fill-rule:evenodd;stroke:#472575;stroke-width:1.0px;stroke-linecap:butt;stroke-linejoin:miter;stroke-opacity:1\"/>\n",
              "<ellipse cx=\"360.7\" cy=\"162.7\" rx=\"19.3\" ry=\"12.2\" class=\"atom-13\" style=\"fill:#404387;fill-rule:evenodd;stroke:#404387;stroke-width:1.0px;stroke-linecap:butt;stroke-linejoin:miter;stroke-opacity:1\"/>\n",
              "<path class=\"bond-0 atom-0 atom-1\" d=\"M 28.1,159.9 L 58.9,186.5\" style=\"fill:none;fill-rule:evenodd;stroke:#000000;stroke-width:2.0px;stroke-linecap:butt;stroke-linejoin:miter;stroke-opacity:1\"/>\n",
              "<path class=\"bond-1 atom-1 atom-2\" d=\"M 58.9,186.5 L 97.4,173.2\" style=\"fill:none;fill-rule:evenodd;stroke:#000000;stroke-width:2.0px;stroke-linecap:butt;stroke-linejoin:miter;stroke-opacity:1\"/>\n",
              "<path class=\"bond-2 atom-2 atom-3\" d=\"M 97.4,173.2 L 128.2,199.9\" style=\"fill:none;fill-rule:evenodd;stroke:#000000;stroke-width:2.0px;stroke-linecap:butt;stroke-linejoin:miter;stroke-opacity:1\"/>\n",
              "<path class=\"bond-3 atom-3 atom-4\" d=\"M 128.2,199.9 L 144.1,194.3\" style=\"fill:none;fill-rule:evenodd;stroke:#000000;stroke-width:2.0px;stroke-linecap:butt;stroke-linejoin:miter;stroke-opacity:1\"/>\n",
              "<path class=\"bond-3 atom-3 atom-4\" d=\"M 144.1,194.3 L 160.0,188.8\" style=\"fill:none;fill-rule:evenodd;stroke:#FF0000;stroke-width:2.0px;stroke-linecap:butt;stroke-linejoin:miter;stroke-opacity:1\"/>\n",
              "<path class=\"bond-4 atom-4 atom-5\" d=\"M 173.3,192.3 L 185.4,202.7\" style=\"fill:none;fill-rule:evenodd;stroke:#FF0000;stroke-width:2.0px;stroke-linecap:butt;stroke-linejoin:miter;stroke-opacity:1\"/>\n",
              "<path class=\"bond-4 atom-4 atom-5\" d=\"M 185.4,202.7 L 197.5,213.2\" style=\"fill:none;fill-rule:evenodd;stroke:#000000;stroke-width:2.0px;stroke-linecap:butt;stroke-linejoin:miter;stroke-opacity:1\"/>\n",
              "<path class=\"bond-5 atom-5 atom-6\" d=\"M 194.8,210.9 L 191.5,228.1\" style=\"fill:none;fill-rule:evenodd;stroke:#000000;stroke-width:2.0px;stroke-linecap:butt;stroke-linejoin:miter;stroke-opacity:1\"/>\n",
              "<path class=\"bond-5 atom-5 atom-6\" d=\"M 191.5,228.1 L 188.2,245.4\" style=\"fill:none;fill-rule:evenodd;stroke:#FF0000;stroke-width:2.0px;stroke-linecap:butt;stroke-linejoin:miter;stroke-opacity:1\"/>\n",
              "<path class=\"bond-5 atom-5 atom-6\" d=\"M 200.8,212.0 L 197.5,229.3\" style=\"fill:none;fill-rule:evenodd;stroke:#000000;stroke-width:2.0px;stroke-linecap:butt;stroke-linejoin:miter;stroke-opacity:1\"/>\n",
              "<path class=\"bond-5 atom-5 atom-6\" d=\"M 197.5,229.3 L 194.2,246.6\" style=\"fill:none;fill-rule:evenodd;stroke:#FF0000;stroke-width:2.0px;stroke-linecap:butt;stroke-linejoin:miter;stroke-opacity:1\"/>\n",
              "<path class=\"bond-6 atom-5 atom-7\" d=\"M 197.5,213.2 L 235.9,199.8\" style=\"fill:none;fill-rule:evenodd;stroke:#000000;stroke-width:2.0px;stroke-linecap:butt;stroke-linejoin:miter;stroke-opacity:1\"/>\n",
              "<path class=\"bond-7 atom-7 atom-8\" d=\"M 235.9,199.8 L 243.6,159.9\" style=\"fill:none;fill-rule:evenodd;stroke:#000000;stroke-width:2.0px;stroke-linecap:butt;stroke-linejoin:miter;stroke-opacity:1\"/>\n",
              "<path class=\"bond-7 atom-7 atom-8\" d=\"M 242.6,197.5 L 249.0,164.5\" style=\"fill:none;fill-rule:evenodd;stroke:#000000;stroke-width:2.0px;stroke-linecap:butt;stroke-linejoin:miter;stroke-opacity:1\"/>\n",
              "<path class=\"bond-8 atom-8 atom-9\" d=\"M 243.6,159.9 L 282.1,146.5\" style=\"fill:none;fill-rule:evenodd;stroke:#000000;stroke-width:2.0px;stroke-linecap:butt;stroke-linejoin:miter;stroke-opacity:1\"/>\n",
              "<path class=\"bond-9 atom-9 atom-10\" d=\"M 282.1,146.5 L 312.9,173.2\" style=\"fill:none;fill-rule:evenodd;stroke:#000000;stroke-width:2.0px;stroke-linecap:butt;stroke-linejoin:miter;stroke-opacity:1\"/>\n",
              "<path class=\"bond-9 atom-9 atom-10\" d=\"M 280.8,153.4 L 306.2,175.5\" style=\"fill:none;fill-rule:evenodd;stroke:#000000;stroke-width:2.0px;stroke-linecap:butt;stroke-linejoin:miter;stroke-opacity:1\"/>\n",
              "<path class=\"bond-10 atom-10 atom-11\" d=\"M 312.9,173.2 L 305.2,213.2\" style=\"fill:none;fill-rule:evenodd;stroke:#000000;stroke-width:2.0px;stroke-linecap:butt;stroke-linejoin:miter;stroke-opacity:1\"/>\n",
              "<path class=\"bond-11 atom-11 atom-12\" d=\"M 305.2,213.2 L 266.7,226.5\" style=\"fill:none;fill-rule:evenodd;stroke:#000000;stroke-width:2.0px;stroke-linecap:butt;stroke-linejoin:miter;stroke-opacity:1\"/>\n",
              "<path class=\"bond-11 atom-11 atom-12\" d=\"M 299.9,208.5 L 268.1,219.6\" style=\"fill:none;fill-rule:evenodd;stroke:#000000;stroke-width:2.0px;stroke-linecap:butt;stroke-linejoin:miter;stroke-opacity:1\"/>\n",
              "<path class=\"bond-12 atom-10 atom-13\" d=\"M 312.9,173.2 L 329.3,167.5\" style=\"fill:none;fill-rule:evenodd;stroke:#000000;stroke-width:2.0px;stroke-linecap:butt;stroke-linejoin:miter;stroke-opacity:1\"/>\n",
              "<path class=\"bond-12 atom-10 atom-13\" d=\"M 329.3,167.5 L 345.7,161.8\" style=\"fill:none;fill-rule:evenodd;stroke:#0000FF;stroke-width:2.0px;stroke-linecap:butt;stroke-linejoin:miter;stroke-opacity:1\"/>\n",
              "<path class=\"bond-13 atom-12 atom-7\" d=\"M 266.7,226.5 L 235.9,199.8\" style=\"fill:none;fill-rule:evenodd;stroke:#000000;stroke-width:2.0px;stroke-linecap:butt;stroke-linejoin:miter;stroke-opacity:1\"/>\n",
              "<path d=\"M 57.4,185.2 L 58.9,186.5 L 60.9,185.9\" style=\"fill:none;stroke:#000000;stroke-width:2.0px;stroke-linecap:butt;stroke-linejoin:miter;stroke-opacity:1;\"/>\n",
              "<path d=\"M 95.5,173.9 L 97.4,173.2 L 98.9,174.5\" style=\"fill:none;stroke:#000000;stroke-width:2.0px;stroke-linecap:butt;stroke-linejoin:miter;stroke-opacity:1;\"/>\n",
              "<path d=\"M 126.7,198.5 L 128.2,199.9 L 129.0,199.6\" style=\"fill:none;stroke:#000000;stroke-width:2.0px;stroke-linecap:butt;stroke-linejoin:miter;stroke-opacity:1;\"/>\n",
              "<path d=\"M 196.9,212.7 L 197.5,213.2 L 199.4,212.5\" style=\"fill:none;stroke:#000000;stroke-width:2.0px;stroke-linecap:butt;stroke-linejoin:miter;stroke-opacity:1;\"/>\n",
              "<path d=\"M 243.2,161.8 L 243.6,159.9 L 245.6,159.2\" style=\"fill:none;stroke:#000000;stroke-width:2.0px;stroke-linecap:butt;stroke-linejoin:miter;stroke-opacity:1;\"/>\n",
              "<path d=\"M 280.2,147.2 L 282.1,146.5 L 283.6,147.8\" style=\"fill:none;stroke:#000000;stroke-width:2.0px;stroke-linecap:butt;stroke-linejoin:miter;stroke-opacity:1;\"/>\n",
              "<path d=\"M 305.6,211.2 L 305.2,213.2 L 303.3,213.8\" style=\"fill:none;stroke:#000000;stroke-width:2.0px;stroke-linecap:butt;stroke-linejoin:miter;stroke-opacity:1;\"/>\n",
              "<path d=\"M 268.7,225.8 L 266.7,226.5 L 265.2,225.2\" style=\"fill:none;stroke:#000000;stroke-width:2.0px;stroke-linecap:butt;stroke-linejoin:miter;stroke-opacity:1;\"/>\n",
              "<path class=\"atom-4\" d=\"M 161.4 186.6 Q 161.4 183.8, 162.8 182.2 Q 164.1 180.7, 166.7 180.7 Q 169.2 180.7, 170.6 182.2 Q 172.0 183.8, 172.0 186.6 Q 172.0 189.4, 170.6 191.0 Q 169.2 192.5, 166.7 192.5 Q 164.1 192.5, 162.8 191.0 Q 161.4 189.4, 161.4 186.6 M 166.7 191.2 Q 168.4 191.2, 169.4 190.1 Q 170.3 188.9, 170.3 186.6 Q 170.3 184.3, 169.4 183.2 Q 168.4 182.0, 166.7 182.0 Q 164.9 182.0, 164.0 183.1 Q 163.0 184.3, 163.0 186.6 Q 163.0 188.9, 164.0 190.1 Q 164.9 191.2, 166.7 191.2 \" fill=\"#FF0000\"/>\n",
              "<path class=\"atom-6\" d=\"M 184.5 253.2 Q 184.5 250.4, 185.9 248.9 Q 187.2 247.3, 189.8 247.3 Q 192.3 247.3, 193.7 248.9 Q 195.1 250.4, 195.1 253.2 Q 195.1 256.0, 193.7 257.6 Q 192.3 259.2, 189.8 259.2 Q 187.2 259.2, 185.9 257.6 Q 184.5 256.0, 184.5 253.2 M 189.8 257.9 Q 191.5 257.9, 192.5 256.7 Q 193.4 255.5, 193.4 253.2 Q 193.4 250.9, 192.5 249.8 Q 191.5 248.6, 189.8 248.6 Q 188.0 248.6, 187.1 249.8 Q 186.1 250.9, 186.1 253.2 Q 186.1 255.5, 187.1 256.7 Q 188.0 257.9, 189.8 257.9 \" fill=\"#FF0000\"/>\n",
              "<path class=\"atom-13\" d=\"M 348.8 154.1 L 352.6 160.2 Q 353.0 160.8, 353.6 161.9 Q 354.2 163.0, 354.2 163.0 L 354.2 154.1 L 355.7 154.1 L 355.7 165.6 L 354.2 165.6 L 350.1 158.9 Q 349.6 158.1, 349.1 157.2 Q 348.6 156.3, 348.5 156.1 L 348.5 165.6 L 347.0 165.6 L 347.0 154.1 L 348.8 154.1 \" fill=\"#0000FF\"/>\n",
              "<path class=\"atom-13\" d=\"M 357.9 154.1 L 359.5 154.1 L 359.5 159.0 L 365.4 159.0 L 365.4 154.1 L 367.0 154.1 L 367.0 165.6 L 365.4 165.6 L 365.4 160.3 L 359.5 160.3 L 359.5 165.6 L 357.9 165.6 L 357.9 154.1 \" fill=\"#0000FF\"/>\n",
              "<path class=\"atom-13\" d=\"M 369.2 165.2 Q 369.5 164.5, 370.2 164.1 Q 370.8 163.7, 371.8 163.7 Q 372.9 163.7, 373.6 164.3 Q 374.2 164.9, 374.2 166.0 Q 374.2 167.1, 373.4 168.2 Q 372.5 169.3, 370.8 170.5 L 374.3 170.5 L 374.3 171.4 L 369.2 171.4 L 369.2 170.6 Q 370.6 169.6, 371.5 168.9 Q 372.3 168.1, 372.7 167.4 Q 373.1 166.8, 373.1 166.1 Q 373.1 165.3, 372.8 164.9 Q 372.4 164.5, 371.8 164.5 Q 371.2 164.5, 370.7 164.8 Q 370.3 165.0, 370.0 165.6 L 369.2 165.2 \" fill=\"#0000FF\"/>\n",
              "</svg>"
            ],
            "text/plain": [
              "<IPython.core.display.SVG object>"
            ]
          },
          "metadata": {},
          "output_type": "display_data"
        },
        {
          "data": {
            "image/png": "[encoded data removed]",
            "text/plain": [
              "<Figure size 450x50 with 2 Axes>"
            ]
          },
          "metadata": {},
          "output_type": "display_data"
        }
      ],
      "source": [
        "#8. CCCCOC(=O)C1=CC=C(C=C1)N\n",
        "smiles=\"CCCCOC(=O)C1=CC=C(C=C1)N\"\n",
        "colorAtomsByAttention(smiles)"
      ]
    }
  ],
  "metadata": {
    "colab": {
      "provenance": []
    },
    "kernelspec": {
      "display_name": "Python 3",
      "name": "python3"
    },
    "language_info": {
      "codemirror_mode": {
        "name": "ipython",
        "version": 3
      },
      "file_extension": ".py",
      "mimetype": "text/x-python",
      "name": "python",
      "nbconvert_exporter": "python",
      "pygments_lexer": "ipython3",
      "version": "3.10.14"
    }
  },
  "nbformat": 4,
  "nbformat_minor": 0
}
